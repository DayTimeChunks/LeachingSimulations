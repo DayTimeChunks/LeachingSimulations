{
 "cells": [
  {
   "cell_type": "markdown",
   "metadata": {},
   "source": [
    "START NOTEBOOK"
   ]
  },
  {
   "cell_type": "markdown",
   "metadata": {},
   "source": [
    "## Set-up "
   ]
  },
  {
   "cell_type": "code",
   "execution_count": 1,
   "metadata": {
    "collapsed": false
   },
   "outputs": [],
   "source": [
    "from hydroplots import *\n",
    "from leach_hydrology import *\n",
    "import numpy as np\n",
    "\n",
    "import mpld3\n",
    "# mpld3.enable_notebook()\n",
    "\n",
    "# Plot graphs within this document\n",
    "%matplotlib inline\n",
    "\n",
    "# Plot graphs outside (for interaction)\n",
    "# %matplotlib\n",
    "\n",
    "from pestmob import *\n",
    "from mixinglayer import *"
   ]
  },
  {
   "cell_type": "markdown",
   "metadata": {},
   "source": [
    "### Pesticide, soil type and runoff calibration parameter.  "
   ]
  },
  {
   "cell_type": "code",
   "execution_count": 2,
   "metadata": {
    "collapsed": true
   },
   "outputs": [],
   "source": [
    "# Soil and pesticide\n",
    "pesticide = 'Zinc'\n",
    "soil_type = 'Crop Soil'\n",
    "soil = 'Alteck'\n",
    "soil_short = 'Crop'\n",
    "\n",
    "pesti_obs = choose_pesticide(\n",
    "    pesticide,\n",
    "    soil)\n",
    "\n",
    "# Kd ranges to test\n",
    "Kd_pest_sterile = pesti_obs[0]\n",
    "Kd_pest_living = pesti_obs[1]\n",
    "\n",
    "# Initial concentrations and mass out observed\n",
    "pest_dict_S_1st = pesti_obs[2]\n",
    "pest_dict_L_1st = pesti_obs[3]\n",
    "pest_dict_S_2nd = pesti_obs[4]\n",
    "pest_dict_L_2nd = pesti_obs[5]\n",
    "\n",
    "# Assumed (used to calculate Reynolds number)\n",
    "runoff_vel = 10.0  # mm/min"
   ]
  },
  {
   "cell_type": "markdown",
   "metadata": {},
   "source": [
    "### Microcosm"
   ]
  },
  {
   "cell_type": "code",
   "execution_count": 3,
   "metadata": {
    "collapsed": true
   },
   "outputs": [],
   "source": [
    "d = (14.93 * 2)  # Diameter of falcon tube (mm)\n",
    "area = ((d / 2) ** 2) * 3.1416  # (mm2)\n",
    "soil_height1 = 20  # Mixing layer depth in mm\n",
    "soil_height2 = 20  # mm"
   ]
  },
  {
   "cell_type": "markdown",
   "metadata": {},
   "source": [
    "### Soil hydrological characteristics"
   ]
  },
  {
   "cell_type": "code",
   "execution_count": 4,
   "metadata": {
    "collapsed": true
   },
   "outputs": [],
   "source": [
    "if soil == 'Alteck':\n",
    "    kSat = 2.24  # mm/min (13.45 cm/h - Crop Soil) \n",
    "    psi = 1100  # soil suction Alteck (mm)\n",
    "elif soil == 'Rouff': \n",
    "    kSat = 17.62*10/60  # mm/min (17.62 cm/h - Vine Soil) \n",
    "    psi = 1100  # soil suction Alteck (mm)\n",
    "    \n",
    "# Soil characteristics (Equivalent for Alteck and Rouffach)\n",
    "# Initial bulk density options:\n",
    "pb_i0 = 0.99/10**3  # bulk density (g/cm^3) -> g/mm^3  (M. Trautmann)\n",
    "pb_i1 = 2.61/10**3 # inital 1st pulse, calc. from experiment cond.\n",
    "pb_i2 = 3.59/10**3 # initial 2nd pulse, calc. from experiment cond.\n",
    "\n",
    "# Final bulk density options (1st and 2nd pulses)\n",
    "pb_f1 = 3.59/10**3 # final1, calculated from experimental conditions.\n",
    "pb_f2 = 3.76/10**3 # final2, calculated from experimental conditions."
   ]
  },
  {
   "cell_type": "markdown",
   "metadata": {},
   "source": [
    "### Store results"
   ]
  },
  {
   "cell_type": "code",
   "execution_count": 5,
   "metadata": {
    "collapsed": false
   },
   "outputs": [],
   "source": [
    "output_hydro_params = {\n",
    "    soil_short : [{'R1_FA':[],\n",
    "              'R2_ALL':[],\n",
    "              'Err1':[{'Fresh':[], 'Aged':[]}],\n",
    "              'Err2':[{'SF':[], 'SA':[], 'LF':[], 'LA':[]}],\n",
    "              'Ksat2':[{'SF':[], 'SA':[], 'LF':[], 'LA':[]}]\n",
    "             }]\n",
    "    }"
   ]
  },
  {
   "cell_type": "code",
   "execution_count": 6,
   "metadata": {
    "collapsed": true
   },
   "outputs": [],
   "source": [
    "output_pesti_params = {\n",
    "    soil_short: {'R1': {'SF': None, 'SA': None, 'LF': None, 'LA': None},\n",
    "                 'R2': {'SF': None, 'SA': None, 'LF': None, 'LA': None},\n",
    "                 'Err1': {'SF': [], 'SA': [], 'LF': [], 'LA': []},\n",
    "                 'Err2': {'SF': [], 'SA': [], 'LF': [], 'LA': []},\n",
    "                 'Koc1': {'SF': None, 'SA': None, 'LF': None, 'LA': None},\n",
    "                 'Koc2': {'SF': None, 'SA': None, 'LF': None, 'LA': None},\n",
    "                 'logKd1': {'SF': None, 'SA': None, 'LF': None, 'LA': None},\n",
    "                 'logKd2': {'SF': None, 'SA': None, 'LF': None, 'LA': None}\n",
    "                 }\n",
    "}"
   ]
  },
  {
   "cell_type": "markdown",
   "metadata": {},
   "source": [
    "## Hydrology - 1st pulse"
   ]
  },
  {
   "cell_type": "markdown",
   "metadata": {},
   "source": [
    "#### Computation"
   ]
  },
  {
   "cell_type": "code",
   "execution_count": 7,
   "metadata": {
    "collapsed": false
   },
   "outputs": [
    {
     "name": "stdout",
     "output_type": "stream",
     "text": [
      "Mass balance True\n",
      "Mass balance 0.0\n",
      "Mass balance 0.0\n"
     ]
    }
   ],
   "source": [
    "water_data = leachsim(kSat = kSat,\n",
    "                      soil_height=soil_height1,\n",
    "                      soil = 'Alteck',\n",
    "                      psi=psi)"
   ]
  },
  {
   "cell_type": "code",
   "execution_count": 8,
   "metadata": {
    "collapsed": false
   },
   "outputs": [
    {
     "name": "stdout",
     "output_type": "stream",
     "text": [
      "FRESH\n",
      "--------------------------------------------\n",
      "ksat high:  13.440000000000001 cm/h\n",
      "ksat med12:  13.440000000000001 cm/h\n",
      "ksat med30:  13.440000000000001 cm/h\n",
      "ksat low:  13.440000000000001 cm/h\n",
      "--------------------------------------------\n",
      "R2:  0.967591161606\n",
      "--------------------------------------------\n",
      "Simulation error percent (%), by modality\n",
      "--------------------------------------------\n",
      "135 mm/h - 6min  -1.6576800421\n",
      "55 mm/h - 12min  3.80968602754\n",
      "55 mm/h - 30min  -4.16283710639\n",
      "30 mm/h - 30min  -21.305808952\n",
      "--------------------------------------------\n",
      "Mass balance:  True True True True\n"
     ]
    }
   ],
   "source": [
    "water_eval = leachsim2(\n",
    "    kSat = [kSat],\n",
    "    soil_height=soil_height1,\n",
    "    soil = 'Alteck',\n",
    "    isAGED = False,\n",
    "    isFirstCycle=True \n",
    ")\n",
    "\n",
    "output_hydro_params = extract_goodness(\n",
    "    water_eval,\n",
    "    output_hydro_params,\n",
    "    soil_short,\n",
    "    isFirstCycle = True,\n",
    "    isAGED = False)\n"
   ]
  },
  {
   "cell_type": "code",
   "execution_count": 9,
   "metadata": {
    "collapsed": false
   },
   "outputs": [
    {
     "name": "stdout",
     "output_type": "stream",
     "text": [
      "AGED\n",
      "--------------------------------------------\n",
      "ksat high:  13.440000000000001 cm/h\n",
      "ksat med12:  13.440000000000001 cm/h\n",
      "ksat med30:  13.440000000000001 cm/h\n",
      "ksat low:  13.440000000000001 cm/h\n",
      "--------------------------------------------\n",
      "R2:  0.942064837787\n",
      "--------------------------------------------\n",
      "Simulation error percent (%), by modality\n",
      "--------------------------------------------\n",
      "135 mm/h - 6min  -9.94976957607\n",
      "55 mm/h - 12min  -35.8910849727\n",
      "55 mm/h - 30min  -8.50907325802\n",
      "30 mm/h - 30min  -30.5302507367\n",
      "--------------------------------------------\n",
      "Mass balance:  True True True True\n"
     ]
    }
   ],
   "source": [
    "water_eval = leachsim2(\n",
    "    kSat = [kSat],\n",
    "    soil_height=soil_height1,\n",
    "    soil = 'Alteck',\n",
    "    isAGED = True,\n",
    "    isFirstCycle=True \n",
    ")\n",
    "\n",
    "output_hydro_params = extract_goodness(\n",
    "    water_eval,\n",
    "    output_hydro_params,\n",
    "    soil_short,\n",
    "    isFirstCycle = True,\n",
    "    isAGED = True)"
   ]
  },
  {
   "cell_type": "code",
   "execution_count": 10,
   "metadata": {
    "collapsed": true
   },
   "outputs": [],
   "source": [
    "title = \"Percolated Volume [mL] - \" + str(soil_type) + \"1st Pulse\""
   ]
  },
  {
   "cell_type": "code",
   "execution_count": 11,
   "metadata": {
    "collapsed": false
   },
   "outputs": [
    {
     "data": {
      "image/png": "[encoded data removed]",
      "text/plain": [
       "<matplotlib.figure.Figure at 0x84256d8>"
      ]
     },
     "metadata": {},
     "output_type": "display_data"
    }
   ],
   "source": [
    "extract_and_plothydro(\n",
    "    water_data,\n",
    "    \"Percolated at 135mm/h\", \"Percolated at 55mm/h\", \"Percolated at 30mm/h\", \"NA\",\n",
    "    title,\n",
    "    soil,\n",
    "    isFirstCycle = True,\n",
    "    isPercolation = True\n",
    ")"
   ]
  },
  {
   "cell_type": "code",
   "execution_count": 12,
   "metadata": {
    "collapsed": false
   },
   "outputs": [],
   "source": [
    "hydro1 = extract(\n",
    "    water_data, \n",
    "    isFirstCycle = True\n",
    ")\n",
    "\n",
    "percol_data1 = hydro1[0]\n",
    "runoff_data1 = hydro1[1]\n",
    "time_sizes1 = hydro1[2]"
   ]
  },
  {
   "cell_type": "markdown",
   "metadata": {},
   "source": [
    "## Transport - 1st pulse"
   ]
  },
  {
   "cell_type": "markdown",
   "metadata": {},
   "source": [
    "### Computation transport - 1st pulse"
   ]
  },
  {
   "cell_type": "markdown",
   "metadata": {},
   "source": [
    "#### Test factor X (Sterile)"
   ]
  },
  {
   "cell_type": "code",
   "execution_count": 13,
   "metadata": {
    "collapsed": true
   },
   "outputs": [],
   "source": [
    "x = 2"
   ]
  },
  {
   "cell_type": "code",
   "execution_count": 14,
   "metadata": {
    "collapsed": false
   },
   "outputs": [
    {
     "ename": "ValueError",
     "evalue": "not enough values to unpack (expected 6, got 3)",
     "output_type": "error",
     "traceback": [
      "\u001b[1;31m---------------------------------------------------------------------------\u001b[0m",
      "\u001b[1;31mValueError\u001b[0m                                Traceback (most recent call last)",
      "\u001b[1;32m<ipython-input-14-ec5e9cac8592>\u001b[0m in \u001b[0;36m<module>\u001b[1;34m()\u001b[0m\n\u001b[0;32m     11\u001b[0m     \u001b[0misFirstCycle\u001b[0m \u001b[1;33m=\u001b[0m \u001b[1;32mTrue\u001b[0m\u001b[1;33m,\u001b[0m\u001b[1;33m\u001b[0m\u001b[0m\n\u001b[0;32m     12\u001b[0m     \u001b[0misLiving\u001b[0m \u001b[1;33m=\u001b[0m \u001b[1;32mFalse\u001b[0m\u001b[1;33m,\u001b[0m\u001b[1;33m\u001b[0m\u001b[0m\n\u001b[1;32m---> 13\u001b[1;33m     KFILM = True)\n\u001b[0m\u001b[0;32m     14\u001b[0m \u001b[1;33m\u001b[0m\u001b[0m\n\u001b[0;32m     15\u001b[0m output_pesti_params = extract_goodness_pest(\n",
      "\u001b[1;32mD:\\Documents\\these_pablo\\Models\\Leaching\\LeachingSimulations\\pestmob.py\u001b[0m in \u001b[0;36mpest_linear_x\u001b[1;34m(Kd, x, pest_dict, pb_i, pb_f, percol_data, pond_data, time_sizes, area, soil_height, d, runoffvelocity, soil, isFirstCycle, isLiving, KFILM)\u001b[0m\n\u001b[0;32m    692\u001b[0m     \u001b[0mmasses\u001b[0m \u001b[1;33m=\u001b[0m \u001b[1;36m0\u001b[0m\u001b[1;33m\u001b[0m\u001b[0m\n\u001b[0;32m    693\u001b[0m     \u001b[1;32mfor\u001b[0m \u001b[0mindex\u001b[0m\u001b[1;33m,\u001b[0m \u001b[1;33m(\u001b[0m\u001b[0mname\u001b[0m\u001b[1;33m,\u001b[0m \u001b[1;33m(\u001b[0m\u001b[0mmass_i\u001b[0m\u001b[1;33m,\u001b[0m \u001b[0mleach_obs\u001b[0m\u001b[1;33m,\u001b[0m \u001b[0mpond_obs\u001b[0m\u001b[1;33m,\u001b[0m \u001b[0minitial_mass_error\u001b[0m\u001b[1;33m,\u001b[0m \u001b[0mleach_error\u001b[0m\u001b[1;33m,\u001b[0m \u001b[0mpond_error\u001b[0m\u001b[1;33m)\u001b[0m\u001b[1;33m)\u001b[0m\u001b[0;31m \u001b[0m\u001b[0;31m\\\u001b[0m\u001b[1;33m\u001b[0m\u001b[0m\n\u001b[1;32m--> 694\u001b[1;33m             \u001b[1;32min\u001b[0m \u001b[0menumerate\u001b[0m\u001b[1;33m(\u001b[0m\u001b[0msorted\u001b[0m\u001b[1;33m(\u001b[0m\u001b[0mpest_dict\u001b[0m\u001b[1;33m.\u001b[0m\u001b[0mitems\u001b[0m\u001b[1;33m(\u001b[0m\u001b[1;33m)\u001b[0m\u001b[1;33m)\u001b[0m\u001b[1;33m)\u001b[0m\u001b[1;33m:\u001b[0m\u001b[1;33m\u001b[0m\u001b[0m\n\u001b[0m\u001b[0;32m    695\u001b[0m         \u001b[1;31m# print (index, (name, (mass_i, leach_obs, pond_obs)))\u001b[0m\u001b[1;33m\u001b[0m\u001b[1;33m\u001b[0m\u001b[0m\n\u001b[0;32m    696\u001b[0m \u001b[1;33m\u001b[0m\u001b[0m\n",
      "\u001b[1;31mValueError\u001b[0m: not enough values to unpack (expected 6, got 3)"
     ]
    }
   ],
   "source": [
    "pest_sterile_1st = pest_linear_x(\n",
    "    Kd_pest_sterile,\n",
    "    x,\n",
    "    pest_dict_S_1st,          \n",
    "    pb_i1, pb_f1,\n",
    "    percol_data1, runoff_data1,\n",
    "    time_sizes1,\n",
    "    area, soil_height1, \n",
    "    d, runoff_vel,\n",
    "    soil,\n",
    "    isFirstCycle = True,\n",
    "    isLiving = False,\n",
    "    KFILM = True)\n",
    "\n",
    "output_pesti_params = extract_goodness_pest(\n",
    "        pest_sterile_1st,\n",
    "        output_pesti_params,\n",
    "        soil_short,\n",
    "        isLiving = False,\n",
    "        isFirstCycle = True)"
   ]
  },
  {
   "cell_type": "markdown",
   "metadata": {},
   "source": [
    "#### Test factor X (Living)"
   ]
  },
  {
   "cell_type": "code",
   "execution_count": null,
   "metadata": {
    "collapsed": true
   },
   "outputs": [],
   "source": [
    "x = 2"
   ]
  },
  {
   "cell_type": "code",
   "execution_count": null,
   "metadata": {
    "collapsed": false
   },
   "outputs": [],
   "source": [
    "pest_living_1st = pest_linear_x(\n",
    "    Kd_pest_living,\n",
    "    x,\n",
    "    pest_dict_L_1st,          \n",
    "    pb_i1, pb_f1,\n",
    "    percol_data1, percol_data1,\n",
    "    time_sizes1,\n",
    "    area, soil_height1, \n",
    "    d, runoff_vel,\n",
    "    soil,\n",
    "    KFILM = True,\n",
    "    isFirstCycle = True,\n",
    "    isLiving = True)\n",
    "\n",
    "\n",
    "output_pesti_params = extract_goodness_pest(\n",
    "        pest_living_1st,\n",
    "        output_pesti_params,\n",
    "        soil_short,\n",
    "        isLiving = True,\n",
    "        isFirstCycle = True)"
   ]
  },
  {
   "cell_type": "markdown",
   "metadata": {},
   "source": [
    "#### Time series"
   ]
  },
  {
   "cell_type": "code",
   "execution_count": null,
   "metadata": {
    "collapsed": false
   },
   "outputs": [],
   "source": [
    "data_stack = pest_sterile_1st['Data_stack']\n",
    "sterile1 = extract_pest(data_stack)\n",
    "\n",
    "mass_percol_sterile1 = sterile1[0]\n",
    "mass_pond_sterile1 = sterile1[1]"
   ]
  },
  {
   "cell_type": "code",
   "execution_count": null,
   "metadata": {
    "collapsed": false
   },
   "outputs": [],
   "source": [
    "data_stack = pest_living_1st['Data_stack']\n",
    "living1 = extract_pest(data_stack)\n",
    "\n",
    "mass_percol_living1 = living1[0]\n",
    "mass_pond_living1 = living1[1]"
   ]
  },
  {
   "cell_type": "markdown",
   "metadata": {},
   "source": [
    "## Plotting transport"
   ]
  },
  {
   "cell_type": "markdown",
   "metadata": {},
   "source": [
    "### Sterile (1st Pulse, Crop Soil)"
   ]
  },
  {
   "cell_type": "code",
   "execution_count": null,
   "metadata": {
    "collapsed": false
   },
   "outputs": [],
   "source": [
    "pestiplot_condition(\n",
    "    mass_percol_sterile1,\n",
    "    pest_dict_S_1st,\n",
    "    pesticide,\n",
    "    soil_type,\n",
    "    cycle = '1st pulse',\n",
    "    LEACH = True,\n",
    "    STERILE = True\n",
    ")"
   ]
  },
  {
   "cell_type": "markdown",
   "metadata": {},
   "source": [
    "### Living (1st Pulse, Crop Soil)"
   ]
  },
  {
   "cell_type": "code",
   "execution_count": null,
   "metadata": {
    "collapsed": false,
    "scrolled": true
   },
   "outputs": [],
   "source": [
    "pestiplot_condition(\n",
    "    mass_percol_living1,\n",
    "    pest_dict_L_1st,\n",
    "    pesticide,\n",
    "    soil_type,\n",
    "    cycle = '1st pulse',\n",
    "    LEACH = True,\n",
    "    STERILE = False\n",
    ")"
   ]
  },
  {
   "cell_type": "markdown",
   "metadata": {},
   "source": [
    "# Hydrology - 2nd pulse"
   ]
  },
  {
   "cell_type": "markdown",
   "metadata": {},
   "source": [
    "### Inverse Ksat determination \n",
    "\n",
    "Based on hisotric rainfall pattern, fresh and aged."
   ]
  },
  {
   "cell_type": "code",
   "execution_count": null,
   "metadata": {
    "collapsed": false
   },
   "outputs": [],
   "source": [
    "water2_ktest = leachsim3(\n",
    "    soil,\n",
    "    kSat = [\n",
    "        kSat/25, kSat/50,  kSat/75, \n",
    "        kSat/100, kSat/125, kSat/150, \n",
    "        kSat/175, kSat/200, kSat/250,\n",
    "        kSat/350, kSat/500, kSat/700, kSat/1000],\n",
    "    soil_height=soil_height2,\n",
    "    isFirstCycle = False\n",
    ")\n",
    "\n",
    "output_hydro_params = extract_goodness(\n",
    "    water2_ktest,\n",
    "    output_hydro_params,\n",
    "    soil_short,\n",
    "    isFirstCycle = False,\n",
    "    isAGED = None\n",
    ")"
   ]
  },
  {
   "cell_type": "markdown",
   "metadata": {},
   "source": [
    "### Percolation - 2nd pulse"
   ]
  },
  {
   "cell_type": "code",
   "execution_count": null,
   "metadata": {
    "collapsed": true
   },
   "outputs": [],
   "source": [
    "title = \"Percolated Volume [mL] - \" + str(soil_type) +  \" 2nd Pulse\""
   ]
  },
  {
   "cell_type": "code",
   "execution_count": null,
   "metadata": {
    "collapsed": false
   },
   "outputs": [],
   "source": [
    "extract_and_plothydro(\n",
    "    water2_ktest,\n",
    "    \"Leached, 135mm/h\", \"Leached, 55mm/h - A\", \"Leached, 55mm/h - B\", \"Leached, 30mm/h\",\n",
    "    title,\n",
    "    soil,\n",
    "    isFirstCycle = False,\n",
    "    isPercolation = True\n",
    ")"
   ]
  },
  {
   "cell_type": "markdown",
   "metadata": {},
   "source": [
    "### Ponding - 2nd pulse"
   ]
  },
  {
   "cell_type": "code",
   "execution_count": null,
   "metadata": {
    "collapsed": true
   },
   "outputs": [],
   "source": [
    "title = \"Ponded Volume [mL] [mL] - \" + str(soil_type) +  \" 2nd Pulse\""
   ]
  },
  {
   "cell_type": "code",
   "execution_count": null,
   "metadata": {
    "collapsed": false
   },
   "outputs": [],
   "source": [
    "extract_and_plothydro(\n",
    "    water2_ktest,\n",
    "    \"Ponded, 135mm/h\", \"Ponded, 55mm/h - A\", \"Ponded, 55mm/h - B\", \"Ponded, 30mm/h\",\n",
    "    title,\n",
    "    soil,\n",
    "    isFirstCycle = False,\n",
    "    isPercolation = False\n",
    ")"
   ]
  },
  {
   "cell_type": "code",
   "execution_count": null,
   "metadata": {
    "collapsed": false
   },
   "outputs": [],
   "source": [
    "hydro2 = extract(\n",
    "    water2_ktest,\n",
    "    isFirstCycle = False\n",
    ")\n",
    "percol_data2 = hydro2[0]\n",
    "runoff_data2 = hydro2[1]\n",
    "time_sizes2 = hydro2[2]"
   ]
  },
  {
   "cell_type": "markdown",
   "metadata": {},
   "source": [
    "## Transport - 2nd pulse"
   ]
  },
  {
   "cell_type": "markdown",
   "metadata": {},
   "source": [
    "### Computation transport - 2nd Pulse"
   ]
  },
  {
   "cell_type": "markdown",
   "metadata": {},
   "source": [
    "#### Kd optimal (sterile)"
   ]
  },
  {
   "cell_type": "code",
   "execution_count": null,
   "metadata": {
    "collapsed": true
   },
   "outputs": [],
   "source": [
    "x = 2"
   ]
  },
  {
   "cell_type": "code",
   "execution_count": null,
   "metadata": {
    "collapsed": false
   },
   "outputs": [],
   "source": [
    "pest_sterile_2nd = pest_linear_x(\n",
    "    Kd_pest_sterile,\n",
    "    x,\n",
    "    pest_dict_S_2nd,\n",
    "    pb_i2, pb_f2,\n",
    "    percol_data2, runoff_data2,\n",
    "    time_sizes2,\n",
    "    area, soil_height2,\n",
    "    d, runoff_vel,\n",
    "    soil = \"Alteck\",\n",
    "    isFirstCycle = False,\n",
    "    isLiving = False)\n",
    "\n",
    "output_pesti_params = extract_goodness_pest(\n",
    "        pest_sterile_2nd,\n",
    "        output_pesti_params,\n",
    "        soil_short,\n",
    "        isLiving = False,\n",
    "        isFirstCycle = False)"
   ]
  },
  {
   "cell_type": "markdown",
   "metadata": {},
   "source": [
    "#### Kd optimal (living)"
   ]
  },
  {
   "cell_type": "code",
   "execution_count": null,
   "metadata": {
    "collapsed": true
   },
   "outputs": [],
   "source": [
    "x = 2"
   ]
  },
  {
   "cell_type": "code",
   "execution_count": null,
   "metadata": {
    "collapsed": false
   },
   "outputs": [],
   "source": [
    "pest_living_2nd = pest_linear_x(\n",
    "    Kd_pest_living,\n",
    "    x,\n",
    "    pest_dict_L_2nd,          \n",
    "    pb_i1, pb_f1,\n",
    "    percol_data2, runoff_data2,\n",
    "    time_sizes1,\n",
    "    area, soil_height1, \n",
    "    d, runoff_vel,\n",
    "    soil = \"Alteck\",\n",
    "    KFILM = True,\n",
    "    isFirstCycle = False,\n",
    "    isLiving = True)\n",
    "\n",
    "output_pesti_params = extract_goodness_pest(\n",
    "        pest_living_2nd,\n",
    "        output_pesti_params,\n",
    "        soil_short,\n",
    "        isLiving = True,\n",
    "        isFirstCycle = False)"
   ]
  },
  {
   "cell_type": "markdown",
   "metadata": {},
   "source": [
    "#### Time series"
   ]
  },
  {
   "cell_type": "code",
   "execution_count": null,
   "metadata": {
    "collapsed": true
   },
   "outputs": [],
   "source": [
    "data_stack = pest_sterile_2nd['Data_stack']\n",
    "sterile2 = extract_pest(data_stack)\n",
    "\n",
    "data_stack = pest_living_2nd['Data_stack']\n",
    "living2 = extract_pest(data_stack)\n",
    "\n",
    "mass_percol_sterile2 = sterile2[0]\n",
    "mass_pond_sterile2 = sterile2[1]\n",
    "\n",
    "mass_percol_living2 = living2[0]\n",
    "mass_pond_living2 = living2[1]"
   ]
  },
  {
   "cell_type": "markdown",
   "metadata": {},
   "source": [
    "## Plotting transport "
   ]
  },
  {
   "cell_type": "markdown",
   "metadata": {},
   "source": [
    "### Sterile (2nd Pulse)"
   ]
  },
  {
   "cell_type": "code",
   "execution_count": null,
   "metadata": {
    "collapsed": false
   },
   "outputs": [],
   "source": [
    "pestiplot_condition(\n",
    "    mass_percol_sterile2,\n",
    "    pest_dict_S_2nd,\n",
    "    pesticide,\n",
    "    soil_type,\n",
    "    cycle = '2nd pulse',\n",
    "    LEACH = True,\n",
    "    STERILE = True\n",
    ")"
   ]
  },
  {
   "cell_type": "code",
   "execution_count": null,
   "metadata": {
    "collapsed": false
   },
   "outputs": [],
   "source": [
    "pestiplot_condition(\n",
    "    mass_pond_sterile2,\n",
    "    pest_dict_S_2nd,\n",
    "    pesticide,\n",
    "    soil_type,\n",
    "    cycle = '2nd pulse',\n",
    "    LEACH = False,\n",
    "    STERILE = True\n",
    ")"
   ]
  },
  {
   "cell_type": "markdown",
   "metadata": {},
   "source": [
    "### Living (2nd Pulse)"
   ]
  },
  {
   "cell_type": "code",
   "execution_count": null,
   "metadata": {
    "collapsed": false
   },
   "outputs": [],
   "source": [
    "pestiplot_condition(\n",
    "    mass_percol_living2,\n",
    "    pest_dict_L_2nd,\n",
    "    pesticide,\n",
    "    soil_type,\n",
    "    cycle = '2nd pulse',\n",
    "    LEACH = True,\n",
    "    STERILE = False\n",
    ")"
   ]
  },
  {
   "cell_type": "code",
   "execution_count": null,
   "metadata": {
    "collapsed": false
   },
   "outputs": [],
   "source": [
    "pestiplot_condition(\n",
    "    mass_pond_living2,\n",
    "    pest_dict_L_2nd,\n",
    "    pesticide,\n",
    "    soil_type,\n",
    "    cycle = '2nd pulse',\n",
    "    LEACH = False,\n",
    "    STERILE = False\n",
    ")"
   ]
  },
  {
   "cell_type": "code",
   "execution_count": null,
   "metadata": {
    "collapsed": true
   },
   "outputs": [],
   "source": [
    "import pprint"
   ]
  },
  {
   "cell_type": "code",
   "execution_count": null,
   "metadata": {
    "collapsed": false
   },
   "outputs": [],
   "source": [
    "pprint.pprint(output_hydro_params)"
   ]
  },
  {
   "cell_type": "code",
   "execution_count": null,
   "metadata": {
    "collapsed": false
   },
   "outputs": [],
   "source": [
    "pprint.pprint(output_pesti_params)"
   ]
  },
  {
   "cell_type": "markdown",
   "metadata": {},
   "source": [
    "END NOTEBOOK"
   ]
  }
 ],
 "metadata": {
  "anaconda-cloud": {},
  "kernelspec": {
   "display_name": "Python [Root]",
   "language": "python",
   "name": "Python [Root]"
  },
  "language_info": {
   "codemirror_mode": {
    "name": "ipython",
    "version": 3
   },
   "file_extension": ".py",
   "mimetype": "text/x-python",
   "name": "python",
   "nbconvert_exporter": "python",
   "pygments_lexer": "ipython3",
   "version": "3.5.2"
  }
 },
 "nbformat": 4,
 "nbformat_minor": 0
}
