{
 "cells": [
  {
   "cell_type": "markdown",
   "metadata": {},
   "source": [
    "### Copper - Crop (1st pulse)"
   ]
  },
  {
   "cell_type": "code",
   "execution_count": null,
   "metadata": {},
   "outputs": [],
   "source": [
    "# Initial mass\n",
    "mass_ini_sterile = (1627 + 1107) / float(2)  # all intensities:{0d, 10d)\n",
    "mass_ini_untreated = (1184 + 1177) / float(2)\n",
    "\n",
    "# Observed Cupper Output at 6min, 12min, 30min, 30min @ 135, 55, 55, 30mm/h\n",
    "cu_sol_sterile = np.array([11.29, 11.63, 306.80, 21.08])\n",
    "cu_sol_untreat = np.array([0.5, 1.405, 37.0, 1])\n",
    "\n",
    "cu_ini = [mass_ini_sterile, mass_ini_untreated]\n",
    "cu_sol = [cu_sol_sterile, cu_sol_untreat]"
   ]
  },
  {
   "cell_type": "code",
   "execution_count": null,
   "metadata": {},
   "outputs": [],
   "source": [
    "# Kd (Copper). Allison and Allison, 2005 - EPA/600/R-05/074: \n",
    "# log(Kd) range: 0.1 - 7.0, max-mean = 5.5\n",
    "\n",
    "Kd_copper1 = 10**0.1  # [mL/g] = [L/Kg] \n",
    "Kd_copper2 = 10**0.5  # [mL/g] = [L/Kg] \n",
    "Kd_copper3 = 10**0.6  # [mL/g] = [L/Kg] \n",
    "Kd_copper4 = 10**1.7  # [mL/g] = [L/Kg] \n",
    "Kd_copper5 = 10**2.7  # [mL/g] = [L/Kg]\n",
    "\n",
    "Kd_copper = [Kd_copper1, Kd_copper2, Kd_copper3, Kd_copper4, Kd_copper5]"
   ]
  },
  {
   "cell_type": "code",
   "execution_count": null,
   "metadata": {},
   "outputs": [
    {
     "ename": "TypeError",
     "evalue": "pest_test() missing 6 required positional arguments: 'soil_height', 'mass_ini', 'pest_sol_leach', 'pest_sol_pond', 'd', and 'runoffvelocity'",
     "output_type": "error",
     "traceback": [
      "\u001b[1;31m---------------------------------------------------------------------------\u001b[0m",
      "\u001b[1;31mTypeError\u001b[0m                                 Traceback (most recent call last)",
      "\u001b[1;32m<ipython-input-47-77efa2f06789>\u001b[0m in \u001b[0;36m<module>\u001b[1;34m()\u001b[0m\n\u001b[0;32m      6\u001b[0m                               \u001b[0marea\u001b[0m\u001b[1;33m,\u001b[0m \u001b[0msoil_height\u001b[0m\u001b[1;33m,\u001b[0m\u001b[1;33m\u001b[0m\u001b[0m\n\u001b[0;32m      7\u001b[0m                               \u001b[0mcu_ini\u001b[0m\u001b[1;33m,\u001b[0m\u001b[1;33m\u001b[0m\u001b[0m\n\u001b[1;32m----> 8\u001b[1;33m                               cu_sol)\n\u001b[0m",
      "\u001b[1;31mTypeError\u001b[0m: pest_test() missing 6 required positional arguments: 'soil_height', 'mass_ini', 'pest_sol_leach', 'pest_sol_pond', 'd', and 'runoffvelocity'"
     ]
    }
   ],
   "source": [
    "cum_copper_Alteck = pest_test(Kd_copper,\n",
    "                              intensities,\n",
    "                              pb_crop,\n",
    "                              ovSat_crop,\n",
    "                              percol_data1,\n",
    "                              area, soil_height,\n",
    "                              cu_ini,\n",
    "                              cu_sol)"
   ]
  },
  {
   "cell_type": "code",
   "execution_count": null,
   "metadata": {},
   "outputs": [],
   "source": [
    "pestiplot(cum_copper_Alteck, \n",
    "          cu_sol_sterile, cu_sol_untreat, \n",
    "          'Cumulative Cu - Annual Crop Soil')"
   ]
  },
  {
   "cell_type": "code",
   "execution_count": null,
   "metadata": {},
   "outputs": [],
   "source": [
    "#pestiplot_inst(cum_copper_Alteck, \n",
    "#               cu_sol_sterile, cu_sol_untreat, \n",
    "#               'Cu Leach Rate - Annual Crop Soil')"
   ]
  },
  {
   "cell_type": "markdown",
   "metadata": {},
   "source": [
    "### Zinc - Annual Crop"
   ]
  },
  {
   "cell_type": "code",
   "execution_count": null,
   "metadata": {},
   "outputs": [],
   "source": [
    "mass_ini_sterile = (3106 + 2594) / float(2) \n",
    "mass_ini_untreated = (2636 + 2586) / float(2)\n",
    "\n",
    "zn_ini = [mass_ini_sterile, mass_ini_untreated]"
   ]
  },
  {
   "cell_type": "code",
   "execution_count": null,
   "metadata": {},
   "outputs": [],
   "source": [
    "# Observed Zinc Output\n",
    "zn_sol_sterile = np.array([17, 17, 404.25, 30.13])\n",
    "zn_sol_untreat = np.array([2.19, 2, 36.85, 3.09])\n",
    "\n",
    "zn_sol = [zn_sol_sterile, zn_sol_untreat]"
   ]
  },
  {
   "cell_type": "code",
   "execution_count": null,
   "metadata": {},
   "outputs": [],
   "source": [
    "# Kd (Zinc) Allison and Allison, 2005 - EPA/600/R-05/074:  \n",
    "# log(Kd) range: 1.5 - 6.9\n",
    "Kd_zinc1 = 10**0.5  # [mL/g] = [L/Kg] \n",
    "Kd_zinc2 = 10**0.8\n",
    "Kd_zinc3 = 10**1.0\n",
    "Kd_zinc4 = 10**1.5\n",
    "\n",
    "Kd_zinc = [Kd_zinc1, Kd_zinc2, Kd_zinc3, Kd_zinc4]"
   ]
  },
  {
   "cell_type": "code",
   "execution_count": null,
   "metadata": {},
   "outputs": [],
   "source": [
    "cum_zinc_Alteck = pest_test(Kd_zinc,\n",
    "                            intensities,\n",
    "                            pb_crop,\n",
    "                            ovSat_crop,\n",
    "                            percol_data1,\n",
    "                            area, soil_height,\n",
    "                            zn_ini,\n",
    "                            zn_sol)"
   ]
  },
  {
   "cell_type": "code",
   "execution_count": null,
   "metadata": {},
   "outputs": [],
   "source": [
    "pestiplot(cum_zinc_Alteck, \n",
    "          zn_sol_sterile, zn_sol_untreat, \n",
    "          'Cumulative Zn - Annual Crop Soil')"
   ]
  },
  {
   "cell_type": "code",
   "execution_count": null,
   "metadata": {},
   "outputs": [],
   "source": [
    "#pestiplot_inst(cum_zinc_Alteck, \n",
    "#               zn_sol_sterile, zn_sol_untreat, \n",
    "#               'Zn Leach Rate - Annual Crop Soil')"
   ]
  },
  {
   "cell_type": "markdown",
   "metadata": {},
   "source": [
    "## Literature parameters\n",
    "\n",
    "### Retardation model ($K_d$)\n",
    "\n",
    "Source: Allisson and Allison, 2005 (EPA/600/R-05/074)\n",
    "\n",
    "| Metal (log $K_d$ [L/kg]$ | Soil/Water | Suspended Matter/ Water | Sediment/ Water | DOC/ Water |\n",
    "|--------------------------|------------|-------------------------|-----------------|------------|\n",
    "| Cu (mean)                | 2.7        | 4.7                     | 4.2             | 5.5        |\n",
    "| Zn (mean)                | 3.1        | 5.1                     | 3.7             | 4.9        |"
   ]
  }
 ],
 "metadata": {},
 "nbformat": 4,
 "nbformat_minor": 0
}
