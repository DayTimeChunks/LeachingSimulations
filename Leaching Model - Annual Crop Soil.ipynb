{
 "cells": [
  {
   "cell_type": "markdown",
   "metadata": {},
   "source": [
    "# Model Description\n",
    "\n",
    "A dissipation model was developed at the microcosm scale to estimate pesticide component dissipation in top-soil, i.e. degradation and leaching during infiltration. Partitioning between rainfall and runoff was determined using the Green-Ampt method (Green and Ampt, 1911; Mein and Larson, 1973). This simplification of the Richards equation (Richards, 1931) simulates overland flow when rainfall intensity overcomes the soil infiltration capacity. The retention and release of pesticide components in the top-soil was conceptualized using a mixing layer model (McGrath et al., 2008; Joyce et al., 2010). This approach assumes linear equilibrium sorption and adapts McGrath et al. (2008) by directly accounting for the leached volume such that:"
   ]
  },
  {
   "cell_type": "markdown",
   "metadata": {},
   "source": [
    "$$ C(t+t_r) = C(t) \\cdot exp\\big( \\frac{-V_{lch}}{ R~V_{H_2O} } \\big) $$"
   ]
  },
  {
   "cell_type": "markdown",
   "metadata": {},
   "source": [
    "$$ V_{lch} = h_{lch} \\pi r^2 $$\n",
    "\n",
    "$$ V_{H_2O} = \\pi \\cdot r^2 \\cdot zl \\cdot \\theta_{sat} $$\n",
    "\n",
    "$$ R = 1 + \\frac{\\rho_b K_d}{\\theta_{sat}} $$"
   ]
  },
  {
   "cell_type": "markdown",
   "metadata": {},
   "source": [
    "where $C$ is the concentration before $(t)$ and after $(t+ t_r)$ the leaching event, $(h_{lch})~[cm]$ is leached depth, $r~[cm]$ is the microcosm radius, $zl ~[cm]$ is the soil height and $\\theta_{sat} ~ [cm^3 cm^{-3}]$ the constant volumetric water content (saturated capacity).\n",
    "\n"
   ]
  },
  {
   "cell_type": "markdown",
   "metadata": {},
   "source": [
    "## Experimental set-up \n",
    "\n",
    "### Microcosm"
   ]
  },
  {
   "cell_type": "code",
   "execution_count": null,
   "metadata": {
    "collapsed": true
   },
   "outputs": [],
   "source": [
    "d = (14.93 * 2)  # Diameter of falcon tube (mm)\n",
    "area = ((d / 2) ** 2) * 3.1416  # (cm2)\n",
    "zl = soil_height = 30  # Mixing layer depth in mm"
   ]
  },
  {
   "cell_type": "markdown",
   "metadata": {},
   "source": [
    "### Soil Characteristics"
   ]
  },
  {
   "cell_type": "code",
   "execution_count": null,
   "metadata": {
    "collapsed": false
   },
   "outputs": [],
   "source": [
    "''' Hydrological controlling parameters'''\n",
    "# Alteck (Martine Trautmann, sampled pre-event)\n",
    "pb_crop = 0.99  # bulk density (g/cm^3) \n",
    "porosity_crop = 0.61  # Crop soil\n",
    "kSat_crop = 2.24  # mm/min (13.45 cm/h - Crop Soil)\n",
    "kSat_crop2 = kSat_crop/100 \n",
    "ov_1 = 0.25   # Initial water content m3. m-3\n",
    "ov_2 = 0.20   # Initial water content m3. m-3\n",
    "ovSat_crop = 0.45  # Saturated water content (assumed)\n",
    "psi_crop = 1100  # soil suction Alteck (mm)\n",
    "psi_crop2 = 617.0  # soil suction Alteck (mm)\n",
    "#  (Lefrancq, 2014: 61.7 cm , p.160; 110 cm, p.189)"
   ]
  },
  {
   "cell_type": "markdown",
   "metadata": {},
   "source": [
    "# Results\n",
    "\n",
    "## Hydrology"
   ]
  },
  {
   "cell_type": "code",
   "execution_count": null,
   "metadata": {
    "collapsed": true
   },
   "outputs": [],
   "source": [
    "from hydroplots import *\n",
    "from leach_hydrology import *\n",
    "\n",
    "# Plot graphs within this document\n",
    "%matplotlib inline \n",
    "import mpld3\n",
    "mpld3.enable_notebook()\n",
    "\n",
    "# Plot graphs outside (for interaction)\n",
    "# %matplotlib"
   ]
  },
  {
   "cell_type": "markdown",
   "metadata": {},
   "source": [
    "### Hydrology - Annual Crop Soil (1st pulse)"
   ]
  },
  {
   "cell_type": "code",
   "execution_count": null,
   "metadata": {
    "collapsed": false
   },
   "outputs": [],
   "source": [
    "water_data = leachsim(ovSat=ovSat_crop,\n",
    "                      kSat=kSat_crop,\n",
    "                      psi=psi_crop)\n",
    "\n",
    "\n",
    "cum_time_30min = water_data[:, 0]\n",
    "cum_inf_135mmh = water_data[:, 4]\n",
    "cum_inf_55mmh = water_data[:, 5]\n",
    "cum_inf_30mmh = water_data[:, 6]\n",
    "cum_leach_135mmh = water_data[:, 7]\n",
    "cum_leach_55mmh = water_data[:, 8]\n",
    "cum_leach_30mmh = water_data[:, 9]\n",
    "\n",
    "percol_data1 = stackdata3(cum_time_30min,\n",
    "                          cum_leach_135mmh, cum_leach_55mmh, cum_leach_30mmh)\n",
    "\n",
    "\"\"\" Observed Hydrlogy Annual Crop \"\"\"\n",
    "# all at 6 min, high inetnesity\n",
    "leach_high_6min = np.array([16.253, 12.958, 17.536, 14.29])  \n",
    "\n",
    "# all at 12 min, med intensity\n",
    "leach_med_12min = np.array([10.089, 5.902, 13.981, 10.602]) \n",
    "\n",
    "# all at 30min, med intensity\n",
    "leach_med_30min = np.array([49.197, 40.402, 45.772, 47.201])  \n",
    "\n",
    "# all at 30min, low intensity\n",
    "leach_low_30min = np.array([20.037, 17.508, 22.376, 20.085])  \n"
   ]
  },
  {
   "cell_type": "markdown",
   "metadata": {},
   "source": [
    "### Percolation Crop (1sr pulse)"
   ]
  },
  {
   "cell_type": "code",
   "execution_count": null,
   "metadata": {
    "collapsed": false
   },
   "outputs": [],
   "source": [
    "hydroplot(percol_data1, \n",
    "          \"Leached at 135mm/h\", \"Leached at 55mm/h\", \"Leached at 30mm/h\",\n",
    "          leach_high_6min, \n",
    "          leach_med_12min, leach_med_30min, \n",
    "          leach_low_30min)"
   ]
  },
  {
   "cell_type": "markdown",
   "metadata": {},
   "source": [
    "### Hydrology - Annual Crop Soil (2nd pulse)"
   ]
  },
  {
   "cell_type": "code",
   "execution_count": null,
   "metadata": {
    "collapsed": true
   },
   "outputs": [],
   "source": [
    "''' Hydrological controlling parameters'''\n",
    "# Alteck (Martine Trautmann, sampled pre-event)\n",
    "pb_crop = 0.99  # bulk density (g/cm^3) \n",
    "porosity_crop = 0.61  # Crop soil\n",
    "kSat_crop2 = kSat_crop/150 \n",
    "ov_1 = 0.25   # Initial water content m3. m-3\n",
    "ov_2 = 0.40  # Initial water content m3. m-3\n",
    "ovSat_crop = 0.45  # Saturated water content (assumed)\n",
    "psi_crop = 1100  # soil suction Alteck\n",
    "psi_crop2 = 617  # soil suction Alteck\n",
    "#  (Lefrancq, 2014: 61.7 cm , p.160; 110 cm, p.189)"
   ]
  },
  {
   "cell_type": "code",
   "execution_count": null,
   "metadata": {
    "collapsed": false
   },
   "outputs": [],
   "source": [
    "water_data2 = leachsim(dtGA = 1,\n",
    "                       ov=ov_2,\n",
    "                       ovSat=ovSat_crop,\n",
    "                       kSat=kSat_crop2,\n",
    "                       psi=psi_crop,\n",
    "                       soil_height=2.3)\n",
    "\n",
    "\n",
    "cum_time_30min = water_data2[:, 0]\n",
    "cum_inf_135mmh = water_data2[:, 4]\n",
    "cum_inf_55mmh = water_data2[:, 5]\n",
    "cum_inf_30mmh = water_data2[:, 6]\n",
    "cum_leach_135mmh = water_data2[:, 7]\n",
    "cum_leach_55mmh = water_data2[:, 8]\n",
    "cum_leach_30mmh = water_data2[:, 9]\n",
    "\n",
    "roff_135mmh = water_data2[:, 10]\n",
    "roff_55mmh = water_data2[:, 11]\n",
    "roff_30mmh = water_data2[:, 12]\n",
    "\n",
    "cum_roff_135mmh = water_data2[:, 13]\n",
    "cum_roff_55mmh = water_data2[:, 14]\n",
    "cum_roff_30mmh = water_data2[:, 15]\n",
    "\n",
    "\n",
    "percol_data2 = stackdata3(cum_time_30min,\n",
    "                          cum_leach_135mmh, cum_leach_55mmh, cum_leach_30mmh)\n",
    "\n",
    "runoff_data2 = stackdata3(cum_time_30min,\n",
    "                          cum_roff_135mmh, cum_roff_55mmh, cum_roff_30mmh)\n",
    "\n",
    "\"\"\" Observed Percolation Annual Crop \"\"\"\n",
    "\n",
    "# [sterile, untreat, sterile_aged, untreat_aged]\n",
    "# all at 6 min, high inetnesity\n",
    "leach_high_6min = np.array([14.192, 8.245, 2.410, 5.469]) \n",
    "\n",
    "\n",
    "# all at 12 min, med intensity\n",
    "leach_med_12min = np.array([18.672, 19.0, 0.830, 11.407]) \n",
    "\n",
    "# all at 30min, med intensity\n",
    "leach_med_30min = np.array([12.697, 2.473, 3.52, 20.291])  \n",
    "\n",
    "# all at 30min, low intensity\n",
    "leach_low_30min = np.array([29.656, 9.375, 0.409, 3.385])  \n",
    "\n"
   ]
  },
  {
   "cell_type": "markdown",
   "metadata": {},
   "source": [
    "### Percolation Crop (2nd pulse)"
   ]
  },
  {
   "cell_type": "code",
   "execution_count": null,
   "metadata": {
    "collapsed": false
   },
   "outputs": [],
   "source": [
    "hydroplot(percol_data2, \n",
    "          \"Leached at 135mm/h\", \"Leached at 55mm/h\", \"Leached at 30mm/h\",\n",
    "          leach_high_6min, \n",
    "          leach_med_12min, leach_med_30min, \n",
    "          leach_low_30min)"
   ]
  },
  {
   "cell_type": "markdown",
   "metadata": {},
   "source": [
    "### Run-off Crop (2nd pulse only)"
   ]
  },
  {
   "cell_type": "code",
   "execution_count": null,
   "metadata": {
    "collapsed": false
   },
   "outputs": [],
   "source": [
    "\"\"\" Observed Run-off Annual Crop \"\"\"\n",
    "\n",
    "# [sterile, untreat, sterile_aged, untreat_aged]\n",
    "# all at 6 min, high inetnesity\n",
    "roff_high_6min = np.array([10.824, 20.935, 24.75, 19.041])  \n",
    "\n",
    "# all at 12 min, med intensity\n",
    "roff_med_12min = np.array([0, 3.907, 19.436, 7.313]) \n",
    "\n",
    "# all at 30min, med intensity\n",
    "roff_med_30min = np.array([43.764, 28.911, 51.964, 33.478])  \n",
    "\n",
    "# all at 30min, low intensity\n",
    "roff_low_30min = np.array([0, 22.618, 28.598, 27.314])  \n",
    "\n",
    "\n",
    "hydroplot(runoff_data2, \n",
    "          \"Ponding at 135mm/h\", \"Ponding at 55mm/h\", \"Ponding at 30mm/h\",\n",
    "          roff_high_6min, \n",
    "          roff_med_12min, roff_med_30min, \n",
    "          roff_low_30min)\n"
   ]
  },
  {
   "cell_type": "markdown",
   "metadata": {},
   "source": [
    "## Contaminants - Crop Soil"
   ]
  },
  {
   "cell_type": "code",
   "execution_count": null,
   "metadata": {
    "collapsed": true
   },
   "outputs": [],
   "source": [
    "from pestmob import *\n",
    "from mixinglayer import *"
   ]
  },
  {
   "cell_type": "markdown",
   "metadata": {},
   "source": [
    "### Metalaxyl - Crop Soil (1st pulse)"
   ]
  },
  {
   "cell_type": "code",
   "execution_count": null,
   "metadata": {
    "collapsed": true
   },
   "outputs": [],
   "source": [
    "# Initial mass\n",
    "mx_ini_sterile = (1818.1+1472.7) / float(2)  \n",
    "mx_ini_untreated = (1518.1+1413.3) / float(2)  \n",
    "\n",
    "# Observed Metalaxyl Output - Crop\n",
    "# high, med-12, med-30, low\n",
    "mx_obs_sterile_crop = np.array([(138.1+207.1)/2.0,\n",
    "                                (201.0+50.4)/2.0, (641.8+356.8)/2.0,\n",
    "                                (177.0+293.5)/2.0])  \n",
    "mx_obs_untreat_crop = np.array([(145.4+283.5)/2.0,\n",
    "                                (158.4+262.3)/2.0, (674.9+360.2)/2.0,\n",
    "                                (418.2+480.9)/2.0])\n",
    "\n",
    "mx_sol = [mx_obs_sterile_crop, mx_obs_untreat_crop]"
   ]
  },
  {
   "cell_type": "code",
   "execution_count": null,
   "metadata": {
    "collapsed": false
   },
   "outputs": [],
   "source": [
    "# Soil characteristics (defined above)\n",
    "fom_crop_sterile = 3.87/100.0\n",
    "fom_crop_untreat = 5.51/100.0\n",
    "foc_crop_sterile = 0.58*fom_crop_sterile\n",
    "foc_crop_untreat = 0.58*fom_crop_untreat\n",
    "\n",
    "# Soil characteristics (OC Black & Walkley)\n",
    "foc_crop_untreat2 = 2.04/100\n",
    "foc_crop_sterile2 = 0.70*foc_crop_untreat2\n",
    "\n",
    "# Pesticide Koc \n",
    "Koc_mexyl = [163.0, 50.0, 30]  # [(a) , (b), (c)] [ml/g] \n",
    "\n",
    "# Kd (a) - NPIC @ http://npic.orst.edu/ingred/ppdmove.htm\n",
    "Kd_mexylA_crop_sterile = Koc_mexyl[0]*foc_crop_sterile  # ml/g\n",
    "Kd_mexylA_crop_untreat = Koc_mexyl[0]*foc_crop_untreat\n",
    "\n",
    "# Kd (b) - PAN @ http://www.pesticideinfo.org/\n",
    "Kd_mexylB_crop_sterile = Koc_mexyl[1]*foc_crop_sterile  # ml/g\n",
    "Kd_mexylB_crop_untreat = Koc_mexyl[1]*foc_crop_untreat\n",
    "\n",
    "# Kd (c) - https://toxnet.nlm.nih.gov/cgi-bin/sis/search/a?dbs+hsdb:@term+@DOCNO+7061\n",
    "Kd_mexylC_crop_sterile = Koc_mexyl[2]*foc_crop_sterile  # ml/g\n",
    "Kd_mexylC_crop_untreat = Koc_mexyl[2]*foc_crop_untreat\n",
    "\n",
    "Kd_mexyl = [Kd_mexylA_crop_sterile, Kd_mexylA_crop_untreat, \n",
    "            Kd_mexylB_crop_sterile, Kd_mexylB_crop_untreat,\n",
    "            Kd_mexylC_crop_sterile, Kd_mexylC_crop_untreat]\n",
    "\n",
    "mx_ini = [mx_ini_sterile, mx_ini_untreated]\n",
    "\n",
    "cum_mx_crop = pest_test(Kd_mexyl,\n",
    "                        pb_crop,\n",
    "                        ovSat_crop,\n",
    "                        percol_data1,\n",
    "                        area, soil_height,\n",
    "                        mx_ini, \n",
    "                        mx_sol)"
   ]
  },
  {
   "cell_type": "code",
   "execution_count": null,
   "metadata": {
    "collapsed": false
   },
   "outputs": [],
   "source": [
    "pestiplot(cum_mx_crop, \n",
    "          mx_obs_sterile_crop, mx_obs_untreat_crop, \n",
    "          'Cumulative Metalaxyl - Annual Crop Soil')"
   ]
  },
  {
   "cell_type": "markdown",
   "metadata": {},
   "source": [
    "Uncomment the following line to see leaching rate for metalaxyl during the first pulse. "
   ]
  },
  {
   "cell_type": "code",
   "execution_count": null,
   "metadata": {
    "collapsed": false
   },
   "outputs": [],
   "source": [
    "# pestiplot_inst(cum_mx_crop, \n",
    "#               mx_obs_sterile_crop, mx_obs_untreat_crop, \n",
    "#               'Metalaxyl Leaching Rate - Annual Crop Soil')"
   ]
  },
  {
   "cell_type": "markdown",
   "metadata": {},
   "source": [
    "### Metalaxyl - Crop Soil (2nd pulse)"
   ]
  },
  {
   "cell_type": "code",
   "execution_count": null,
   "metadata": {
    "collapsed": true
   },
   "outputs": [],
   "source": [
    "# Initial mass\n",
    "mx_ini_sterile_list = [1496.75, 1440.72, 1047.95, 1462.08, # 0 days\n",
    "                       1127.52, 1267.11, 994.09, 1050.48] # 10 days\n",
    "\n",
    "mx_ini_untreat_list = [1222.86, 1211.28, 751.13, 979.82,  # 0 days\n",
    "                       1006.54, 1025.43, 938.23, 830.68]  # 10 days\n",
    "                       \n",
    "mx_ini_sterile = sum(mx_ini_sterile_list) / len(mx_ini_sterile_list)  \n",
    "mx_ini_untreated = sum(mx_ini_untreat_list) / len(mx_ini_untreat_list)  \n",
    "\n",
    "\n",
    "mx_ini = [mx_ini_sterile, mx_ini_untreated]\n",
    "\n",
    "# Observed Metalaxyl Output - Crop\n",
    "# high, med-12, med-30, low\n",
    "mx_obs_sterile_crop = np.array([(8.35 + 37.57)/2.0,\n",
    "                                (290.27)/1.0, (93.29+82.15)/2.0,\n",
    "                                (285.29)/1.0])  \n",
    "\n",
    "\n",
    "mx_obs_untreat_crop = np.array([(175.44+40.03)/2.0,\n",
    "                                (272.48+168.51)/2.0, (35.12+146.10)/2.0,\n",
    "                                (86.01+76.49)/2.0])\n",
    "\n",
    "mx_sol = [mx_obs_sterile_crop, mx_obs_untreat_crop]"
   ]
  },
  {
   "cell_type": "markdown",
   "metadata": {},
   "source": [
    "..to do: Percolation and Runoff"
   ]
  },
  {
   "cell_type": "code",
   "execution_count": null,
   "metadata": {
    "collapsed": true
   },
   "outputs": [],
   "source": []
  },
  {
   "cell_type": "code",
   "execution_count": null,
   "metadata": {
    "collapsed": true
   },
   "outputs": [],
   "source": []
  },
  {
   "cell_type": "code",
   "execution_count": null,
   "metadata": {
    "collapsed": true
   },
   "outputs": [],
   "source": []
  },
  {
   "cell_type": "markdown",
   "metadata": {},
   "source": [
    "### S-metolachlor - Crop (1st pulse)"
   ]
  },
  {
   "cell_type": "code",
   "execution_count": null,
   "metadata": {
    "collapsed": false
   },
   "outputs": [],
   "source": [
    "# Initial mass, all intensities\n",
    "mr_ini_sterile = (5176.9+4213.1)/float(2)  \n",
    "mr_ini_untreated = (3460.8+2832.7)/float(2) \n",
    "\n",
    "# Observed Metolachlor Output - Crop\n",
    "# high-6, med-12, med-30, low-30\n",
    "mr_obs_sterile_crop = np.array([(65.7+77.7)/2.0,\n",
    "                                (79.5+16.9)/2.0, (327.4+153.4)/2.0,\n",
    "                                (70.9+110.7)/2.0])  \n",
    "mr_obs_untreat_crop = np.array([(53.5+89.2)/2.0,\n",
    "                                (49.4+70.5)/2.0, (281.7+116.4)/2.0,\n",
    "                                (142.7+127.2)/2.0])\n",
    "\n",
    "mr_ini = [mr_ini_sterile, mr_ini_untreated]\n",
    "mr_sol = [mr_obs_sterile_crop, mr_obs_untreat_crop]"
   ]
  },
  {
   "cell_type": "code",
   "execution_count": null,
   "metadata": {
    "collapsed": true
   },
   "outputs": [],
   "source": [
    "# Soil characteristics (defined above)\n",
    "fom_crop_sterile = 3.87/100.0\n",
    "fom_crop_untreat = 5.51/100.0\n",
    "foc_crop_sterile = 0.58*fom_crop_sterile\n",
    "foc_crop_untreat = 0.58*fom_crop_untreat\n",
    "\n",
    "# Koc Ranges (EU COmmision SANCO/1426/2001 - rev. 3. 4 October 2004)\n",
    "Koc_smeto = [369, 200, 110, 21]  # [ml/g]\n",
    "\n",
    "# Kd (S-metolachlor)\n",
    "Kd_smeto_crop_sterile1 = Koc_smeto[0]*foc_crop_sterile  # ml/g\n",
    "Kd_smeto_crop_untreat1 = Koc_smeto[0]*foc_crop_untreat\n",
    "Kd_smeto_crop_sterile2 = Koc_smeto[1]*foc_crop_sterile  # ml/g\n",
    "Kd_smeto_crop_untreat2 = Koc_smeto[1]*foc_crop_untreat \n",
    "Kd_smeto_crop_sterile3 = Koc_smeto[2]*foc_crop_sterile  # ml/g\n",
    "Kd_smeto_crop_untreat3 = Koc_smeto[2]*foc_crop_untreat \n",
    "Kd_smeto_crop_sterile4 = Koc_smeto[3]*foc_crop_sterile  # ml/g\n",
    "Kd_smeto_crop_untreat4 = Koc_smeto[3]*foc_crop_untreat \n",
    "\n",
    "Kd_smeto = [Kd_smeto_crop_sterile1, Kd_smeto_crop_untreat1, \n",
    "            Kd_smeto_crop_sterile2, Kd_smeto_crop_untreat2, \n",
    "            Kd_smeto_crop_sterile3, Kd_smeto_crop_untreat3, \n",
    "            Kd_smeto_crop_sterile4, Kd_smeto_crop_untreat4]\n"
   ]
  },
  {
   "cell_type": "code",
   "execution_count": null,
   "metadata": {
    "collapsed": false
   },
   "outputs": [],
   "source": [
    "cum_mr_crop = pest_test(Kd_smeto,\n",
    "                        pb_crop,\n",
    "                        ovSat_crop,\n",
    "                        percol_data1,\n",
    "                        area, soil_height,\n",
    "                        mr_ini,\n",
    "                        mr_sol)\n",
    "\n",
    "pestiplot(cum_mr_crop, \n",
    "          mr_obs_sterile_crop, mr_obs_untreat_crop, \n",
    "          'Cumulative S-metolachlor - Annual Crop Soil')\n"
   ]
  },
  {
   "cell_type": "markdown",
   "metadata": {},
   "source": [
    "Uncomment the following line to see leaching rate for S-metolachlor during the first pulse. "
   ]
  },
  {
   "cell_type": "code",
   "execution_count": null,
   "metadata": {
    "collapsed": false
   },
   "outputs": [],
   "source": [
    "# pestiplot_inst(cum_mr_crop, \n",
    "#               mr_obs_sterile_crop, mr_obs_untreat_crop, \n",
    "#               'S-metolachlor Leaching Rate - Annual Crop Soil')"
   ]
  },
  {
   "cell_type": "markdown",
   "metadata": {},
   "source": [
    "### Copper - Crop (1st pulse)"
   ]
  },
  {
   "cell_type": "code",
   "execution_count": null,
   "metadata": {
    "collapsed": true
   },
   "outputs": [],
   "source": [
    "# Initial mass\n",
    "mass_ini_sterile = (1627 + 1107) / float(2)  # all intensities:{0d, 10d)\n",
    "mass_ini_untreated = (1184 + 1177) / float(2)\n",
    "\n",
    "# Observed Cupper Output at 6min, 12min, 30min, 30min @ 135, 55, 55, 30mm/h\n",
    "cu_sol_sterile = np.array([11.29, 11.63, 306.80, 21.08])\n",
    "cu_sol_untreat = np.array([0.5, 1.405, 37.0, 1])\n",
    "\n",
    "cu_ini = [mass_ini_sterile, mass_ini_untreated]\n",
    "cu_sol = [cu_sol_sterile, cu_sol_untreat]"
   ]
  },
  {
   "cell_type": "code",
   "execution_count": null,
   "metadata": {
    "collapsed": true
   },
   "outputs": [],
   "source": [
    "# Kd (Copper). Allison and Allison, 2005 - EPA/600/R-05/074: \n",
    "# log(Kd) range: 0.1 - 7.0, max-mean = 5.5\n",
    "\n",
    "Kd_copper1 = 10**0.1  # [mL/g] = [L/Kg] \n",
    "Kd_copper2 = 10**0.5  # [mL/g] = [L/Kg] \n",
    "Kd_copper3 = 10**0.6  # [mL/g] = [L/Kg] \n",
    "Kd_copper4 = 10**1.7  # [mL/g] = [L/Kg] \n",
    "Kd_copper5 = 10**2.7  # [mL/g] = [L/Kg]\n",
    "\n",
    "Kd_copper = [Kd_copper1, Kd_copper2, Kd_copper3, Kd_copper4, Kd_copper5]"
   ]
  },
  {
   "cell_type": "code",
   "execution_count": null,
   "metadata": {
    "collapsed": false
   },
   "outputs": [],
   "source": [
    "cum_copper_Alteck = pest_test(Kd_copper,\n",
    "                              pb_crop,\n",
    "                              ovSat_crop,\n",
    "                              percol_data1,\n",
    "                              area, soil_height,\n",
    "                              cu_ini,\n",
    "                              cu_sol)"
   ]
  },
  {
   "cell_type": "code",
   "execution_count": null,
   "metadata": {
    "collapsed": false
   },
   "outputs": [],
   "source": [
    "pestiplot(cum_copper_Alteck, \n",
    "          cu_sol_sterile, cu_sol_untreat, \n",
    "          'Cumulative Cu - Annual Crop Soil')"
   ]
  },
  {
   "cell_type": "code",
   "execution_count": null,
   "metadata": {
    "collapsed": false
   },
   "outputs": [],
   "source": [
    "#pestiplot_inst(cum_copper_Alteck, \n",
    "#               cu_sol_sterile, cu_sol_untreat, \n",
    "#               'Cu Leach Rate - Annual Crop Soil')"
   ]
  },
  {
   "cell_type": "markdown",
   "metadata": {},
   "source": [
    "### Zinc - Annual Crop"
   ]
  },
  {
   "cell_type": "code",
   "execution_count": null,
   "metadata": {
    "collapsed": true
   },
   "outputs": [],
   "source": [
    "mass_ini_sterile = (3106 + 2594) / float(2) \n",
    "mass_ini_untreated = (2636 + 2586) / float(2)\n",
    "\n",
    "zn_ini = [mass_ini_sterile, mass_ini_untreated]"
   ]
  },
  {
   "cell_type": "code",
   "execution_count": null,
   "metadata": {
    "collapsed": true
   },
   "outputs": [],
   "source": [
    "# Observed Zinc Output\n",
    "zn_sol_sterile = np.array([17, 17, 404.25, 30.13])\n",
    "zn_sol_untreat = np.array([2.19, 2, 36.85, 3.09])\n",
    "\n",
    "zn_sol = [zn_sol_sterile, zn_sol_untreat]"
   ]
  },
  {
   "cell_type": "code",
   "execution_count": null,
   "metadata": {
    "collapsed": true
   },
   "outputs": [],
   "source": [
    "# Kd (Zinc) Allison and Allison, 2005 - EPA/600/R-05/074:  \n",
    "# log(Kd) range: 1.5 - 6.9\n",
    "Kd_zinc1 = 10**0.5  # [mL/g] = [L/Kg] \n",
    "Kd_zinc2 = 10**0.8\n",
    "Kd_zinc3 = 10**1.0\n",
    "Kd_zinc4 = 10**1.5\n",
    "\n",
    "Kd_zinc = [Kd_zinc1, Kd_zinc2, Kd_zinc3, Kd_zinc4]"
   ]
  },
  {
   "cell_type": "code",
   "execution_count": null,
   "metadata": {
    "collapsed": false
   },
   "outputs": [],
   "source": [
    "cum_zinc_Alteck = pest_test(Kd_zinc,\n",
    "                            pb_crop,\n",
    "                            ovSat_crop,\n",
    "                            percol_data1,\n",
    "                            area, soil_height,\n",
    "                            zn_ini,\n",
    "                            zn_sol)"
   ]
  },
  {
   "cell_type": "code",
   "execution_count": null,
   "metadata": {
    "collapsed": false
   },
   "outputs": [],
   "source": [
    "pestiplot(cum_zinc_Alteck, \n",
    "          zn_sol_sterile, zn_sol_untreat, \n",
    "          'Cumulative Zn - Annual Crop Soil')"
   ]
  },
  {
   "cell_type": "code",
   "execution_count": null,
   "metadata": {
    "collapsed": false
   },
   "outputs": [],
   "source": [
    "#pestiplot_inst(cum_zinc_Alteck, \n",
    "#               zn_sol_sterile, zn_sol_untreat, \n",
    "#               'Zn Leach Rate - Annual Crop Soil')"
   ]
  },
  {
   "cell_type": "markdown",
   "metadata": {},
   "source": [
    "## Literature parameters\n",
    "\n",
    "### Retardation model ($K_d$)\n",
    "\n",
    "Source: Allisson and Allison, 2005 (EPA/600/R-05/074)\n",
    "\n",
    "| Metal (log $K_d$ [L/kg]$ | Soil/Water | Suspended Matter/ Water | Sediment/ Water | DOC/ Water |\n",
    "|--------------------------|------------|-------------------------|-----------------|------------|\n",
    "| Cu (mean)                | 2.7        | 4.7                     | 4.2             | 5.5        |\n",
    "| Zn (mean)                | 3.1        | 5.1                     | 3.7             | 4.9        |"
   ]
  }
 ],
 "metadata": {
  "anaconda-cloud": {},
  "kernelspec": {
   "display_name": "Python [Root]",
   "language": "python",
   "name": "Python [Root]"
  },
  "language_info": {
   "codemirror_mode": {
    "name": "ipython",
    "version": 3
   },
   "file_extension": ".py",
   "mimetype": "text/x-python",
   "name": "python",
   "nbconvert_exporter": "python",
   "pygments_lexer": "ipython3",
   "version": "3.5.2"
  }
 },
 "nbformat": 4,
 "nbformat_minor": 0
}
