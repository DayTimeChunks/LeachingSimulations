{
 "cells": [
  {
   "cell_type": "code",
   "execution_count": 1,
   "metadata": {
    "collapsed": false
   },
   "outputs": [],
   "source": [
    "import io, sys\n",
    "import nbformat as nb\n",
    "import nbformat.v4.nbbase as nb4"
   ]
  },
  {
   "cell_type": "code",
   "execution_count": 2,
   "metadata": {
    "collapsed": false
   },
   "outputs": [],
   "source": [
    "#Are we in a notebook segment?\n",
    "innb=False\n",
    " \n",
    "#Quick and dirty count of notebooks\n",
    "c=1\n",
    " \n",
    "#The monolithic notebook is the content ex of the separate notebook content\n",
    "monolith=nb4.new_notebook()"
   ]
  },
  {
   "cell_type": "code",
   "execution_count": 3,
   "metadata": {
    "collapsed": false
   },
   "outputs": [],
   "source": [
    "#Load the original doc in\n",
    "mynb=nb.read('Metalaxyl Crop Soil 4 Rainfall Patterns.ipynb', nb.NO_CONVERT)\n",
    "\n",
    "#For each cell in the original doc:\n",
    "for i in mynb['cells']:\n",
    "    if (i['cell_type']=='markdown'):\n",
    "        #See if we can stop a standalone notebook code delimiter\n",
    "        if ('START NOTEBOOK' in i['source']):\n",
    "            #At the start of a block, create a new notebook\n",
    "            innb=True\n",
    "            test=nb4.new_notebook()\n",
    "        elif ('END NOTEBOOK' in i['source']):\n",
    "            #At the end of the block, save the code to a new standalone notebook file\n",
    "            innb=False\n",
    "            nb.write(test,'test{}.ipynb'.format(c))\n",
    "            c=c+1\n",
    "        elif (innb):\n",
    "            test.cells.append(nb4.new_markdown_cell(i['source']))\n",
    "        else:\n",
    "            monolith.cells.append(nb4.new_markdown_cell(i['source']))\n",
    "    elif (i['cell_type']=='code'):\n",
    "        #For the code cells, preserve any output text\n",
    "        cc=nb4.new_code_cell(i['source'])\n",
    "        for o in i['outputs']:\n",
    "            cc['outputs'].append(o)\n",
    "        #Route the code cell as required...\n",
    "        if (innb):\n",
    "            test.cells.append(cc)\n",
    "        else:\n",
    "            monolith.cells.append(cc)\n",
    " \n",
    "#Save the monolithic notebook\n",
    "nb.write(monolith,'monolith.ipynb')\n",
    "# nb.write(test,'test.ipynb')"
   ]
  },
  {
   "cell_type": "code",
   "execution_count": 4,
   "metadata": {
    "collapsed": false
   },
   "outputs": [
    {
     "name": "stderr",
     "output_type": "stream",
     "text": [
      "[NbConvertApp] Converting notebook monolith.ipynb to markdown\n",
      "[NbConvertApp] Writing 0 bytes to monolith.md\n"
     ]
    }
   ],
   "source": [
    "#Convert it to markdown\n",
    "!jupyter nbconvert --to markdown monolith.ipynb\n",
    " "
   ]
  },
  {
   "cell_type": "code",
   "execution_count": 5,
   "metadata": {
    "collapsed": true
   },
   "outputs": [],
   "source": [
    "##On a Mac, I got pandoc via:\n",
    "#brew install pandoc\n",
    "\n",
    "#Generate a Microsoft .docx file from the markdown\n",
    "!pandoc -o monolith.docx -f markdown -t docx monolith.md"
   ]
  },
  {
   "cell_type": "code",
   "execution_count": null,
   "metadata": {
    "collapsed": true
   },
   "outputs": [],
   "source": []
  }
 ],
 "metadata": {
  "anaconda-cloud": {},
  "kernelspec": {
   "display_name": "Python [Root]",
   "language": "python",
   "name": "Python [Root]"
  },
  "language_info": {
   "codemirror_mode": {
    "name": "ipython",
    "version": 3
   },
   "file_extension": ".py",
   "mimetype": "text/x-python",
   "name": "python",
   "nbconvert_exporter": "python",
   "pygments_lexer": "ipython3",
   "version": "3.5.2"
  }
 },
 "nbformat": 4,
 "nbformat_minor": 0
}
