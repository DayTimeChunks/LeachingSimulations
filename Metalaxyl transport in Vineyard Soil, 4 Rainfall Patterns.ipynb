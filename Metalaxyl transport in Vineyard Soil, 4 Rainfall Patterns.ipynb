{
 "cells": [
  {
   "cell_type": "markdown",
   "metadata": {},
   "source": [
    "START NOTEBOOK"
   ]
  },
  {
   "cell_type": "markdown",
   "metadata": {},
   "source": [
    "## Set-up "
   ]
  },
  {
   "cell_type": "code",
   "execution_count": 2,
   "metadata": {
    "collapsed": false
   },
   "outputs": [],
   "source": [
    "from hydroplots import *\n",
    "from leach_hydrology import *\n",
    "import numpy as np\n",
    "\n",
    "import mpld3\n",
    "mpld3.enable_notebook()\n",
    "\n",
    "# Plot graphs within this document\n",
    "%matplotlib inline\n",
    "\n",
    "# Plot graphs outside (for interaction)\n",
    "# %matplotlib\n",
    "\n",
    "from pestmob import *\n",
    "from mixinglayer import *"
   ]
  },
  {
   "cell_type": "markdown",
   "metadata": {},
   "source": [
    "### Microcosm"
   ]
  },
  {
   "cell_type": "code",
   "execution_count": 3,
   "metadata": {
    "collapsed": true
   },
   "outputs": [],
   "source": [
    "d = (14.93 * 2)  # Diameter of falcon tube (mm)\n",
    "area = ((d / 2) ** 2) * 3.1416  # (mm2)\n",
    "zl = soil_height1 = 20  # Mixing layer depth in mm"
   ]
  },
  {
   "cell_type": "markdown",
   "metadata": {},
   "source": [
    "### Soil - Hydrological Characteristics"
   ]
  },
  {
   "cell_type": "code",
   "execution_count": 4,
   "metadata": {
    "collapsed": false
   },
   "outputs": [],
   "source": [
    "''' Hydrological controlling parameters'''\n",
    "\n",
    "porosity_vine = 0.55  # Vinyard soil\n",
    "kSat_vine = 17.62/60  # mm/min (17.62 cm/h - Rouffach \n",
    "# (Martine Trautmann, sampled pre-event)\n",
    "\n",
    "ov_1 = 0.21   # Initial water content m3. m-3\n",
    "ovSat_vine = 0.55  # Saturated water content (assumed)\n",
    "psi_vine = 1100  # soil suction Rouffach (guess) mm\n"
   ]
  },
  {
   "cell_type": "markdown",
   "metadata": {},
   "source": [
    "# Results"
   ]
  },
  {
   "cell_type": "markdown",
   "metadata": {},
   "source": [
    "## Hydrology - 1st pulse"
   ]
  },
  {
   "cell_type": "code",
   "execution_count": 5,
   "metadata": {
    "collapsed": false
   },
   "outputs": [
    {
     "name": "stdout",
     "output_type": "stream",
     "text": [
      "Mass balance 0.0\n",
      "Mass balance 0.0\n",
      "Mass balance 0.0\n"
     ]
    }
   ],
   "source": [
    "water_data = leachsim(ovSat=ovSat_vine,\n",
    "                      kSat=kSat_vine,\n",
    "                      ov = ov_1,\n",
    "                      psi=psi_vine,\n",
    "                      soil_height=soil_height1)\n",
    "\n",
    "# Time\n",
    "cum_time_30min = water_data[:, 0]\n",
    "\n",
    "# Cummulative infiltration\n",
    "cum_inf_135mmh = water_data[:, 4]\n",
    "cum_inf_55mmh = water_data[:, 5] \n",
    "cum_inf_30mmh = water_data[:, 6] \n",
    "\n",
    "# Cummulative leaching\n",
    "cum_leach_135mmh = water_data[:, 7]\n",
    "cum_leach_55mmh = water_data[:, 8]\n",
    "cum_leach_30mmh = water_data[:, 9]\n",
    "\n",
    "# Ponding\n",
    "roff_135mmh = water_data[:, 10]\n",
    "roff_55mmh = water_data[:, 11]\n",
    "roff_30mmh = water_data[:, 12]\n",
    "\n",
    "# Cummulative ponding\n",
    "cum_roff_135mmh = water_data[:, 13]\n",
    "cum_roff_55mmh = water_data[:, 14]\n",
    "cum_roff_30mmh = water_data[:, 15]\n",
    "\n",
    "infil_135mmh = water_data[:, 16]\n",
    "infil_55mmh = water_data[:, 17]\n",
    "infil_30mmh = water_data[:, 18]\n",
    "\n",
    "percol_data1 = stackdata3(cum_time_30min,\n",
    "                          cum_leach_135mmh, \n",
    "                          cum_leach_55mmh, \n",
    "                          cum_leach_30mmh)\n",
    "\n",
    "runoff_data1 = stackdata3(cum_time_30min,\n",
    "                          cum_roff_135mmh, \n",
    "                          cum_roff_55mmh, \n",
    "                          cum_roff_30mmh)\n",
    "\n",
    "infil_data1 = stackdata3(cum_time_30min,\n",
    "                         infil_135mmh, \n",
    "                         infil_55mmh, \n",
    "                         infil_30mmh)\n",
    "\n",
    "time_size_135mmh = water_data[:, 19]\n",
    "time_size_55mmhA = water_data[:, 20]\n",
    "time_size_55mmhB = water_data[:, 20]\n",
    "time_size_30mmh = water_data[:, 21]\n",
    "\n",
    "time_sizes1 = [time_size_135mmh, time_size_135mmh,\n",
    "               time_size_55mmhA, time_size_55mmhA,\n",
    "               time_size_55mmhB, time_size_55mmhB,\n",
    "               time_size_30mmh, time_size_30mmh]\n",
    "\n",
    "\"\"\" Observed Hydrlogy Vineyard \"\"\"\n",
    "leach_high_6min = np.array([13.609, 13.610, 17.676, 17.705])  # all at 6 min\n",
    "leach_med_12min = np.array([13.787, 11.112, 11.858, 11.294])  # all at 12 min\n",
    "leach_med_30min = np.array([48.185, 46.402, 48.164, 47.032])  # all at 30min\n",
    "leach_low_30min = np.array([22.595, 19.082, 21.285, 20.871])  # all at 30min\n"
   ]
  },
  {
   "cell_type": "code",
   "execution_count": 6,
   "metadata": {
    "collapsed": false
   },
   "outputs": [
    {
     "data": {
      "image/png": "[encoded data removed]",
      "text/plain": [
       "<matplotlib.figure.Figure at 0x849f5c0>"
      ]
     },
     "metadata": {},
     "output_type": "display_data"
    }
   ],
   "source": [
    "hydroplot(percol_data1, \n",
    "          \"Percolated at 135mm/h\", \"Percolated at 55mm/h\", \"Percolated at 30mm/h\",\n",
    "          leach_high_6min, \n",
    "          leach_med_12min, leach_med_30min, \n",
    "          leach_low_30min,\n",
    "          \"Leached Volume [mL] - Vine Soil 1st Pulse\")"
   ]
  },
  {
   "cell_type": "markdown",
   "metadata": {},
   "source": [
    "## Transport - 1st pulse"
   ]
  },
  {
   "cell_type": "markdown",
   "metadata": {},
   "source": [
    "** Initial and observed mass in leachate and ponding **"
   ]
  },
  {
   "cell_type": "code",
   "execution_count": 25,
   "metadata": {
    "collapsed": true
   },
   "outputs": [],
   "source": [
    "#  Dictionary contains:\n",
    "#  Scenario: (initial_mass, leached_mass_observed, ponded_mass_obs)\n",
    "mxVn_dict_S_1st = {\n",
    "    'a_high_0d': (2105.8, 307.0, 'nan'),\n",
    "    'b_high_1d': (1504.94, 269.5, 'nan'),\n",
    "    'c_med12_0d': (2105.8, 279.2, 'nan'),\n",
    "    'd_med12_1d': (1504.94, 294.9, 'nan'),\n",
    "    'e_med30_0d': (2105.8, 313.8, 'nan'),\n",
    "    'f_med30_1d': (1504.94, 529.8, 'nan'),\n",
    "    'g_low_0d': (2105.8, 419.4, 'nan'),\n",
    "    'h_low_1d': (1504.94, 346.1, 'nan')\n",
    "}\n",
    "\n",
    "#  Dictionary contains:\n",
    "#  Scenario: (initial_mass, leached_mass_observed, ponded_mass_obs)\n",
    "mxVn_dict_L_1st = {\n",
    "    'a_high_0d': (1741.66, 271.3, 'nan'),\n",
    "    'b_high_1d': (1696.73, 116.9, 'nan'),\n",
    "    'c_med12_0d': (1741.66, 304.3, 'nan'),\n",
    "    'd_med12_1d': (1696.73, 276.9, 'nan'),\n",
    "    'e_med30_0d': (1741.66, 616.4, 'nan'),\n",
    "    'f_med30_1d': (1696.73, 409.1, 'nan'),\n",
    "    'g_low_0d': (1741.66, 365.0, 'nan'),\n",
    "    'h_low_1d': (1696.73, 429.5, 'nan')\n",
    "}"
   ]
  },
  {
   "cell_type": "markdown",
   "metadata": {},
   "source": [
    "#### Soil transport Charachteristics"
   ]
  },
  {
   "cell_type": "code",
   "execution_count": 17,
   "metadata": {
    "collapsed": true
   },
   "outputs": [],
   "source": [
    "# Soil characteristics\n",
    "pb_vine = 1.04/10**3  # bulk density (g/cm^3) \n",
    "# g/mm^3, Rouffach (Martine Trautmann, sampled pre-event)\n",
    "\n",
    "porosity_vine = 0.55  # Vinyard soil\n",
    "\n",
    "# Assumed (used to calculate Reynolds number)\n",
    "runoff_vel = 20.0  # mm/min\n",
    "\n",
    "# Fraction organic matter and carbon (Scenario 1)\n",
    "fom_vine_sterile = 3.53/100.0\n",
    "fom_vine_untreat = 2.93/100.0\n",
    "foc_vine_sterile = 0.58*fom_vine_sterile\n",
    "foc_vine_untreat = 0.58*fom_vine_untreat"
   ]
  },
  {
   "cell_type": "markdown",
   "metadata": {},
   "source": [
    "### Metalaxyl Properties"
   ]
  },
  {
   "cell_type": "code",
   "execution_count": 35,
   "metadata": {
    "collapsed": false
   },
   "outputs": [],
   "source": [
    "# Pesticide Koc \n",
    "Koc_mexyl = [200, 182.0, 163.0, 100, 80.0, 50, 30]  # [ml/g] \n",
    "# Koc_mexyl = [10, 5, 2, 1, 0.5, 0.25, 0.1] \n",
    "Koc_mexyl = np.array(Koc_mexyl)*10**3  # [mm3/g]\n",
    "\n",
    "# Kd (a) - NPIC @ http://npic.orst.edu/ingred/ppdmove.htm\n",
    "Kd_mexylA_vine_sterile = Koc_mexyl[0]*foc_vine_sterile  \n",
    "Kd_mexylA_vine_untreat = Koc_mexyl[0]*foc_vine_untreat\n",
    "\n",
    "# Kd (b) - PAN @ http://www.pesticideinfo.org/\n",
    "Kd_mexylB_vine_sterile = Koc_mexyl[1]*foc_vine_sterile  \n",
    "Kd_mexylB_vine_untreat = Koc_mexyl[1]*foc_vine_untreat\n",
    "\n",
    "# Kd (c) \n",
    "# https://toxnet.nlm.nih.gov/cgi-bin/sis/search/a?dbs+hsdb:@term+@DOCNO+7061\n",
    "Kd_mexylC_vine_sterile = Koc_mexyl[2]*foc_vine_sterile  \n",
    "Kd_mexylC_vine_untreat = Koc_mexyl[2]*foc_vine_untreat\n",
    "\n",
    "Kd_mexylD_vine_sterile = Koc_mexyl[3]*foc_vine_sterile  \n",
    "Kd_mexylD_vine_untreat = Koc_mexyl[3]*foc_vine_untreat\n",
    "\n",
    "Kd_mexylE_vine_sterile = Koc_mexyl[4]*foc_vine_sterile  \n",
    "Kd_mexylE_vine_untreat = Koc_mexyl[4]*foc_vine_untreat\n",
    "\n",
    "Kd_mexylF_vine_sterile = Koc_mexyl[5]*foc_vine_sterile  \n",
    "Kd_mexylF_vine_untreat = Koc_mexyl[5]*foc_vine_untreat\n",
    "\n",
    "Kd_mexylG_vine_sterile = Koc_mexyl[6]*foc_vine_sterile  \n",
    "Kd_mexylG_vine_untreat = Koc_mexyl[6]*foc_vine_untreat\n",
    "\n",
    "Kd_mexyl_sterile = [Kd_mexylA_vine_sterile, \n",
    "                    Kd_mexylB_vine_sterile, \n",
    "                    Kd_mexylC_vine_sterile,\n",
    "                    Kd_mexylD_vine_sterile,\n",
    "                    Kd_mexylE_vine_sterile,\n",
    "                    Kd_mexylF_vine_sterile,\n",
    "                    Kd_mexylG_vine_sterile]\n",
    "\n",
    "Kd_mexyl_living = [Kd_mexylA_vine_untreat, \n",
    "                   Kd_mexylB_vine_untreat,\n",
    "                   Kd_mexylC_vine_untreat,\n",
    "                   Kd_mexylD_vine_untreat,\n",
    "                   Kd_mexylE_vine_untreat,\n",
    "                   Kd_mexylF_vine_untreat,\n",
    "                   Kd_mexylG_vine_untreat]"
   ]
  },
  {
   "cell_type": "code",
   "execution_count": 36,
   "metadata": {
    "collapsed": false
   },
   "outputs": [
    {
     "data": {
      "text/plain": [
       "array([ 3.61223269,  3.57127409,  3.5233903 ,  3.3112027 ,  3.21429269,\n",
       "        3.0101727 ,  2.78832395])"
      ]
     },
     "execution_count": 36,
     "metadata": {},
     "output_type": "execute_result"
    }
   ],
   "source": [
    "kd_array = np.asarray(Kd_mexyl_sterile)\n",
    "np.log10(kd_array)"
   ]
  },
  {
   "cell_type": "markdown",
   "metadata": {},
   "source": [
    "### Computation transport - 1st pulse"
   ]
  },
  {
   "cell_type": "code",
   "execution_count": 37,
   "metadata": {
    "collapsed": false
   },
   "outputs": [
    {
     "name": "stdout",
     "output_type": "stream",
     "text": [
      "Best log Kd:  3.523390303354718 ( Num:  3 ) \n",
      " Error:  0.698963006012 , R2:  -6.77946492465\n",
      "SSres:  425108.384315\n",
      "SStot:  54644.93874999999\n",
      "mean mass:  344.9625 sum_mass: 2759.7\n"
     ]
    }
   ],
   "source": [
    "# Any length unit input must be: \"mm\"\n",
    "pest_sterile_1st = pest_test3(\n",
    "    Kd_mexyl_sterile,\n",
    "    mxVn_dict_S_1st,          \n",
    "    pb_vine,\n",
    "    ovSat_vine,\n",
    "    percol_data1, percol_data1,\n",
    "    runoff_data1, runoff_data1, \n",
    "    time_sizes1,\n",
    "    area, soil_height1, \n",
    "    d, runoff_vel,\n",
    "    KFILM = True,\n",
    "    first_cycle = True)"
   ]
  },
  {
   "cell_type": "code",
   "execution_count": 38,
   "metadata": {
    "collapsed": false
   },
   "outputs": [
    {
     "name": "stdout",
     "output_type": "stream",
     "text": [
      "Best log Kd:  3.4424832183210046 ( Num:  3 ) \n",
      " Error:  0.373395308824 , R2:  -0.868294878381\n",
      "SSres:  278290.695925\n",
      "SStot:  148954.375\n",
      "mean mass:  348.675 sum_mass: 2789.4\n"
     ]
    }
   ],
   "source": [
    "# Any length unit input must be: \"mm\"\n",
    "\n",
    "pest_living_1st = pest_test3(\n",
    "    Kd_mexyl_living,\n",
    "    mxVn_dict_L_1st,          \n",
    "    pb_vine,\n",
    "    ovSat_vine,\n",
    "    percol_data1, percol_data1,\n",
    "    runoff_data1, runoff_data1, \n",
    "    time_sizes1,\n",
    "    area, soil_height1, \n",
    "    d, runoff_vel,\n",
    "    KFILM = True,\n",
    "    first_cycle = True)"
   ]
  },
  {
   "cell_type": "markdown",
   "metadata": {},
   "source": [
    "#### Sterile time series"
   ]
  },
  {
   "cell_type": "code",
   "execution_count": 39,
   "metadata": {
    "collapsed": false
   },
   "outputs": [],
   "source": [
    "# Cumulative leachate sterilized\n",
    "high_0d_cum_mass_out_dt = pest_sterile_1st[:, 1]\n",
    "high_1d_cum_mass_out_dt = pest_sterile_1st[:, 2]\n",
    "\n",
    "med12_0d_cum_mass_out_dt = pest_sterile_1st[:, 3]\n",
    "med12_1d_cum_mass_out_dt = pest_sterile_1st[:, 4]\n",
    "\n",
    "med30_0d_cum_mass_out_dt = pest_sterile_1st[:, 5]\n",
    "med30_1d_cum_mass_out_dt = pest_sterile_1st[:, 6]\n",
    "\n",
    "low_0d_cum_mass_out_dt = pest_sterile_1st[:, 7]\n",
    "low_1d_cum_mass_out_dt = pest_sterile_1st[:, 8]\n",
    "\n",
    "# Ponded mass\n",
    "high_0d_overmass_dt = pest_sterile_1st[:, 9]\n",
    "high_1d_overmass_dt = pest_sterile_1st[:, 10]\n",
    "med12_0d_overmass_dt = pest_sterile_1st[:, 11]\n",
    "med12_1d_overmass_dt = pest_sterile_1st[:, 12]\n",
    "\n",
    "med30_0d_overmass_dt = pest_sterile_1st[:, 13]\n",
    "med30_1d_overmass_dt = pest_sterile_1st[:, 14]\n",
    "low_0d_overmass_dt = pest_sterile_1st[:, 15]\n",
    "low_1d_overmass_dt = pest_sterile_1st[:, 16]\n",
    "\n",
    "\n",
    "mass_percol_sterile1 = stackdata8(\n",
    "    cum_time_30min,\n",
    "    high_0d_cum_mass_out_dt, high_1d_cum_mass_out_dt,\n",
    "    med12_0d_cum_mass_out_dt, med12_1d_cum_mass_out_dt,\n",
    "    med30_0d_cum_mass_out_dt, med30_1d_cum_mass_out_dt,\n",
    "    low_0d_cum_mass_out_dt, low_1d_cum_mass_out_dt)\n",
    "\n",
    "mass_pond_sterile1 = stackdata8(\n",
    "    cum_time_30min,\n",
    "    high_0d_overmass_dt, high_1d_overmass_dt,\n",
    "    med12_0d_overmass_dt, med12_1d_overmass_dt,\n",
    "    med30_0d_overmass_dt, med30_1d_overmass_dt,\n",
    "    low_0d_overmass_dt, low_1d_overmass_dt)"
   ]
  },
  {
   "cell_type": "markdown",
   "metadata": {},
   "source": [
    "#### Living  time series"
   ]
  },
  {
   "cell_type": "code",
   "execution_count": 40,
   "metadata": {
    "collapsed": true
   },
   "outputs": [],
   "source": [
    "# Cumulative leachate sterilized\n",
    "high_0d_cum_mass_out_dt = pest_living_1st[:, 1]\n",
    "high_1d_cum_mass_out_dt = pest_living_1st[:, 2]\n",
    "\n",
    "med12_0d_cum_mass_out_dt = pest_living_1st[:, 3]\n",
    "med12_1d_cum_mass_out_dt = pest_living_1st[:, 4]\n",
    "\n",
    "med30_0d_cum_mass_out_dt = pest_living_1st[:, 5]\n",
    "med30_1d_cum_mass_out_dt = pest_living_1st[:, 6]\n",
    "\n",
    "low_0d_cum_mass_out_dt = pest_living_1st[:, 7]\n",
    "low_1d_cum_mass_out_dt = pest_living_1st[:, 8]\n",
    "\n",
    "# Ponded mass\n",
    "high_0d_overmass_dt = pest_living_1st[:, 9]\n",
    "high_1d_overmass_dt = pest_living_1st[:, 10]\n",
    "med12_0d_overmass_dt = pest_living_1st[:, 11]\n",
    "med12_1d_overmass_dt = pest_living_1st[:, 12]\n",
    "\n",
    "med30_0d_overmass_dt = pest_living_1st[:, 13]\n",
    "med30_1d_overmass_dt = pest_living_1st[:, 14]\n",
    "low_0d_overmass_dt = pest_living_1st[:, 15]\n",
    "low_1d_overmass_dt = pest_living_1st[:, 16]\n",
    "\n",
    "mass_percol_living1 = stackdata8(\n",
    "    cum_time_30min,\n",
    "    high_0d_cum_mass_out_dt, high_1d_cum_mass_out_dt, \n",
    "    med12_0d_cum_mass_out_dt, med12_1d_cum_mass_out_dt, \n",
    "    med30_0d_cum_mass_out_dt, med30_1d_cum_mass_out_dt,\n",
    "    low_0d_cum_mass_out_dt, low_1d_cum_mass_out_dt)\n",
    "\n",
    "mass_pond_living1 = stackdata8(\n",
    "    cum_time_30min,\n",
    "    high_0d_overmass_dt, high_1d_overmass_dt,\n",
    "    med12_0d_overmass_dt, med12_1d_overmass_dt,\n",
    "    med30_0d_overmass_dt, med30_1d_overmass_dt,\n",
    "    low_0d_overmass_dt, low_1d_overmass_dt)"
   ]
  },
  {
   "cell_type": "markdown",
   "metadata": {},
   "source": [
    "## Plotting transport - Metalaxyl"
   ]
  },
  {
   "cell_type": "markdown",
   "metadata": {},
   "source": [
    "### Sterile (1st Pulse, Vineyard Soil)"
   ]
  },
  {
   "cell_type": "code",
   "execution_count": 41,
   "metadata": {
    "collapsed": false
   },
   "outputs": [
    {
     "data": {
      "image/png": "[encoded data removed]",
      "text/plain": [
       "<matplotlib.figure.Figure at 0xc556358>"
      ]
     },
     "metadata": {},
     "output_type": "display_data"
    }
   ],
   "source": [
    "pestiplot_condition(\n",
    "    mass_percol_sterile1,\n",
    "    mxVn_dict_S_1st,\n",
    "    'Metalaxyl',\n",
    "    soil_type='Vineyard Soil',\n",
    "    cycle = '1st pulse',\n",
    "    LEACH = True,\n",
    "    STERILE = True\n",
    ")"
   ]
  },
  {
   "cell_type": "markdown",
   "metadata": {},
   "source": [
    "### Living (1st Pulse, Vineyard Soil)"
   ]
  },
  {
   "cell_type": "code",
   "execution_count": null,
   "metadata": {
    "collapsed": false
   },
   "outputs": [],
   "source": [
    "pestiplot_condition(\n",
    "    mass_percol_living1,\n",
    "    mxVn_dict_L_1st,\n",
    "    'Metalaxyl',\n",
    "    soil_type='Vineyard Soil',\n",
    "    cycle = '1st pulse',\n",
    "    LEACH = True,\n",
    "    STERILE = False\n",
    ")"
   ]
  },
  {
   "cell_type": "markdown",
   "metadata": {},
   "source": [
    "# Hydrology - 2nd pulse"
   ]
  },
  {
   "cell_type": "code",
   "execution_count": null,
   "metadata": {
    "collapsed": true
   },
   "outputs": [],
   "source": [
    "''' Hydrological controlling parameters'''\n",
    "soil_height2 = 20  # mm"
   ]
  },
  {
   "cell_type": "markdown",
   "metadata": {},
   "source": [
    "**Observed Percolation - 2nd pulse**"
   ]
  },
  {
   "cell_type": "code",
   "execution_count": null,
   "metadata": {
    "collapsed": true
   },
   "outputs": [],
   "source": [
    "# Order if array is:\n",
    "#  [sterile, untreat, sterile_aged, untreat_aged]\n",
    "\n",
    "# At 6 min, high inetnesity\n",
    "leach_high_6min = np.array([13.309, 0., 7.394, 6.549]) \n",
    "\n",
    "# At 12 min, med intensity\n",
    "leach_med_12min = np.array([0.958, 3.669, 16.06, 12.988]) \n",
    "\n",
    "# At 30min, med intensity\n",
    "leach_med_30min = np.array([0.941, 18.601, 51.834, 29.232])  \n",
    "\n",
    "# At 30min, low intensity\n",
    "leach_low_30min = np.array([10.157, 26.737, 27.533, 6.197]) "
   ]
  },
  {
   "cell_type": "markdown",
   "metadata": {},
   "source": [
    "**Observed Ponding - 2nd pulse**"
   ]
  },
  {
   "cell_type": "code",
   "execution_count": null,
   "metadata": {
    "collapsed": true
   },
   "outputs": [],
   "source": [
    "# [sterile, untreat, sterile_aged, untreat_aged]\n",
    "# all at 6 min, high inetnesity\n",
    "roff_high_6min = np.array([8.991, 26.633, 15.720, 19.350])  \n",
    "\n",
    "# all at 12 min, med intensity\n",
    "roff_med_12min = np.array([21.193, 17.731, 0.756, 8.025]) \n",
    "\n",
    "# all at 30min, med intensity\n",
    "roff_med_30min = np.array([54.633, 39.350, 0., 23.688])  \n",
    "\n",
    "# all at 30min, low intensity\n",
    "roff_low_30min = np.array([13.973, 3.717, 0., 22.827])  "
   ]
  },
  {
   "cell_type": "markdown",
   "metadata": {},
   "source": [
    "### Inverse Ksat determination \n",
    "\n",
    "Based on hisotric rainfall pattern, fresh and aged."
   ]
  },
  {
   "cell_type": "code",
   "execution_count": null,
   "metadata": {
    "collapsed": false
   },
   "outputs": [],
   "source": [
    "water2_ktest_fresh = leachsim2(\n",
    "    leach_high_6min, leach_med_12min, leach_med_30min, leach_low_30min,\n",
    "    kSat = [kSat_vine/25, kSat_vine/50, kSat_vine/100, \n",
    "            kSat_vine/125, kSat_vine/140],\n",
    "    soil_height=soil_height2,\n",
    "    soil = 'Rouff',\n",
    "    dtGA = 1,\n",
    "    AGED = False\n",
    ")"
   ]
  },
  {
   "cell_type": "code",
   "execution_count": null,
   "metadata": {
    "collapsed": false
   },
   "outputs": [],
   "source": [
    "water2_ktest_aged = leachsim2(\n",
    "    leach_high_6min, leach_med_12min, leach_med_30min, leach_low_30min,\n",
    "    kSat = [kSat_vine/25, kSat_vine/50, kSat_vine/100, \n",
    "            kSat_vine/125, kSat_vine/140],\n",
    "    soil_height=soil_height2,\n",
    "    soil = 'Rouff',\n",
    "    dtGA = 1,\n",
    "    AGED = True\n",
    ")"
   ]
  },
  {
   "cell_type": "markdown",
   "metadata": {},
   "source": [
    "#### Time series fresh"
   ]
  },
  {
   "cell_type": "code",
   "execution_count": null,
   "metadata": {
    "collapsed": true
   },
   "outputs": [],
   "source": [
    "# Time axis\n",
    "cum_time_30min = water2_ktest_fresh[:, 0]\n",
    "\n",
    "# Cumulative leachate\n",
    "cum_leach_135mmh = water2_ktest_fresh[:, 9]\n",
    "cum_leach_55mmhA = water2_ktest_fresh[:, 10]\n",
    "cum_leach_55mmhB = water2_ktest_fresh[:, 11]\n",
    "cum_leach_30mmh = water2_ktest_fresh[:, 12]\n",
    "\n",
    "# Group each compartment for graphing\n",
    "percol_data2_fresh = stackdata4(\n",
    "    cum_time_30min,\n",
    "    cum_leach_135mmh, \n",
    "    cum_leach_55mmhA, cum_leach_55mmhB, \n",
    "    cum_leach_30mmh)\n",
    "\n",
    "# Ponding fresh\n",
    "roff_135mmh = water2_ktest_fresh[:, 13]\n",
    "roff_55mmhA = water2_ktest_fresh[:, 14]\n",
    "roff_55mmhB = water2_ktest_fresh[:, 15]\n",
    "roff_30mmh = water2_ktest_fresh[:, 16]\n",
    "\n",
    "# Cummulative ponding\n",
    "cum_roff_135mmh = water2_ktest_fresh[:, 17]\n",
    "cum_roff_55mmhA = water2_ktest_fresh[:, 18]\n",
    "cum_roff_55mmhB = water2_ktest_fresh[:, 19]\n",
    "cum_roff_30mmh = water2_ktest_fresh[:, 20]\n",
    "\n",
    "runoff_data2_fresh = stackdata4(\n",
    "    cum_time_30min,\n",
    "    cum_roff_135mmh, \n",
    "    cum_roff_55mmhA, cum_roff_55mmhB, \n",
    "    cum_roff_30mmh)\n",
    "\n",
    "time_size_135mmh = water2_ktest_fresh[:, 25]\n",
    "time_size_55mmhA = water2_ktest_fresh[:, 26]\n",
    "time_size_55mmhB = water2_ktest_fresh[:, 27]\n",
    "time_size_30mmh = water2_ktest_fresh[:, 28]\n",
    "\n",
    "time_sizes2 = [time_size_135mmh, \n",
    "               time_size_55mmhA, time_size_55mmhB, \n",
    "               time_size_30mmh]"
   ]
  },
  {
   "cell_type": "markdown",
   "metadata": {},
   "source": [
    "#### Time series aged"
   ]
  },
  {
   "cell_type": "code",
   "execution_count": null,
   "metadata": {
    "collapsed": true
   },
   "outputs": [],
   "source": [
    "# Time axis\n",
    "cum_time_30min = water2_ktest_aged[:, 0]\n",
    "\n",
    "# Cumulative leachate\n",
    "cum_leach_135mmh = water2_ktest_aged[:, 9]\n",
    "cum_leach_55mmhA = water2_ktest_aged[:, 10]\n",
    "cum_leach_55mmhB = water2_ktest_aged[:, 11]\n",
    "cum_leach_30mmh = water2_ktest_aged[:, 12]\n",
    "\n",
    "# Group each compartment for graphing\n",
    "percol_data2_aged = stackdata4(cum_time_30min,\n",
    "                               cum_leach_135mmh, \n",
    "                               cum_leach_55mmhA, \n",
    "                               cum_leach_55mmhB, \n",
    "                               cum_leach_30mmh)\n",
    "\n",
    "# Ponding Aged\n",
    "roff_135mmh = water2_ktest_aged[:, 13]\n",
    "roff_55mmhA = water2_ktest_aged[:, 14]\n",
    "roff_55mmhB = water2_ktest_aged[:, 15]\n",
    "roff_30mmh = water2_ktest_aged[:, 16]\n",
    "\n",
    "# Cummulative ponding\n",
    "cum_roff_135mmh = water2_ktest_aged[:, 17]\n",
    "cum_roff_55mmhA = water2_ktest_aged[:, 18]\n",
    "cum_roff_55mmhB = water2_ktest_aged[:, 19]\n",
    "cum_roff_30mmh = water2_ktest_aged[:, 20]\n",
    "\n",
    "\n",
    "runoff_data2_aged = stackdata4(cum_time_30min,\n",
    "                               cum_roff_135mmh, \n",
    "                               cum_roff_55mmhA, \n",
    "                               cum_roff_55mmhB, \n",
    "                               cum_roff_30mmh)\n",
    "\n",
    "time_size_135mmh = water2_ktest_aged[:, 25]\n",
    "time_size_55mmhA = water2_ktest_aged[:, 26]\n",
    "time_size_55mmhB = water2_ktest_aged[:, 27]\n",
    "time_size_30mmh = water2_ktest_aged[:, 28]\n",
    "\n",
    "time_sizes2 = [time_size_135mmh, time_size_135mmh, \n",
    "               time_size_55mmhA, time_size_55mmhA, \n",
    "               time_size_55mmhB, time_size_55mmhB, \n",
    "               time_size_30mmh, time_size_30mmh]"
   ]
  },
  {
   "cell_type": "markdown",
   "metadata": {},
   "source": [
    "### Percolation & ponding - 2nd pulse (fresh soil)"
   ]
  },
  {
   "cell_type": "code",
   "execution_count": null,
   "metadata": {
    "collapsed": false
   },
   "outputs": [],
   "source": [
    "hydroplot2(percol_data2_fresh, \n",
    "          \"Leached, 135mm/h - A\", \n",
    "           \"Leached, 55mm/h - B\", \"Leached, 55mm/h - C\", \n",
    "           \"Leached, 30mm/h - D\",\n",
    "          leach_high_6min, \n",
    "          leach_med_12min, leach_med_30min, \n",
    "          leach_low_30min,\n",
    "         \"Leached Volume [mL] - Vineyard Soil 2nd Pulse\",\n",
    "          AGED = False)"
   ]
  },
  {
   "cell_type": "code",
   "execution_count": null,
   "metadata": {
    "collapsed": false
   },
   "outputs": [],
   "source": [
    "hydroplot2(runoff_data2_fresh, \n",
    "          \"Ponded, 135mm/h - A\", \n",
    "           \"Ponded, 55mm/h - B\", \"Ponded, 55mm/h - C\", \n",
    "           \"Ponded, 30mm/h - D\",\n",
    "           roff_high_6min, \n",
    "           roff_med_12min, roff_med_30min, \n",
    "           roff_low_30min,\n",
    "           \"Ponded Volume [mL] - Vineyard Soil 2nd Pulse\",\n",
    "           AGED = False)"
   ]
  },
  {
   "cell_type": "markdown",
   "metadata": {},
   "source": [
    "### Percolation and ponding - 2nd pulse (aged soil)"
   ]
  },
  {
   "cell_type": "code",
   "execution_count": null,
   "metadata": {
    "collapsed": false
   },
   "outputs": [],
   "source": [
    "hydroplot2(percol_data2_aged,\n",
    "           \"Leached, 135mm/h - A\", \n",
    "           \"Leached, 55mm/h - B\", \"Leached, 55mm/h - C\", \n",
    "           \"Leached, 30mm/h - D\",\n",
    "           leach_high_6min, \n",
    "           leach_med_12min, leach_med_30min, \n",
    "           leach_low_30min,\n",
    "           \"Leached Volume [mL] - Vineyard Soil 2nd Pulse\",\n",
    "            AGED = True)"
   ]
  },
  {
   "cell_type": "code",
   "execution_count": null,
   "metadata": {
    "collapsed": false
   },
   "outputs": [],
   "source": [
    "hydroplot2(runoff_data2_aged, \n",
    "          \"Ponded, 135mm/h A\" , \n",
    "           \"Ponded, 55mm/h - B\", \"Ponded, 55mm/h - C\", \n",
    "           \"Ponded, 30mm/h - D\",\n",
    "           roff_high_6min, \n",
    "           roff_med_12min, roff_med_30min, \n",
    "           roff_low_30min,\n",
    "           \"Ponded Volume [mL] - Vineyard Soil 2nd Pulse\",\n",
    "            AGED = True)"
   ]
  },
  {
   "cell_type": "markdown",
   "metadata": {},
   "source": [
    "## Transport - 2nd pulse"
   ]
  },
  {
   "cell_type": "markdown",
   "metadata": {},
   "source": [
    "** Initial and observed mass in leachate and ponding **"
   ]
  },
  {
   "cell_type": "code",
   "execution_count": null,
   "metadata": {
    "collapsed": true
   },
   "outputs": [],
   "source": [
    "#  Dictionary contains:\n",
    "#  Scenario: (initial_mass, leached_mass_observed, ponded_mass_obs, percolated_vol, roff_vol)\n",
    "mxVn_dict_S_2nd = {\n",
    "    'a_high_0d': (1602.5, 63.8, 8.0),\n",
    "    'b_high_1d': (1100.6, 100.4, 6.9),\n",
    "    'c_med12_0d': (1627.3, 'nan', 18.8),\n",
    "    'd_med12_1d': (1078.0, 142.3, 'nan'),\n",
    "    'e_med30_0d': (1596.5, 'nan', 16.8),\n",
    "    'f_med30_1d': (868.8, 163.8, 'nan'),\n",
    "    'g_low_0d': (1502.4, 130.5, 9.9),\n",
    "    'h_low_1d': (1032.4, 222.0, 'nan')\n",
    "}\n",
    "\n",
    "mxVn_dict_L_2nd = {\n",
    "    'a_high_0d': (1309.9, 'nan', 13.2),\n",
    "    'b_high_1d': (1407.45, 83.7, 7.5),\n",
    "    'c_med12_0d': (1280.5, 'nan', 10.0),\n",
    "    'd_med12_1d': (1264.9, 115.4, 7.1),\n",
    "    'e_med30_0d': (1002.5, 'nan', 3.6),\n",
    "    'f_med30_1d': (1147.2, 92.4, 3.8),\n",
    "    'g_low_0d': (1226.4, 241.0, 0.2),\n",
    "    'h_low_1d': (1128.9, 15.3, 4.4)\n",
    "}"
   ]
  },
  {
   "cell_type": "markdown",
   "metadata": {},
   "source": [
    "#### Change in organic matter characterisitics"
   ]
  },
  {
   "cell_type": "code",
   "execution_count": null,
   "metadata": {
    "collapsed": true
   },
   "outputs": [],
   "source": [
    "# Fraction organic matter and carbon \n",
    "fom_vine_sterile = 3.51/100.0\n",
    "fom_vine_untreat = 2.93/100.0\n",
    "\n",
    "foc_vine_sterile = 0.58*fom_vine_sterile\n",
    "foc_vine_untreat = 0.58*fom_vine_untreat\n",
    "\n",
    "# Pesticide Koc \n",
    "Koc_mexyl = [200, 182.0, 163.0, 100, 80.0, 50, 30] # [ml/g] \n",
    "# Koc_mexyl = [50, 30, 20, 10, 2] \n",
    "Koc_mexyl = np.array(Koc_mexyl)*10**3  # [mm3/g]\n",
    "\n",
    "# Kd (a) - NPIC @ http://npic.orst.edu/ingred/ppdmove.htm\n",
    "Kd_mexylA_vine_sterile = Koc_mexyl[0]*foc_vine_sterile  \n",
    "Kd_mexylA_vine_untreat = Koc_mexyl[0]*foc_vine_untreat\n",
    "\n",
    "# Kd (b) - PAN @ http://www.pesticideinfo.org/\n",
    "Kd_mexylB_vine_sterile = Koc_mexyl[1]*foc_vine_sterile  \n",
    "Kd_mexylB_vine_untreat = Koc_mexyl[1]*foc_vine_untreat\n",
    "\n",
    "# Kd (c) \n",
    "# https://toxnet.nlm.nih.gov/cgi-bin/sis/search/a?dbs+hsdb:@term+@DOCNO+7061\n",
    "Kd_mexylC_vine_sterile = Koc_mexyl[2]*foc_vine_sterile  \n",
    "Kd_mexylC_vine_untreat = Koc_mexyl[2]*foc_vine_untreat\n",
    "\n",
    "Kd_mexylD_vine_sterile = Koc_mexyl[3]*foc_vine_sterile  \n",
    "Kd_mexylD_vine_untreat = Koc_mexyl[3]*foc_vine_untreat\n",
    "\n",
    "Kd_mexylE_vine_sterile = Koc_mexyl[4]*foc_vine_sterile  \n",
    "Kd_mexylE_vine_untreat = Koc_mexyl[4]*foc_vine_untreat\n",
    "\n",
    "Kd_mexylF_vine_sterile = Koc_mexyl[5]*foc_vine_sterile  \n",
    "Kd_mexylF_vine_untreat = Koc_mexyl[5]*foc_vine_untreat\n",
    "\n",
    "Kd_mexylG_vine_sterile = Koc_mexyl[6]*foc_vine_sterile  \n",
    "Kd_mexylG_vine_untreat = Koc_mexyl[6]*foc_vine_untreat\n",
    "\n",
    "Kd_mexyl_sterile2 = [Kd_mexylA_vine_sterile, \n",
    "                    Kd_mexylB_vine_sterile, \n",
    "                    Kd_mexylC_vine_sterile,\n",
    "                    Kd_mexylD_vine_sterile,\n",
    "                    Kd_mexylE_vine_sterile,\n",
    "                    Kd_mexylF_vine_sterile,\n",
    "                    Kd_mexylG_vine_sterile]\n",
    "\n",
    "Kd_mexyl_living2 = [Kd_mexylA_vine_untreat, \n",
    "                   Kd_mexylB_vine_untreat,\n",
    "                   Kd_mexylC_vine_untreat,\n",
    "                   Kd_mexylD_vine_untreat,\n",
    "                   Kd_mexylE_vine_untreat,\n",
    "                   Kd_mexylF_vine_untreat,\n",
    "                   Kd_mexylG_vine_untreat]"
   ]
  },
  {
   "cell_type": "markdown",
   "metadata": {},
   "source": [
    "### Computation mass transfer - Metalaxyl, Vine, 2nd Pulse"
   ]
  },
  {
   "cell_type": "markdown",
   "metadata": {},
   "source": [
    "#### Kd optimal (sterile)"
   ]
  },
  {
   "cell_type": "code",
   "execution_count": null,
   "metadata": {
    "collapsed": false
   },
   "outputs": [],
   "source": [
    "pest_sterile_2nd = pest_test3(\n",
    "    Kd_mexyl_sterile2,\n",
    "    mxVn_dict_S_2nd,\n",
    "    pb_vine,\n",
    "    ovSat_vine,\n",
    "    percol_data2_fresh, runoff_data2_fresh,\n",
    "    percol_data2_aged, runoff_data2_aged, \n",
    "    time_sizes2,\n",
    "    area, soil_height2,\n",
    "    d, runoff_vel)\n"
   ]
  },
  {
   "cell_type": "markdown",
   "metadata": {},
   "source": [
    "#### Kd optimal (living)"
   ]
  },
  {
   "cell_type": "code",
   "execution_count": null,
   "metadata": {
    "collapsed": false
   },
   "outputs": [],
   "source": [
    "pest_living_2nd = pest_test3(\n",
    "    Kd_mexyl_living2,\n",
    "    mxVn_dict_L_2nd,\n",
    "    pb_vine,\n",
    "    ovSat_vine,\n",
    "    percol_data2_fresh, runoff_data2_fresh,\n",
    "    percol_data2_aged, runoff_data2_aged, \n",
    "    time_sizes2,\n",
    "    area, soil_height2,\n",
    "    d, runoff_vel)\n"
   ]
  },
  {
   "cell_type": "markdown",
   "metadata": {},
   "source": [
    "#### Sterile time series"
   ]
  },
  {
   "cell_type": "code",
   "execution_count": null,
   "metadata": {
    "collapsed": false
   },
   "outputs": [],
   "source": [
    "# Time axis\n",
    "cum_time_30min = pest_sterile_2nd[:, 0]\n",
    "\n",
    "# Cumulative leachate sterilized\n",
    "high_0d_cum_mass_out_dt = pest_sterile_2nd[:, 1]\n",
    "high_1d_cum_mass_out_dt = pest_sterile_2nd[:, 2]\n",
    "\n",
    "med12_0d_cum_mass_out_dt = pest_sterile_2nd[:, 3]\n",
    "med12_1d_cum_mass_out_dt = pest_sterile_2nd[:, 4]\n",
    "\n",
    "med30_0d_cum_mass_out_dt = pest_sterile_2nd[:, 5]\n",
    "med30_1d_cum_mass_out_dt = pest_sterile_2nd[:, 6]\n",
    "\n",
    "low_0d_cum_mass_out_dt = pest_sterile_2nd[:, 7]\n",
    "low_1d_cum_mass_out_dt = pest_sterile_2nd[:, 8]\n",
    "\n",
    "# Ponded mass\n",
    "high_0d_overmass_dt = pest_sterile_2nd[:, 9]\n",
    "high_1d_overmass_dt = pest_sterile_2nd[:, 10]\n",
    "med12_0d_overmass_dt = pest_sterile_2nd[:, 11]\n",
    "med12_1d_overmass_dt = pest_sterile_2nd[:, 12]\n",
    "\n",
    "med30_0d_overmass_dt = pest_sterile_2nd[:, 13]\n",
    "med30_1d_overmass_dt = pest_sterile_2nd[:, 14]\n",
    "low_0d_overmass_dt = pest_sterile_2nd[:, 15]\n",
    "low_1d_overmass_dt = pest_sterile_2nd[:, 16]\n",
    "\n",
    "mass_percol_sterile2 = stackdata8(\n",
    "    cum_time_30min,\n",
    "    high_0d_cum_mass_out_dt, high_1d_cum_mass_out_dt, \n",
    "    med12_0d_cum_mass_out_dt, med12_1d_cum_mass_out_dt, \n",
    "    med30_0d_cum_mass_out_dt, med30_1d_cum_mass_out_dt,\n",
    "    low_0d_cum_mass_out_dt, low_1d_cum_mass_out_dt)\n",
    "\n",
    "mass_pond_sterile2 = stackdata8(\n",
    "    cum_time_30min,\n",
    "    high_0d_overmass_dt, high_1d_overmass_dt,\n",
    "    med12_0d_overmass_dt, med12_1d_overmass_dt,\n",
    "    med30_0d_overmass_dt, med30_1d_overmass_dt,\n",
    "    low_0d_overmass_dt, low_1d_overmass_dt)"
   ]
  },
  {
   "cell_type": "markdown",
   "metadata": {},
   "source": [
    "#### Living time series"
   ]
  },
  {
   "cell_type": "code",
   "execution_count": null,
   "metadata": {
    "collapsed": true
   },
   "outputs": [],
   "source": [
    "# Time axis\n",
    "cum_time_30min = pest_living_2nd[:, 0]\n",
    "\n",
    "# Cumulative leachate sterilized\n",
    "high_0d_cum_mass_out_dt = pest_living_2nd[:, 1]\n",
    "high_1d_cum_mass_out_dt = pest_living_2nd[:, 2]\n",
    "\n",
    "med12_0d_cum_mass_out_dt = pest_living_2nd[:, 3]\n",
    "med12_1d_cum_mass_out_dt = pest_living_2nd[:, 4]\n",
    "\n",
    "med30_0d_cum_mass_out_dt = pest_living_2nd[:, 5]\n",
    "med30_1d_cum_mass_out_dt = pest_living_2nd[:, 6]\n",
    "\n",
    "low_0d_cum_mass_out_dt = pest_living_2nd[:, 7]\n",
    "low_1d_cum_mass_out_dt = pest_living_2nd[:, 8]\n",
    "\n",
    "# Ponded mass\n",
    "high_0d_overmass_dt = pest_living_2nd[:, 9]\n",
    "high_1d_overmass_dt = pest_living_2nd[:, 10]\n",
    "med12_0d_overmass_dt = pest_living_2nd[:, 11]\n",
    "med12_1d_overmass_dt = pest_living_2nd[:, 12]\n",
    "\n",
    "med30_0d_overmass_dt = pest_living_2nd[:, 13]\n",
    "med30_1d_overmass_dt = pest_living_2nd[:, 14]\n",
    "low_0d_overmass_dt = pest_living_2nd[:, 15]\n",
    "low_1d_overmass_dt = pest_living_2nd[:, 16]\n",
    "\n",
    "mass_percol_living2 = stackdata8(\n",
    "    cum_time_30min,\n",
    "    high_0d_cum_mass_out_dt, high_1d_cum_mass_out_dt,\n",
    "    med12_0d_cum_mass_out_dt, med12_1d_cum_mass_out_dt,\n",
    "    med30_0d_cum_mass_out_dt, med30_1d_cum_mass_out_dt,\n",
    "    low_0d_cum_mass_out_dt, low_1d_cum_mass_out_dt)\n",
    "\n",
    "mass_pond_living2 = stackdata8(\n",
    "    cum_time_30min,\n",
    "    high_0d_overmass_dt, high_1d_overmass_dt,\n",
    "    med12_0d_overmass_dt, med12_1d_overmass_dt,\n",
    "    med30_0d_overmass_dt, med30_1d_overmass_dt,\n",
    "    low_0d_overmass_dt, low_1d_overmass_dt)"
   ]
  },
  {
   "cell_type": "markdown",
   "metadata": {},
   "source": [
    "## Plotting transport - Metalaxyl"
   ]
  },
  {
   "cell_type": "markdown",
   "metadata": {},
   "source": [
    "### Sterile (2nd Pulse, Vineyard Soil)"
   ]
  },
  {
   "cell_type": "code",
   "execution_count": null,
   "metadata": {
    "collapsed": false
   },
   "outputs": [],
   "source": [
    "pestiplot_condition(\n",
    "    mass_percol_sterile2,\n",
    "    mxVn_dict_S_2nd,\n",
    "    'Metalaxyl',\n",
    "    soil_type='Vineyard Soil',\n",
    "    cycle = '2nd pulse',\n",
    "    LEACH = True,\n",
    "    STERILE = True\n",
    ")"
   ]
  },
  {
   "cell_type": "code",
   "execution_count": null,
   "metadata": {
    "collapsed": false
   },
   "outputs": [],
   "source": [
    "pestiplot_condition(\n",
    "    mass_pond_sterile2,\n",
    "    mxVn_dict_S_2nd,\n",
    "    'Metalaxyl',\n",
    "    soil_type='Vineyard Soil',\n",
    "    cycle = '2nd pulse',\n",
    "    LEACH = False,\n",
    "    STERILE = True\n",
    ")"
   ]
  },
  {
   "cell_type": "markdown",
   "metadata": {},
   "source": [
    "### Living (2nd Pulse, Vineyard Soil)"
   ]
  },
  {
   "cell_type": "code",
   "execution_count": null,
   "metadata": {
    "collapsed": false
   },
   "outputs": [],
   "source": [
    "pestiplot_condition(\n",
    "    mass_percol_living2,\n",
    "    mxVn_dict_L_2nd,\n",
    "    'Metalaxyl',\n",
    "    soil_type='Vineyard Soil',\n",
    "    cycle = '2nd pulse',\n",
    "    LEACH = True,\n",
    "    STERILE = False\n",
    ")"
   ]
  },
  {
   "cell_type": "code",
   "execution_count": null,
   "metadata": {
    "collapsed": false
   },
   "outputs": [],
   "source": [
    "pestiplot_condition(\n",
    "    mass_pond_living2,\n",
    "    mxVn_dict_L_2nd,\n",
    "    'Metalaxyl',\n",
    "    soil_type='Vineyard Soil',\n",
    "    cycle = '2nd pulse',\n",
    "    LEACH = False,\n",
    "    STERILE = False\n",
    ")"
   ]
  },
  {
   "cell_type": "markdown",
   "metadata": {},
   "source": [
    "END NOTEBOOK"
   ]
  }
 ],
 "metadata": {
  "anaconda-cloud": {},
  "kernelspec": {
   "display_name": "Python [Root]",
   "language": "python",
   "name": "Python [Root]"
  },
  "language_info": {
   "codemirror_mode": {
    "name": "ipython",
    "version": 3
   },
   "file_extension": ".py",
   "mimetype": "text/x-python",
   "name": "python",
   "nbconvert_exporter": "python",
   "pygments_lexer": "ipython3",
   "version": "3.5.2"
  }
 },
 "nbformat": 4,
 "nbformat_minor": 0
}
