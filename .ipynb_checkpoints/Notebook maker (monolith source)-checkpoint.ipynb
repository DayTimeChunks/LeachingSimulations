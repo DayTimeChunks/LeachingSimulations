{
 "cells": [
  {
   "cell_type": "code",
   "execution_count": 1,
   "metadata": {
    "collapsed": false
   },
   "outputs": [],
   "source": [
    "import io, sys\n",
    "import nbformat as nb\n",
    "import nbformat.v4.nbbase as nb4"
   ]
  },
  {
   "cell_type": "code",
   "execution_count": 2,
   "metadata": {
    "collapsed": false
   },
   "outputs": [],
   "source": [
    "#Are we in a notebook segment?\n",
    "innb=False\n",
    " \n",
    "#Quick and dirty count of notebooks\n",
    "c=1\n",
    " \n",
    "#The monolithic notebook is the content ex of the separate notebook content\n",
    "monolith=nb4.new_notebook()"
   ]
  },
  {
   "cell_type": "code",
   "execution_count": 3,
   "metadata": {
    "collapsed": false
   },
   "outputs": [
    {
     "ename": "FileNotFoundError",
     "evalue": "[Errno 2] No such file or directory: 'Metalaxyl transport in Crop Soil, 4 Rainfall Patterns'",
     "output_type": "error",
     "traceback": [
      "\u001b[1;31m---------------------------------------------------------------------------\u001b[0m",
      "\u001b[1;31mFileNotFoundError\u001b[0m                         Traceback (most recent call last)",
      "\u001b[1;32m<ipython-input-3-dbb008fbd331>\u001b[0m in \u001b[0;36m<module>\u001b[1;34m()\u001b[0m\n\u001b[0;32m      1\u001b[0m \u001b[1;31m#Load the original doc in\u001b[0m\u001b[1;33m\u001b[0m\u001b[1;33m\u001b[0m\u001b[0m\n\u001b[1;32m----> 2\u001b[1;33m \u001b[0mmynb\u001b[0m\u001b[1;33m=\u001b[0m\u001b[0mnb\u001b[0m\u001b[1;33m.\u001b[0m\u001b[0mread\u001b[0m\u001b[1;33m(\u001b[0m\u001b[1;34m'Metalaxyl transport in Crop Soil, 4 Rainfall Patterns'\u001b[0m\u001b[1;33m,\u001b[0m\u001b[0mnb\u001b[0m\u001b[1;33m.\u001b[0m\u001b[0mNO_CONVERT\u001b[0m\u001b[1;33m)\u001b[0m\u001b[1;33m\u001b[0m\u001b[0m\n\u001b[0m\u001b[0;32m      3\u001b[0m \u001b[1;33m\u001b[0m\u001b[0m\n\u001b[0;32m      4\u001b[0m \u001b[1;31m#For each cell in the original doc:\u001b[0m\u001b[1;33m\u001b[0m\u001b[1;33m\u001b[0m\u001b[0m\n\u001b[0;32m      5\u001b[0m \u001b[1;32mfor\u001b[0m \u001b[0mi\u001b[0m \u001b[1;32min\u001b[0m \u001b[0mmynb\u001b[0m\u001b[1;33m[\u001b[0m\u001b[1;34m'cells'\u001b[0m\u001b[1;33m]\u001b[0m\u001b[1;33m:\u001b[0m\u001b[1;33m\u001b[0m\u001b[0m\n",
      "\u001b[1;32mC:\\Users\\pablo\\AppData\\Local\\Continuum\\Anaconda3\\lib\\site-packages\\nbformat\\__init__.py\u001b[0m in \u001b[0;36mread\u001b[1;34m(fp, as_version, **kwargs)\u001b[0m\n\u001b[0;32m    136\u001b[0m     \"\"\"\n\u001b[0;32m    137\u001b[0m     \u001b[1;32mif\u001b[0m \u001b[0misinstance\u001b[0m\u001b[1;33m(\u001b[0m\u001b[0mfp\u001b[0m\u001b[1;33m,\u001b[0m \u001b[0mpy3compat\u001b[0m\u001b[1;33m.\u001b[0m\u001b[0mstring_types\u001b[0m\u001b[1;33m)\u001b[0m\u001b[1;33m:\u001b[0m\u001b[1;33m\u001b[0m\u001b[0m\n\u001b[1;32m--> 138\u001b[1;33m         \u001b[1;32mwith\u001b[0m \u001b[0mio\u001b[0m\u001b[1;33m.\u001b[0m\u001b[0mopen\u001b[0m\u001b[1;33m(\u001b[0m\u001b[0mfp\u001b[0m\u001b[1;33m,\u001b[0m \u001b[0mencoding\u001b[0m\u001b[1;33m=\u001b[0m\u001b[1;34m'utf-8'\u001b[0m\u001b[1;33m)\u001b[0m \u001b[1;32mas\u001b[0m \u001b[0mf\u001b[0m\u001b[1;33m:\u001b[0m\u001b[1;33m\u001b[0m\u001b[0m\n\u001b[0m\u001b[0;32m    139\u001b[0m             \u001b[1;32mreturn\u001b[0m \u001b[0mread\u001b[0m\u001b[1;33m(\u001b[0m\u001b[0mf\u001b[0m\u001b[1;33m,\u001b[0m \u001b[0mas_version\u001b[0m\u001b[1;33m,\u001b[0m \u001b[1;33m**\u001b[0m\u001b[0mkwargs\u001b[0m\u001b[1;33m)\u001b[0m\u001b[1;33m\u001b[0m\u001b[0m\n\u001b[0;32m    140\u001b[0m \u001b[1;33m\u001b[0m\u001b[0m\n",
      "\u001b[1;31mFileNotFoundError\u001b[0m: [Errno 2] No such file or directory: 'Metalaxyl transport in Crop Soil, 4 Rainfall Patterns'"
     ]
    }
   ],
   "source": [
    "#Load the original doc in\n",
    "mynb=nb.read('Metalaxyl transport in Crop Soil, 4 Rainfall Patterns.',nb.NO_CONVERT)\n",
    "\n",
    "#For each cell in the original doc:\n",
    "for i in mynb['cells']:\n",
    "    if (i['cell_type']=='markdown'):\n",
    "        #See if we can stop a standalone notebook code delimiter\n",
    "        if ('START NOTEBOOK' in i['source']):\n",
    "            #At the start of a block, create a new notebook\n",
    "            innb=True\n",
    "            test=nb4.new_notebook()\n",
    "        elif ('END NOTEBOOK' in i['source']):\n",
    "            #At the end of the block, save the code to a new standalone notebook file\n",
    "            innb=False\n",
    "            nb.write(test,'test{}.ipynb'.format(c))\n",
    "            c=c+1\n",
    "        elif (innb):\n",
    "            test.cells.append(nb4.new_markdown_cell(i['source']))\n",
    "        else:\n",
    "            monolith.cells.append(nb4.new_markdown_cell(i['source']))\n",
    "    elif (i['cell_type']=='code'):\n",
    "        #For the code cells, preserve any output text\n",
    "        cc=nb4.new_code_cell(i['source'])\n",
    "        for o in i['outputs']:\n",
    "            cc['outputs'].append(o)\n",
    "        #Route the code cell as required...\n",
    "        if (innb):\n",
    "            test.cells.append(cc)\n",
    "        else:\n",
    "            monolith.cells.append(cc)\n",
    " \n",
    "#Save the monolithic notebook\n",
    "nb.write(monolith,'monolith.ipynb')"
   ]
  },
  {
   "cell_type": "code",
   "execution_count": null,
   "metadata": {
    "collapsed": false
   },
   "outputs": [],
   "source": [
    "#Convert it to markdown\n",
    "!jupyter nbconvert --to markdown monolith.ipynb\n",
    " "
   ]
  },
  {
   "cell_type": "code",
   "execution_count": null,
   "metadata": {
    "collapsed": true
   },
   "outputs": [],
   "source": [
    "##On a Mac, I got pandoc via:\n",
    "#brew install pandoc\n",
    "\n",
    "#Generate a Microsoft .docx file from the markdown\n",
    "!pandoc -o monolith.docx -f markdown -t docx monolith.md"
   ]
  },
  {
   "cell_type": "code",
   "execution_count": null,
   "metadata": {
    "collapsed": true
   },
   "outputs": [],
   "source": []
  }
 ],
 "metadata": {
  "anaconda-cloud": {},
  "kernelspec": {
   "display_name": "Python [Root]",
   "language": "python",
   "name": "Python [Root]"
  },
  "language_info": {
   "codemirror_mode": {
    "name": "ipython",
    "version": 3
   },
   "file_extension": ".py",
   "mimetype": "text/x-python",
   "name": "python",
   "nbconvert_exporter": "python",
   "pygments_lexer": "ipython3",
   "version": "3.5.2"
  }
 },
 "nbformat": 4,
 "nbformat_minor": 0
}
