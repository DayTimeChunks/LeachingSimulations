{
 "cells": [
  {
   "cell_type": "markdown",
   "metadata": {},
   "source": [
    "START NOTEBOOK"
   ]
  },
  {
   "cell_type": "markdown",
   "metadata": {},
   "source": [
    "## Set-up "
   ]
  },
  {
   "cell_type": "code",
   "execution_count": 1,
   "metadata": {
    "collapsed": false
   },
   "outputs": [],
   "source": [
    "from hydroplots import *\n",
    "from leach_hydrology import *\n",
    "import numpy as np\n",
    "\n",
    "import mpld3\n",
    "mpld3.enable_notebook()\n",
    "\n",
    "# Plot graphs within this document\n",
    "%matplotlib inline\n",
    "\n",
    "# Plot graphs outside (for interaction)\n",
    "# %matplotlib\n",
    "\n",
    "from pestmob import *\n",
    "from mixinglayer import *"
   ]
  },
  {
   "cell_type": "markdown",
   "metadata": {},
   "source": [
    "### Microcosm"
   ]
  },
  {
   "cell_type": "code",
   "execution_count": 2,
   "metadata": {
    "collapsed": true
   },
   "outputs": [],
   "source": [
    "d = (14.93 * 2)  # Diameter of falcon tube (mm)\n",
    "area = ((d / 2) ** 2) * 3.1416  # (mm2)\n",
    "zl = soil_height1 = 20  # Mixing layer depth in mm"
   ]
  },
  {
   "cell_type": "markdown",
   "metadata": {},
   "source": [
    "### Soil - Hydrological Characteristics"
   ]
  },
  {
   "cell_type": "code",
   "execution_count": 3,
   "metadata": {
    "collapsed": false
   },
   "outputs": [],
   "source": [
    "''' Hydrological controlling parameters'''\n",
    "\n",
    "porosity_vine = 0.55  # Vinyard soil\n",
    "kSat_vine = 17.62/60  # mm/min (17.62 cm/h - Rouffach \n",
    "# (Martine Trautmann, sampled pre-event)\n",
    "\n",
    "ov_1 = 0.21   # Initial water content m3. m-3\n",
    "ovSat_vine = 0.55  # Saturated water content (assumed)\n",
    "psi_vine = 1100  # soil suction Rouffach (guess) mm\n"
   ]
  },
  {
   "cell_type": "markdown",
   "metadata": {},
   "source": [
    "# Results"
   ]
  },
  {
   "cell_type": "markdown",
   "metadata": {},
   "source": [
    "## Hydrology - 1st pulse"
   ]
  },
  {
   "cell_type": "code",
   "execution_count": 4,
   "metadata": {
    "collapsed": false
   },
   "outputs": [
    {
     "name": "stdout",
     "output_type": "stream",
     "text": [
      "Mass balance 0.0\n",
      "Mass balance 0.0\n",
      "Mass balance 0.0\n"
     ]
    }
   ],
   "source": [
    "water_data = leachsim(ovSat=ovSat_vine,\n",
    "                      kSat=kSat_vine,\n",
    "                      ov = ov_1,\n",
    "                      psi=psi_vine,\n",
    "                      soil_height=soil_height1)\n",
    "\n",
    "# Time\n",
    "cum_time_30min = water_data[:, 0]\n",
    "\n",
    "# Cummulative infiltration\n",
    "cum_inf_135mmh = water_data[:, 4]\n",
    "cum_inf_55mmh = water_data[:, 5] \n",
    "cum_inf_30mmh = water_data[:, 6] \n",
    "\n",
    "# Cummulative leaching\n",
    "cum_leach_135mmh = water_data[:, 7]\n",
    "cum_leach_55mmh = water_data[:, 8]\n",
    "cum_leach_30mmh = water_data[:, 9]\n",
    "\n",
    "# Ponding\n",
    "roff_135mmh = water_data[:, 10]\n",
    "roff_55mmh = water_data[:, 11]\n",
    "roff_30mmh = water_data[:, 12]\n",
    "\n",
    "# Cummulative ponding\n",
    "cum_roff_135mmh = water_data[:, 13]\n",
    "cum_roff_55mmh = water_data[:, 14]\n",
    "cum_roff_30mmh = water_data[:, 15]\n",
    "\n",
    "infil_135mmh = water_data[:, 16]\n",
    "infil_55mmh = water_data[:, 17]\n",
    "infil_30mmh = water_data[:, 18]\n",
    "\n",
    "percol_data1 = stackdata3(cum_time_30min,\n",
    "                          cum_leach_135mmh, \n",
    "                          cum_leach_55mmh, \n",
    "                          cum_leach_30mmh)\n",
    "\n",
    "runoff_data1 = stackdata3(cum_time_30min,\n",
    "                          cum_roff_135mmh, \n",
    "                          cum_roff_55mmh, \n",
    "                          cum_roff_30mmh)\n",
    "\n",
    "infil_data1 = stackdata3(cum_time_30min,\n",
    "                         infil_135mmh, \n",
    "                         infil_55mmh, \n",
    "                         infil_30mmh)\n",
    "\n",
    "time_size_135mmh = water_data[:, 19]\n",
    "time_size_55mmhA = water_data[:, 20]\n",
    "time_size_55mmhB = water_data[:, 20]\n",
    "time_size_30mmh = water_data[:, 21]\n",
    "\n",
    "time_sizes1 = [time_size_135mmh, time_size_135mmh,\n",
    "               time_size_55mmhA, time_size_55mmhA,\n",
    "               time_size_55mmhB, time_size_55mmhB,\n",
    "               time_size_30mmh, time_size_30mmh]\n",
    "\n",
    "\"\"\" Observed Hydrlogy Vineyard \"\"\"\n",
    "leach_high_6min = np.array([13.609, 13.610, 17.676, 17.705])  # all at 6 min\n",
    "leach_med_12min = np.array([13.787, 11.112, 11.858, 11.294])  # all at 12 min\n",
    "leach_med_30min = np.array([48.185, 46.402, 48.164, 47.032])  # all at 30min\n",
    "leach_low_30min = np.array([22.595, 19.082, 21.285, 20.871])  # all at 30min\n"
   ]
  },
  {
   "cell_type": "code",
   "execution_count": 5,
   "metadata": {
    "collapsed": false
   },
   "outputs": [],
   "source": [
    "#hydroplot(percol_data1, \n",
    "#          \"Percolated at 135mm/h\", \"Percolated at 55mm/h\", \"Percolated at 30mm/h\",\n",
    "#          leach_high_6min, \n",
    "#          leach_med_12min, leach_med_30min, \n",
    "#          leach_low_30min,\n",
    "#          \"Leached Volume [mL] - Vine Soil 1st Pulse\")"
   ]
  },
  {
   "cell_type": "markdown",
   "metadata": {},
   "source": [
    "## Transport - 1st pulse"
   ]
  },
  {
   "cell_type": "markdown",
   "metadata": {},
   "source": [
    "** Initial and observed mass in leachate and ponding **"
   ]
  },
  {
   "cell_type": "code",
   "execution_count": 7,
   "metadata": {
    "collapsed": false
   },
   "outputs": [],
   "source": [
    "#  Dictionary contains:\n",
    "#  Scenario: (initial_mass, leached_mass_observed, ponded_mass_obs)\n",
    "znVn_dict_S_1st = {\n",
    "    'a_high_0d': (2810.8, 0.6, 'nan'),\n",
    "    'b_high_1d': (3121.5, 2.4, 'nan'),\n",
    "    'c_med12_0d': (2810.8, 0.8, 'nan'),\n",
    "    'd_med12_1d': (3121.5, 'nan', 'nan'),\n",
    "    'e_med30_0d': (2810.8, 24.2, 'nan'),\n",
    "    'f_med30_1d': (3121.5, 4.3, 'nan'),\n",
    "    'g_low_0d': (2810.8, 1.8, 'nan'),\n",
    "    'h_low_1d': (3121.5, 'nan', 'nan')\n",
    "}\n",
    "\n",
    "znVn_dict_L_1st = {\n",
    "    'a_high_0d': (3216.2, 'nan', 'nan'),\n",
    "    'b_high_1d': (3030.5, 'nan', 'nan'),\n",
    "    'c_med12_0d': (3216.2, 'nan', 'nan'),\n",
    "    'd_med12_1d': (3030.5, 'nan', 'nan'),\n",
    "    'e_med30_0d': (3216.2, 0.5, 'nan'),\n",
    "    'f_med30_1d': (3030.5, 10.0,  'nan'),\n",
    "    'g_low_0d': (3216.2, 'nan', 'nan'),\n",
    "    'h_low_1d': (3030.5, 'nan', 'nan')\n",
    "}"
   ]
  },
  {
   "cell_type": "markdown",
   "metadata": {},
   "source": [
    "#### Soil transport Charachteristics"
   ]
  },
  {
   "cell_type": "code",
   "execution_count": 8,
   "metadata": {
    "collapsed": true
   },
   "outputs": [],
   "source": [
    "# Soil characteristics\n",
    "pb_vine = 1.04/10**3  # bulk density (g/cm^3) \n",
    "# g/mm^3, Rouffach (Martine Trautmann, sampled pre-event)\n",
    "\n",
    "porosity_vine = 0.55  # Vinyard soil\n",
    "\n",
    "# Assumed (used to calculate Reynolds number)\n",
    "runoff_vel = 20.0  # mm/min\n",
    "\n",
    "# Fraction organic matter and carbon (Scenario 1)\n",
    "fom_vine_sterile = 3.53/100.0\n",
    "fom_vine_untreat = 2.93/100.0\n",
    "foc_vine_sterile = 0.58*fom_vine_sterile\n",
    "foc_vine_untreat = 0.58*fom_vine_untreat"
   ]
  },
  {
   "cell_type": "markdown",
   "metadata": {},
   "source": [
    "### Zinc Properties"
   ]
  },
  {
   "cell_type": "code",
   "execution_count": 9,
   "metadata": {
    "collapsed": false
   },
   "outputs": [],
   "source": [
    "# Kd (Zinc) Allison and Allison, 2005 - EPA/600/R-05/074:  \n",
    "# log(Kd) range: 1.5 - 6.9\n",
    "Kd_zinc1 = 10**0.5  # [mL/g] = [L/Kg] \n",
    "Kd_zinc2 = 10**0.8\n",
    "Kd_zinc3 = 10**1.0\n",
    "Kd_zinc4 = 10**1.5\n",
    "\n",
    "Kd_zinc = [Kd_zinc1, Kd_zinc2, Kd_zinc3, Kd_zinc4]\n",
    "Kd_zinc = np.array(Kd_zinc)*10**3  # mm3/g"
   ]
  },
  {
   "cell_type": "code",
   "execution_count": 10,
   "metadata": {
    "collapsed": false
   },
   "outputs": [],
   "source": [
    "# kd_array = np.asarray(Kd_mexyl_sterile)\n",
    "# np.log10(kd_array)"
   ]
  },
  {
   "cell_type": "markdown",
   "metadata": {},
   "source": [
    "### Computation transport - 1st pulse"
   ]
  },
  {
   "cell_type": "code",
   "execution_count": 11,
   "metadata": {
    "collapsed": false
   },
   "outputs": [
    {
     "name": "stdout",
     "output_type": "stream",
     "text": [
      "Best log Kd:  4.5 ( Num:  4 ) \n",
      " Error:  0.230997833209 , R2:  0.509711453457\n",
      "SSres:  237.75508011\n",
      "SStot:  484.9288888888888\n",
      "mean mass:  5.683333333333333 sum_mass: 34.099999999999994\n"
     ]
    }
   ],
   "source": [
    "# Any length unit input must be: \"mm\"\n",
    "pest_sterile_1st = pest_test3(\n",
    "    Kd_zinc,\n",
    "    znVn_dict_S_1st,          \n",
    "    pb_vine,\n",
    "    ovSat_vine,\n",
    "    percol_data1, percol_data1,\n",
    "    runoff_data1, runoff_data1, \n",
    "    time_sizes1,\n",
    "    area, soil_height1, \n",
    "    d, runoff_vel,\n",
    "    KFILM = True,\n",
    "    first_cycle = True)"
   ]
  },
  {
   "cell_type": "code",
   "execution_count": 12,
   "metadata": {
    "collapsed": false
   },
   "outputs": [
    {
     "name": "stdout",
     "output_type": "stream",
     "text": [
      "Best log Kd:  4.5 ( Num:  4 ) \n",
      " Error:  0.59274052331 , R2:  -0.205075718751\n",
      "SSres:  253.668438797\n",
      "SStot:  210.5\n",
      "mean mass:  5.25 sum_mass: 10.5\n"
     ]
    }
   ],
   "source": [
    "# Any length unit input must be: \"mm\"\n",
    "\n",
    "pest_living_1st = pest_test3(\n",
    "    Kd_zinc,\n",
    "    znVn_dict_L_1st,          \n",
    "    pb_vine,\n",
    "    ovSat_vine,\n",
    "    percol_data1, percol_data1,\n",
    "    runoff_data1, runoff_data1, \n",
    "    time_sizes1,\n",
    "    area, soil_height1, \n",
    "    d, runoff_vel,\n",
    "    KFILM = True,\n",
    "    first_cycle = True)"
   ]
  },
  {
   "cell_type": "markdown",
   "metadata": {},
   "source": [
    "#### Sterile time series"
   ]
  },
  {
   "cell_type": "code",
   "execution_count": 13,
   "metadata": {
    "collapsed": false
   },
   "outputs": [],
   "source": [
    "# Cumulative leachate sterilized\n",
    "high_0d_cum_mass_out_dt = pest_sterile_1st[:, 1]\n",
    "high_1d_cum_mass_out_dt = pest_sterile_1st[:, 2]\n",
    "\n",
    "med12_0d_cum_mass_out_dt = pest_sterile_1st[:, 3]\n",
    "med12_1d_cum_mass_out_dt = pest_sterile_1st[:, 4]\n",
    "\n",
    "med30_0d_cum_mass_out_dt = pest_sterile_1st[:, 5]\n",
    "med30_1d_cum_mass_out_dt = pest_sterile_1st[:, 6]\n",
    "\n",
    "low_0d_cum_mass_out_dt = pest_sterile_1st[:, 7]\n",
    "low_1d_cum_mass_out_dt = pest_sterile_1st[:, 8]\n",
    "\n",
    "# Ponded mass\n",
    "high_0d_overmass_dt = pest_sterile_1st[:, 9]\n",
    "high_1d_overmass_dt = pest_sterile_1st[:, 10]\n",
    "med12_0d_overmass_dt = pest_sterile_1st[:, 11]\n",
    "med12_1d_overmass_dt = pest_sterile_1st[:, 12]\n",
    "\n",
    "med30_0d_overmass_dt = pest_sterile_1st[:, 13]\n",
    "med30_1d_overmass_dt = pest_sterile_1st[:, 14]\n",
    "low_0d_overmass_dt = pest_sterile_1st[:, 15]\n",
    "low_1d_overmass_dt = pest_sterile_1st[:, 16]\n",
    "\n",
    "\n",
    "mass_percol_sterile1 = stackdata8(\n",
    "    cum_time_30min,\n",
    "    high_0d_cum_mass_out_dt, high_1d_cum_mass_out_dt,\n",
    "    med12_0d_cum_mass_out_dt, med12_1d_cum_mass_out_dt,\n",
    "    med30_0d_cum_mass_out_dt, med30_1d_cum_mass_out_dt,\n",
    "    low_0d_cum_mass_out_dt, low_1d_cum_mass_out_dt)\n",
    "\n",
    "mass_pond_sterile1 = stackdata8(\n",
    "    cum_time_30min,\n",
    "    high_0d_overmass_dt, high_1d_overmass_dt,\n",
    "    med12_0d_overmass_dt, med12_1d_overmass_dt,\n",
    "    med30_0d_overmass_dt, med30_1d_overmass_dt,\n",
    "    low_0d_overmass_dt, low_1d_overmass_dt)"
   ]
  },
  {
   "cell_type": "markdown",
   "metadata": {},
   "source": [
    "#### Living  time series"
   ]
  },
  {
   "cell_type": "code",
   "execution_count": 14,
   "metadata": {
    "collapsed": true
   },
   "outputs": [],
   "source": [
    "# Cumulative leachate sterilized\n",
    "high_0d_cum_mass_out_dt = pest_living_1st[:, 1]\n",
    "high_1d_cum_mass_out_dt = pest_living_1st[:, 2]\n",
    "\n",
    "med12_0d_cum_mass_out_dt = pest_living_1st[:, 3]\n",
    "med12_1d_cum_mass_out_dt = pest_living_1st[:, 4]\n",
    "\n",
    "med30_0d_cum_mass_out_dt = pest_living_1st[:, 5]\n",
    "med30_1d_cum_mass_out_dt = pest_living_1st[:, 6]\n",
    "\n",
    "low_0d_cum_mass_out_dt = pest_living_1st[:, 7]\n",
    "low_1d_cum_mass_out_dt = pest_living_1st[:, 8]\n",
    "\n",
    "# Ponded mass\n",
    "high_0d_overmass_dt = pest_living_1st[:, 9]\n",
    "high_1d_overmass_dt = pest_living_1st[:, 10]\n",
    "med12_0d_overmass_dt = pest_living_1st[:, 11]\n",
    "med12_1d_overmass_dt = pest_living_1st[:, 12]\n",
    "\n",
    "med30_0d_overmass_dt = pest_living_1st[:, 13]\n",
    "med30_1d_overmass_dt = pest_living_1st[:, 14]\n",
    "low_0d_overmass_dt = pest_living_1st[:, 15]\n",
    "low_1d_overmass_dt = pest_living_1st[:, 16]\n",
    "\n",
    "mass_percol_living1 = stackdata8(\n",
    "    cum_time_30min,\n",
    "    high_0d_cum_mass_out_dt, high_1d_cum_mass_out_dt, \n",
    "    med12_0d_cum_mass_out_dt, med12_1d_cum_mass_out_dt, \n",
    "    med30_0d_cum_mass_out_dt, med30_1d_cum_mass_out_dt,\n",
    "    low_0d_cum_mass_out_dt, low_1d_cum_mass_out_dt)\n",
    "\n",
    "mass_pond_living1 = stackdata8(\n",
    "    cum_time_30min,\n",
    "    high_0d_overmass_dt, high_1d_overmass_dt,\n",
    "    med12_0d_overmass_dt, med12_1d_overmass_dt,\n",
    "    med30_0d_overmass_dt, med30_1d_overmass_dt,\n",
    "    low_0d_overmass_dt, low_1d_overmass_dt)"
   ]
  },
  {
   "cell_type": "markdown",
   "metadata": {},
   "source": [
    "## Plotting transport - Zinc"
   ]
  },
  {
   "cell_type": "markdown",
   "metadata": {},
   "source": [
    "### Sterile (1st Pulse, Vineyard Soil)"
   ]
  },
  {
   "cell_type": "code",
   "execution_count": 15,
   "metadata": {
    "collapsed": false
   },
   "outputs": [
    {
     "data": {
      "image/png": "[encoded data removed]",
      "text/plain": [
       "<matplotlib.figure.Figure at 0x850a470>"
      ]
     },
     "metadata": {},
     "output_type": "display_data"
    }
   ],
   "source": [
    "pestiplot_condition(\n",
    "    mass_percol_sterile1,\n",
    "    znVn_dict_S_1st,\n",
    "    'Zinc',\n",
    "    soil_type='Vineyard Soil',\n",
    "    cycle = '1st pulse',\n",
    "    LEACH = True,\n",
    "    STERILE = True\n",
    ")"
   ]
  },
  {
   "cell_type": "markdown",
   "metadata": {},
   "source": [
    "### Living (1st Pulse, Vineyard Soil)"
   ]
  },
  {
   "cell_type": "code",
   "execution_count": 16,
   "metadata": {
    "collapsed": false
   },
   "outputs": [
    {
     "data": {
      "image/png": "[encoded data removed]",
      "text/plain": [
       "<matplotlib.figure.Figure at 0xb4a8c50>"
      ]
     },
     "metadata": {},
     "output_type": "display_data"
    }
   ],
   "source": [
    "pestiplot_condition(\n",
    "    mass_percol_living1,\n",
    "    znVn_dict_L_1st,\n",
    "    'Zinc',\n",
    "    soil_type='Vineyard Soil',\n",
    "    cycle = '1st pulse',\n",
    "    LEACH = True,\n",
    "    STERILE = False\n",
    ")"
   ]
  },
  {
   "cell_type": "markdown",
   "metadata": {},
   "source": [
    "# Hydrology - 2nd pulse"
   ]
  },
  {
   "cell_type": "code",
   "execution_count": 17,
   "metadata": {
    "collapsed": true
   },
   "outputs": [],
   "source": [
    "''' Hydrological controlling parameters'''\n",
    "soil_height2 = 20  # mm"
   ]
  },
  {
   "cell_type": "markdown",
   "metadata": {},
   "source": [
    "**Observed Percolation - 2nd pulse**"
   ]
  },
  {
   "cell_type": "code",
   "execution_count": 18,
   "metadata": {
    "collapsed": true
   },
   "outputs": [],
   "source": [
    "# Order if array is:\n",
    "#  [sterile, untreat, sterile_aged, untreat_aged]\n",
    "\n",
    "# At 6 min, high inetnesity\n",
    "leach_high_6min = np.array([13.309, 0., 7.394, 6.549]) \n",
    "\n",
    "# At 12 min, med intensity\n",
    "leach_med_12min = np.array([0.958, 3.669, 16.06, 12.988]) \n",
    "\n",
    "# At 30min, med intensity\n",
    "leach_med_30min = np.array([0.941, 18.601, 51.834, 29.232])  \n",
    "\n",
    "# At 30min, low intensity\n",
    "leach_low_30min = np.array([10.157, 26.737, 27.533, 6.197]) "
   ]
  },
  {
   "cell_type": "markdown",
   "metadata": {},
   "source": [
    "**Observed Ponding - 2nd pulse**"
   ]
  },
  {
   "cell_type": "code",
   "execution_count": 19,
   "metadata": {
    "collapsed": true
   },
   "outputs": [],
   "source": [
    "# [sterile, untreat, sterile_aged, untreat_aged]\n",
    "# all at 6 min, high inetnesity\n",
    "roff_high_6min = np.array([8.991, 26.633, 15.720, 19.350])  \n",
    "\n",
    "# all at 12 min, med intensity\n",
    "roff_med_12min = np.array([21.193, 17.731, 0.756, 8.025]) \n",
    "\n",
    "# all at 30min, med intensity\n",
    "roff_med_30min = np.array([54.633, 39.350, 0., 23.688])  \n",
    "\n",
    "# all at 30min, low intensity\n",
    "roff_low_30min = np.array([13.973, 3.717, 0., 22.827])  "
   ]
  },
  {
   "cell_type": "markdown",
   "metadata": {},
   "source": [
    "### Inverse Ksat determination \n",
    "\n",
    "Based on hisotric rainfall pattern, fresh and aged."
   ]
  },
  {
   "cell_type": "code",
   "execution_count": 20,
   "metadata": {
    "collapsed": false
   },
   "outputs": [
    {
     "name": "stdout",
     "output_type": "stream",
     "text": [
      "0.0 5.093170329928398e-11 4.3655745685100555e-11 -7.275957614183426e-12\n",
      "ksat high:  0.011746666666666667\n",
      "ksat med12:  0.002936666666666667\n",
      "ksat med30:  0.011746666666666667\n",
      "ksat low:  0.011746666666666667\n"
     ]
    }
   ],
   "source": [
    "water2_ktest_fresh = leachsim2(\n",
    "    leach_high_6min, leach_med_12min, leach_med_30min, leach_low_30min,\n",
    "    kSat = [kSat_vine/25, kSat_vine/50, kSat_vine/100, \n",
    "            kSat_vine/125, kSat_vine/140],\n",
    "    soil_height=soil_height2,\n",
    "    soil = 'Rouff',\n",
    "    dtGA = 1,\n",
    "    AGED = False\n",
    ")"
   ]
  },
  {
   "cell_type": "code",
   "execution_count": 21,
   "metadata": {
    "collapsed": false
   },
   "outputs": [
    {
     "name": "stdout",
     "output_type": "stream",
     "text": [
      "0.0 4.3655745685100555e-11 4.3655745685100555e-11 -7.275957614183426e-12\n",
      "ksat high:  0.011746666666666667\n",
      "ksat med12:  0.011746666666666667\n",
      "ksat med30:  0.011746666666666667\n",
      "ksat low:  0.011746666666666667\n"
     ]
    }
   ],
   "source": [
    "water2_ktest_aged = leachsim2(\n",
    "    leach_high_6min, leach_med_12min, leach_med_30min, leach_low_30min,\n",
    "    kSat = [kSat_vine/25, kSat_vine/50, kSat_vine/100, \n",
    "            kSat_vine/125, kSat_vine/140],\n",
    "    soil_height=soil_height2,\n",
    "    soil = 'Rouff',\n",
    "    dtGA = 1,\n",
    "    AGED = True\n",
    ")"
   ]
  },
  {
   "cell_type": "markdown",
   "metadata": {},
   "source": [
    "#### Time series fresh"
   ]
  },
  {
   "cell_type": "code",
   "execution_count": 22,
   "metadata": {
    "collapsed": true
   },
   "outputs": [],
   "source": [
    "# Time axis\n",
    "cum_time_30min = water2_ktest_fresh[:, 0]\n",
    "\n",
    "# Cumulative leachate\n",
    "cum_leach_135mmh = water2_ktest_fresh[:, 9]\n",
    "cum_leach_55mmhA = water2_ktest_fresh[:, 10]\n",
    "cum_leach_55mmhB = water2_ktest_fresh[:, 11]\n",
    "cum_leach_30mmh = water2_ktest_fresh[:, 12]\n",
    "\n",
    "# Group each compartment for graphing\n",
    "percol_data2_fresh = stackdata4(\n",
    "    cum_time_30min,\n",
    "    cum_leach_135mmh, \n",
    "    cum_leach_55mmhA, cum_leach_55mmhB, \n",
    "    cum_leach_30mmh)\n",
    "\n",
    "# Ponding fresh\n",
    "roff_135mmh = water2_ktest_fresh[:, 13]\n",
    "roff_55mmhA = water2_ktest_fresh[:, 14]\n",
    "roff_55mmhB = water2_ktest_fresh[:, 15]\n",
    "roff_30mmh = water2_ktest_fresh[:, 16]\n",
    "\n",
    "# Cummulative ponding\n",
    "cum_roff_135mmh = water2_ktest_fresh[:, 17]\n",
    "cum_roff_55mmhA = water2_ktest_fresh[:, 18]\n",
    "cum_roff_55mmhB = water2_ktest_fresh[:, 19]\n",
    "cum_roff_30mmh = water2_ktest_fresh[:, 20]\n",
    "\n",
    "runoff_data2_fresh = stackdata4(\n",
    "    cum_time_30min,\n",
    "    cum_roff_135mmh, \n",
    "    cum_roff_55mmhA, cum_roff_55mmhB, \n",
    "    cum_roff_30mmh)\n",
    "\n",
    "time_size_135mmh = water2_ktest_fresh[:, 25]\n",
    "time_size_55mmhA = water2_ktest_fresh[:, 26]\n",
    "time_size_55mmhB = water2_ktest_fresh[:, 27]\n",
    "time_size_30mmh = water2_ktest_fresh[:, 28]\n",
    "\n",
    "time_sizes2 = [time_size_135mmh, \n",
    "               time_size_55mmhA, time_size_55mmhB, \n",
    "               time_size_30mmh]"
   ]
  },
  {
   "cell_type": "markdown",
   "metadata": {},
   "source": [
    "#### Time series aged"
   ]
  },
  {
   "cell_type": "code",
   "execution_count": 23,
   "metadata": {
    "collapsed": true
   },
   "outputs": [],
   "source": [
    "# Time axis\n",
    "cum_time_30min = water2_ktest_aged[:, 0]\n",
    "\n",
    "# Cumulative leachate\n",
    "cum_leach_135mmh = water2_ktest_aged[:, 9]\n",
    "cum_leach_55mmhA = water2_ktest_aged[:, 10]\n",
    "cum_leach_55mmhB = water2_ktest_aged[:, 11]\n",
    "cum_leach_30mmh = water2_ktest_aged[:, 12]\n",
    "\n",
    "# Group each compartment for graphing\n",
    "percol_data2_aged = stackdata4(cum_time_30min,\n",
    "                               cum_leach_135mmh, \n",
    "                               cum_leach_55mmhA, \n",
    "                               cum_leach_55mmhB, \n",
    "                               cum_leach_30mmh)\n",
    "\n",
    "# Ponding Aged\n",
    "roff_135mmh = water2_ktest_aged[:, 13]\n",
    "roff_55mmhA = water2_ktest_aged[:, 14]\n",
    "roff_55mmhB = water2_ktest_aged[:, 15]\n",
    "roff_30mmh = water2_ktest_aged[:, 16]\n",
    "\n",
    "# Cummulative ponding\n",
    "cum_roff_135mmh = water2_ktest_aged[:, 17]\n",
    "cum_roff_55mmhA = water2_ktest_aged[:, 18]\n",
    "cum_roff_55mmhB = water2_ktest_aged[:, 19]\n",
    "cum_roff_30mmh = water2_ktest_aged[:, 20]\n",
    "\n",
    "\n",
    "runoff_data2_aged = stackdata4(cum_time_30min,\n",
    "                               cum_roff_135mmh, \n",
    "                               cum_roff_55mmhA, \n",
    "                               cum_roff_55mmhB, \n",
    "                               cum_roff_30mmh)\n",
    "\n",
    "time_size_135mmh = water2_ktest_aged[:, 25]\n",
    "time_size_55mmhA = water2_ktest_aged[:, 26]\n",
    "time_size_55mmhB = water2_ktest_aged[:, 27]\n",
    "time_size_30mmh = water2_ktest_aged[:, 28]\n",
    "\n",
    "time_sizes2 = [time_size_135mmh, time_size_135mmh, \n",
    "               time_size_55mmhA, time_size_55mmhA, \n",
    "               time_size_55mmhB, time_size_55mmhB, \n",
    "               time_size_30mmh, time_size_30mmh]"
   ]
  },
  {
   "cell_type": "markdown",
   "metadata": {},
   "source": [
    "### Percolation & ponding - 2nd pulse (fresh soil)"
   ]
  },
  {
   "cell_type": "code",
   "execution_count": 24,
   "metadata": {
    "collapsed": false
   },
   "outputs": [],
   "source": [
    "#hydroplot2(percol_data2_fresh, \n",
    "#          \"Leached, 135mm/h - A\", \n",
    "#           \"Leached, 55mm/h - B\", \"Leached, 55mm/h - C\", \n",
    "#           \"Leached, 30mm/h - D\",\n",
    "#          leach_high_6min, \n",
    "#          leach_med_12min, leach_med_30min, \n",
    "#          leach_low_30min,\n",
    "#         \"Leached Volume [mL] - Vineyard Soil 2nd Pulse\",\n",
    "#          AGED = False)"
   ]
  },
  {
   "cell_type": "code",
   "execution_count": 25,
   "metadata": {
    "collapsed": false
   },
   "outputs": [],
   "source": [
    "#hydroplot2(runoff_data2_fresh, \n",
    "#          \"Ponded, 135mm/h - A\", \n",
    "#           \"Ponded, 55mm/h - B\", \"Ponded, 55mm/h - C\", \n",
    "#           \"Ponded, 30mm/h - D\",\n",
    "#           roff_high_6min, \n",
    "#           roff_med_12min, roff_med_30min, \n",
    "#           roff_low_30min,\n",
    "#           \"Ponded Volume [mL] - Vineyard Soil 2nd Pulse\",\n",
    "#           AGED = False)"
   ]
  },
  {
   "cell_type": "markdown",
   "metadata": {},
   "source": [
    "### Percolation and ponding - 2nd pulse (aged soil)"
   ]
  },
  {
   "cell_type": "code",
   "execution_count": 26,
   "metadata": {
    "collapsed": false
   },
   "outputs": [],
   "source": [
    "#hydroplot2(percol_data2_aged,\n",
    "#           \"Leached, 135mm/h - A\", \n",
    "#           \"Leached, 55mm/h - B\", \"Leached, 55mm/h - C\", \n",
    "#           \"Leached, 30mm/h - D\",\n",
    "#           leach_high_6min, \n",
    "#           leach_med_12min, leach_med_30min, \n",
    "#           leach_low_30min,\n",
    "#           \"Leached Volume [mL] - Vineyard Soil 2nd Pulse\",\n",
    "#            AGED = True)"
   ]
  },
  {
   "cell_type": "code",
   "execution_count": 27,
   "metadata": {
    "collapsed": false
   },
   "outputs": [],
   "source": [
    "#hydroplot2(runoff_data2_aged, \n",
    "#          \"Ponded, 135mm/h A\" , \n",
    "#           \"Ponded, 55mm/h - B\", \"Ponded, 55mm/h - C\", \n",
    "#           \"Ponded, 30mm/h - D\",\n",
    "#           roff_high_6min, \n",
    "#           roff_med_12min, roff_med_30min, \n",
    "#           roff_low_30min,\n",
    "#           \"Ponded Volume [mL] - Vineyard Soil 2nd Pulse\",\n",
    "#            AGED = True)"
   ]
  },
  {
   "cell_type": "markdown",
   "metadata": {},
   "source": [
    "## Transport - 2nd pulse"
   ]
  },
  {
   "cell_type": "markdown",
   "metadata": {},
   "source": [
    "** Initial and observed mass in leachate and ponding **"
   ]
  },
  {
   "cell_type": "code",
   "execution_count": 28,
   "metadata": {
    "collapsed": true
   },
   "outputs": [],
   "source": [
    "#  Dictionary contains:\n",
    "#  Scenario: (initial_mass, leached_mass_observed, ponded_mass_obs, percolated_vol, roff_vol)\n",
    "znVn_dict_S_2nd = {\n",
    "    'a_high_0d': (2810.2, 'nan', 'nan'),\n",
    "    'b_high_1d': (3119.1, 'nan', 'nan'),\n",
    "    'c_med12_0d': (2810.0, 'nan', 'nan'),\n",
    "    'd_med12_1d': (3022, 'nan', 'nan'),  # not recorded\n",
    "    'e_med30_0d': (2786.6, 'nan', 'nan'),\n",
    "    'f_med30_1d': (3117.3, 1.6, 'nan'),\n",
    "    'g_low_0d': (2809.0, 'nan', 'nan'),\n",
    "    'h_low_1d': (3010,  'nan', 'nan')  # not recorded\n",
    "}\n",
    "\n",
    "znVn_dict_L_2nd = {\n",
    "    'a_high_0d': (3264, 'nan', 'nan'), # not recorded\n",
    "    'b_high_1d': (2875, 'nan', 'nan'), # not recorded\n",
    "    'c_med12_0d': (3428, 'nan', 'nan'), # not recorded\n",
    "    'd_med12_1d': (2890, 'nan', 'nan'), # not recorded\n",
    "    'e_med30_0d': (3215.7, 'nan', 'nan'),\n",
    "    'f_med30_1d': (3020.6, 'nan', 'nan'), # not recorded\n",
    "    'g_low_0d': (2196, 'nan', 'nan'), # not recorded\n",
    "    'h_low_1d': (2860, 'nan', 'nan')  # not recorded\n",
    "}"
   ]
  },
  {
   "cell_type": "markdown",
   "metadata": {},
   "source": [
    "#### Change in organic matter characterisitics"
   ]
  },
  {
   "cell_type": "code",
   "execution_count": 29,
   "metadata": {
    "collapsed": true
   },
   "outputs": [],
   "source": [
    "# ignored..."
   ]
  },
  {
   "cell_type": "markdown",
   "metadata": {},
   "source": [
    "### Computation mass transfer - Zinc, Vine, 2nd Pulse"
   ]
  },
  {
   "cell_type": "markdown",
   "metadata": {},
   "source": [
    "#### Kd optimal (sterile)"
   ]
  },
  {
   "cell_type": "code",
   "execution_count": 30,
   "metadata": {
    "collapsed": false
   },
   "outputs": [
    {
     "ename": "UnboundLocalError",
     "evalue": "local variable 'kd_chosen' referenced before assignment",
     "output_type": "error",
     "traceback": [
      "\u001b[1;31m---------------------------------------------------------------------------\u001b[0m",
      "\u001b[1;31mUnboundLocalError\u001b[0m                         Traceback (most recent call last)",
      "\u001b[1;32m<ipython-input-30-9ec4cd3b8771>\u001b[0m in \u001b[0;36m<module>\u001b[1;34m()\u001b[0m\n\u001b[0;32m      8\u001b[0m     \u001b[0mtime_sizes2\u001b[0m\u001b[1;33m,\u001b[0m\u001b[1;33m\u001b[0m\u001b[0m\n\u001b[0;32m      9\u001b[0m     \u001b[0marea\u001b[0m\u001b[1;33m,\u001b[0m \u001b[0msoil_height2\u001b[0m\u001b[1;33m,\u001b[0m\u001b[1;33m\u001b[0m\u001b[0m\n\u001b[1;32m---> 10\u001b[1;33m     d, runoff_vel)\n\u001b[0m",
      "\u001b[1;32mD:\\Documents\\these_pablo\\Models\\Leaching\\LeachingSimulations\\pestmob.py\u001b[0m in \u001b[0;36mpest_test3\u001b[1;34m(Kd, pest_dict, pb, ov_sat, percol_data_fresh, percol_data_aged, pond_data_fresh, pond_data_aged, time_sizes, area, soil_height, d, runoffvelocity, KFILM, first_cycle)\u001b[0m\n\u001b[0;32m   1054\u001b[0m             \u001b[1;32mcontinue\u001b[0m\u001b[1;33m\u001b[0m\u001b[0m\n\u001b[0;32m   1055\u001b[0m \u001b[1;33m\u001b[0m\u001b[0m\n\u001b[1;32m-> 1056\u001b[1;33m     print(\"Best log Kd: \", log10(kd_chosen), \"( Num: \", num_kd + 1, \")\", \"\\n\",\n\u001b[0m\u001b[0;32m   1057\u001b[0m           \"Error: \", error, \", R2: \", r_squared)\n\u001b[0;32m   1058\u001b[0m \u001b[1;33m\u001b[0m\u001b[0m\n",
      "\u001b[1;31mUnboundLocalError\u001b[0m: local variable 'kd_chosen' referenced before assignment"
     ]
    }
   ],
   "source": [
    "pest_sterile_2nd = pest_test3(\n",
    "    Kd_zinc,\n",
    "    znVn_dict_S_2nd,\n",
    "    pb_vine,\n",
    "    ovSat_vine,\n",
    "    percol_data2_fresh, runoff_data2_fresh,\n",
    "    percol_data2_aged, runoff_data2_aged, \n",
    "    time_sizes2,\n",
    "    area, soil_height2,\n",
    "    d, runoff_vel)\n"
   ]
  },
  {
   "cell_type": "markdown",
   "metadata": {},
   "source": [
    "#### Kd optimal (living)"
   ]
  },
  {
   "cell_type": "code",
   "execution_count": 31,
   "metadata": {
    "collapsed": false
   },
   "outputs": [
    {
     "ename": "ZeroDivisionError",
     "evalue": "division by zero",
     "output_type": "error",
     "traceback": [
      "\u001b[1;31m---------------------------------------------------------------------------\u001b[0m",
      "\u001b[1;31mZeroDivisionError\u001b[0m                         Traceback (most recent call last)",
      "\u001b[1;32m<ipython-input-31-79bf2450f253>\u001b[0m in \u001b[0;36m<module>\u001b[1;34m()\u001b[0m\n\u001b[0;32m      8\u001b[0m     \u001b[0mtime_sizes2\u001b[0m\u001b[1;33m,\u001b[0m\u001b[1;33m\u001b[0m\u001b[0m\n\u001b[0;32m      9\u001b[0m     \u001b[0marea\u001b[0m\u001b[1;33m,\u001b[0m \u001b[0msoil_height2\u001b[0m\u001b[1;33m,\u001b[0m\u001b[1;33m\u001b[0m\u001b[0m\n\u001b[1;32m---> 10\u001b[1;33m     d, runoff_vel)\n\u001b[0m",
      "\u001b[1;32mD:\\Documents\\these_pablo\\Models\\Leaching\\LeachingSimulations\\pestmob.py\u001b[0m in \u001b[0;36mpest_test3\u001b[1;34m(Kd, pest_dict, pb, ov_sat, percol_data_fresh, percol_data_aged, pond_data_fresh, pond_data_aged, time_sizes, area, soil_height, d, runoffvelocity, KFILM, first_cycle)\u001b[0m\n\u001b[0;32m    682\u001b[0m             \u001b[0mmin_mass\u001b[0m \u001b[1;33m=\u001b[0m \u001b[0mfloat\u001b[0m\u001b[1;33m(\u001b[0m\u001b[0mleach_obs\u001b[0m\u001b[1;33m)\u001b[0m\u001b[1;33m\u001b[0m\u001b[0m\n\u001b[0;32m    683\u001b[0m \u001b[1;33m\u001b[0m\u001b[0m\n\u001b[1;32m--> 684\u001b[1;33m     \u001b[0mmean_mass\u001b[0m \u001b[1;33m=\u001b[0m \u001b[0msum_mass\u001b[0m\u001b[1;33m/\u001b[0m\u001b[0mmasses\u001b[0m\u001b[1;33m\u001b[0m\u001b[0m\n\u001b[0m\u001b[0;32m    685\u001b[0m \u001b[1;33m\u001b[0m\u001b[0m\n\u001b[0;32m    686\u001b[0m     \u001b[0mSStot\u001b[0m \u001b[1;33m=\u001b[0m \u001b[1;36m0\u001b[0m\u001b[1;33m\u001b[0m\u001b[0m\n",
      "\u001b[1;31mZeroDivisionError\u001b[0m: division by zero"
     ]
    }
   ],
   "source": [
    "pest_living_2nd = pest_test3(\n",
    "    Kd_zinc,\n",
    "    znVn_dict_L_2nd,\n",
    "    pb_vine,\n",
    "    ovSat_vine,\n",
    "    percol_data2_fresh, runoff_data2_fresh,\n",
    "    percol_data2_aged, runoff_data2_aged, \n",
    "    time_sizes2,\n",
    "    area, soil_height2,\n",
    "    d, runoff_vel)\n"
   ]
  },
  {
   "cell_type": "markdown",
   "metadata": {},
   "source": [
    "#### Sterile time series"
   ]
  },
  {
   "cell_type": "code",
   "execution_count": null,
   "metadata": {
    "collapsed": false
   },
   "outputs": [],
   "source": [
    "# Time axis\n",
    "cum_time_30min = pest_sterile_2nd[:, 0]\n",
    "\n",
    "# Cumulative leachate sterilized\n",
    "high_0d_cum_mass_out_dt = pest_sterile_2nd[:, 1]\n",
    "high_1d_cum_mass_out_dt = pest_sterile_2nd[:, 2]\n",
    "\n",
    "med12_0d_cum_mass_out_dt = pest_sterile_2nd[:, 3]\n",
    "med12_1d_cum_mass_out_dt = pest_sterile_2nd[:, 4]\n",
    "\n",
    "med30_0d_cum_mass_out_dt = pest_sterile_2nd[:, 5]\n",
    "med30_1d_cum_mass_out_dt = pest_sterile_2nd[:, 6]\n",
    "\n",
    "low_0d_cum_mass_out_dt = pest_sterile_2nd[:, 7]\n",
    "low_1d_cum_mass_out_dt = pest_sterile_2nd[:, 8]\n",
    "\n",
    "# Ponded mass\n",
    "high_0d_overmass_dt = pest_sterile_2nd[:, 9]\n",
    "high_1d_overmass_dt = pest_sterile_2nd[:, 10]\n",
    "med12_0d_overmass_dt = pest_sterile_2nd[:, 11]\n",
    "med12_1d_overmass_dt = pest_sterile_2nd[:, 12]\n",
    "\n",
    "med30_0d_overmass_dt = pest_sterile_2nd[:, 13]\n",
    "med30_1d_overmass_dt = pest_sterile_2nd[:, 14]\n",
    "low_0d_overmass_dt = pest_sterile_2nd[:, 15]\n",
    "low_1d_overmass_dt = pest_sterile_2nd[:, 16]\n",
    "\n",
    "mass_percol_sterile2 = stackdata8(\n",
    "    cum_time_30min,\n",
    "    high_0d_cum_mass_out_dt, high_1d_cum_mass_out_dt, \n",
    "    med12_0d_cum_mass_out_dt, med12_1d_cum_mass_out_dt, \n",
    "    med30_0d_cum_mass_out_dt, med30_1d_cum_mass_out_dt,\n",
    "    low_0d_cum_mass_out_dt, low_1d_cum_mass_out_dt)\n",
    "\n",
    "mass_pond_sterile2 = stackdata8(\n",
    "    cum_time_30min,\n",
    "    high_0d_overmass_dt, high_1d_overmass_dt,\n",
    "    med12_0d_overmass_dt, med12_1d_overmass_dt,\n",
    "    med30_0d_overmass_dt, med30_1d_overmass_dt,\n",
    "    low_0d_overmass_dt, low_1d_overmass_dt)"
   ]
  },
  {
   "cell_type": "markdown",
   "metadata": {},
   "source": [
    "#### Living time series"
   ]
  },
  {
   "cell_type": "code",
   "execution_count": null,
   "metadata": {
    "collapsed": true
   },
   "outputs": [],
   "source": [
    "# Time axis\n",
    "cum_time_30min = pest_living_2nd[:, 0]\n",
    "\n",
    "# Cumulative leachate sterilized\n",
    "high_0d_cum_mass_out_dt = pest_living_2nd[:, 1]\n",
    "high_1d_cum_mass_out_dt = pest_living_2nd[:, 2]\n",
    "\n",
    "med12_0d_cum_mass_out_dt = pest_living_2nd[:, 3]\n",
    "med12_1d_cum_mass_out_dt = pest_living_2nd[:, 4]\n",
    "\n",
    "med30_0d_cum_mass_out_dt = pest_living_2nd[:, 5]\n",
    "med30_1d_cum_mass_out_dt = pest_living_2nd[:, 6]\n",
    "\n",
    "low_0d_cum_mass_out_dt = pest_living_2nd[:, 7]\n",
    "low_1d_cum_mass_out_dt = pest_living_2nd[:, 8]\n",
    "\n",
    "# Ponded mass\n",
    "high_0d_overmass_dt = pest_living_2nd[:, 9]\n",
    "high_1d_overmass_dt = pest_living_2nd[:, 10]\n",
    "med12_0d_overmass_dt = pest_living_2nd[:, 11]\n",
    "med12_1d_overmass_dt = pest_living_2nd[:, 12]\n",
    "\n",
    "med30_0d_overmass_dt = pest_living_2nd[:, 13]\n",
    "med30_1d_overmass_dt = pest_living_2nd[:, 14]\n",
    "low_0d_overmass_dt = pest_living_2nd[:, 15]\n",
    "low_1d_overmass_dt = pest_living_2nd[:, 16]\n",
    "\n",
    "mass_percol_living2 = stackdata8(\n",
    "    cum_time_30min,\n",
    "    high_0d_cum_mass_out_dt, high_1d_cum_mass_out_dt,\n",
    "    med12_0d_cum_mass_out_dt, med12_1d_cum_mass_out_dt,\n",
    "    med30_0d_cum_mass_out_dt, med30_1d_cum_mass_out_dt,\n",
    "    low_0d_cum_mass_out_dt, low_1d_cum_mass_out_dt)\n",
    "\n",
    "mass_pond_living2 = stackdata8(\n",
    "    cum_time_30min,\n",
    "    high_0d_overmass_dt, high_1d_overmass_dt,\n",
    "    med12_0d_overmass_dt, med12_1d_overmass_dt,\n",
    "    med30_0d_overmass_dt, med30_1d_overmass_dt,\n",
    "    low_0d_overmass_dt, low_1d_overmass_dt)"
   ]
  },
  {
   "cell_type": "markdown",
   "metadata": {},
   "source": [
    "## Plotting transport - Zinc"
   ]
  },
  {
   "cell_type": "markdown",
   "metadata": {},
   "source": [
    "### Sterile (2nd Pulse, Vineyard Soil)"
   ]
  },
  {
   "cell_type": "code",
   "execution_count": null,
   "metadata": {
    "collapsed": false
   },
   "outputs": [],
   "source": [
    "pestiplot_condition(\n",
    "    mass_percol_sterile2,\n",
    "    znVn_dict_S_2nd,\n",
    "    'Zinc',\n",
    "    soil_type='Vineyard Soil',\n",
    "    cycle = '2nd pulse',\n",
    "    LEACH = True,\n",
    "    STERILE = True\n",
    ")"
   ]
  },
  {
   "cell_type": "code",
   "execution_count": null,
   "metadata": {
    "collapsed": false
   },
   "outputs": [],
   "source": [
    "pestiplot_condition(\n",
    "    mass_pond_sterile2,\n",
    "    znVn_dict_S_2nd,\n",
    "    'Zinc',\n",
    "    soil_type='Vineyard Soil',\n",
    "    cycle = '2nd pulse',\n",
    "    LEACH = False,\n",
    "    STERILE = True\n",
    ")"
   ]
  },
  {
   "cell_type": "markdown",
   "metadata": {},
   "source": [
    "### Living (2nd Pulse, Vineyard Soil)"
   ]
  },
  {
   "cell_type": "code",
   "execution_count": null,
   "metadata": {
    "collapsed": false
   },
   "outputs": [],
   "source": [
    "pestiplot_condition(\n",
    "    mass_percol_living2,\n",
    "    znVn_dict_L_2nd,\n",
    "    'Zinc',\n",
    "    soil_type='Vineyard Soil',\n",
    "    cycle = '2nd pulse',\n",
    "    LEACH = True,\n",
    "    STERILE = False\n",
    ")"
   ]
  },
  {
   "cell_type": "code",
   "execution_count": null,
   "metadata": {
    "collapsed": false
   },
   "outputs": [],
   "source": [
    "pestiplot_condition(\n",
    "    mass_pond_living2,\n",
    "    znVn_dict_L_2nd,\n",
    "    'Zinc',\n",
    "    soil_type='Vineyard Soil',\n",
    "    cycle = '2nd pulse',\n",
    "    LEACH = False,\n",
    "    STERILE = False\n",
    ")"
   ]
  },
  {
   "cell_type": "markdown",
   "metadata": {},
   "source": [
    "END NOTEBOOK"
   ]
  }
 ],
 "metadata": {
  "anaconda-cloud": {},
  "kernelspec": {
   "display_name": "Python [Root]",
   "language": "python",
   "name": "Python [Root]"
  },
  "language_info": {
   "codemirror_mode": {
    "name": "ipython",
    "version": 3
   },
   "file_extension": ".py",
   "mimetype": "text/x-python",
   "name": "python",
   "nbconvert_exporter": "python",
   "pygments_lexer": "ipython3",
   "version": "3.5.2"
  }
 },
 "nbformat": 4,
 "nbformat_minor": 0
}
