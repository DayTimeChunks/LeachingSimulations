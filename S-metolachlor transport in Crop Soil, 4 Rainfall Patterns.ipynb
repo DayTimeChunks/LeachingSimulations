{
 "cells": [
  {
   "cell_type": "markdown",
   "metadata": {},
   "source": [
    "START NOTEBOOK"
   ]
  },
  {
   "cell_type": "markdown",
   "metadata": {},
   "source": [
    "## Set-up "
   ]
  },
  {
   "cell_type": "code",
   "execution_count": 1,
   "metadata": {
    "collapsed": false
   },
   "outputs": [],
   "source": [
    "from hydroplots import *\n",
    "from leach_hydrology import *\n",
    "import numpy as np\n",
    "\n",
    "import mpld3\n",
    "mpld3.enable_notebook()\n",
    "\n",
    "\n",
    "from mpld3 import plugins\n",
    "\n",
    "# Plot graphs within this document\n",
    "%matplotlib inline\n",
    "\n",
    "# Plot graphs outside (for interaction)\n",
    "# %matplotlib\n",
    "\n",
    "from pestmob import *\n",
    "from mixinglayer import *"
   ]
  },
  {
   "cell_type": "markdown",
   "metadata": {},
   "source": [
    "### Microcosm"
   ]
  },
  {
   "cell_type": "code",
   "execution_count": 2,
   "metadata": {
    "collapsed": true
   },
   "outputs": [],
   "source": [
    "d = (14.93 * 2)  # Diameter of falcon tube (mm)\n",
    "area = ((d / 2) ** 2) * 3.1416  # (mm2)\n",
    "zl = soil_height1 = 20  # Mixing layer depth in mm"
   ]
  },
  {
   "cell_type": "markdown",
   "metadata": {},
   "source": [
    "### Soil - Hydrological Characteristics"
   ]
  },
  {
   "cell_type": "code",
   "execution_count": 3,
   "metadata": {
    "collapsed": false
   },
   "outputs": [],
   "source": [
    "''' Hydrological controlling parameters'''\n",
    "# Alteck (Martine Trautmann, sampled pre-event)\n",
    "porosity_crop = 0.61  # Crop soil\n",
    "kSat_crop = 2.24  # mm/min (13.45 cm/h - Crop Soil) \n",
    "kSat_crop2 = kSat_crop/100 \n",
    "# ov_1 = 0.20   # Initial water content m3. m-3\n",
    "ovSat_crop = 0.61  # Saturated water content (assumed)\n",
    "psi_crop = 1100  # soil suction Alteck (mm)\n",
    "psi_crop2 = 617.0  # soil suction Alteck (mm)\n",
    "#  (Lefrancq, 2014: 61.7 cm , p.160; 110 cm, p.189)"
   ]
  },
  {
   "cell_type": "markdown",
   "metadata": {},
   "source": [
    "# Results"
   ]
  },
  {
   "cell_type": "markdown",
   "metadata": {},
   "source": [
    "## Hydrology - 1st pulse"
   ]
  },
  {
   "cell_type": "markdown",
   "metadata": {},
   "source": [
    "##### Observed percolation"
   ]
  },
  {
   "cell_type": "code",
   "execution_count": 4,
   "metadata": {
    "collapsed": false
   },
   "outputs": [],
   "source": [
    "# all at 6 min, high inetnesity\n",
    "leach_high_6min = np.array([16.253, 12.958, 17.536, 14.29])  \n",
    "\n",
    "# all at 12 min, med intensity\n",
    "leach_med_12min = np.array([10.089, 5.902, 13.981, 10.602]) \n",
    "\n",
    "# all at 30min, med intensity\n",
    "leach_med_30min = np.array([49.197, 40.402, 45.772, 47.201])  \n",
    "\n",
    "# all at 30min, low intensity\n",
    "leach_low_30min = np.array([20.037, 17.508, 22.376, 20.085])  "
   ]
  },
  {
   "cell_type": "markdown",
   "metadata": {},
   "source": [
    "#### Computation"
   ]
  },
  {
   "cell_type": "code",
   "execution_count": 5,
   "metadata": {
    "collapsed": false
   },
   "outputs": [
    {
     "name": "stdout",
     "output_type": "stream",
     "text": [
      "Mass balance True\n",
      "Mass balance 0.0\n",
      "Mass balance 0.0\n"
     ]
    }
   ],
   "source": [
    "water_data = leachsim(kSat = kSat_crop,\n",
    "                      soil_height=soil_height1,\n",
    "                      soil = 'Alteck',\n",
    "                      psi=psi_crop)"
   ]
  },
  {
   "cell_type": "code",
   "execution_count": 6,
   "metadata": {
    "collapsed": false
   },
   "outputs": [
    {
     "name": "stdout",
     "output_type": "stream",
     "text": [
      "FRESH\n",
      "--------------------------------------------\n",
      "ksat high:  13.440000000000001 cm/h\n",
      "ksat med12:  13.440000000000001 cm/h\n",
      "ksat med30:  13.440000000000001 cm/h\n",
      "ksat low:  13.440000000000001 cm/h\n",
      "--------------------------------------------\n",
      "R2:  0.967591161606\n",
      "--------------------------------------------\n",
      "Simulation error percent (%), by modality\n",
      "--------------------------------------------\n",
      "135 mm/h - 6min  -1.6576800421\n",
      "55 mm/h - 12min  3.80968602754\n",
      "55 mm/h - 30min  -4.16283710639\n",
      "30 mm/h - 30min  -21.305808952\n",
      "--------------------------------------------\n",
      "Mass balance:  True True True True\n"
     ]
    }
   ],
   "source": [
    "water_eval = leachsim2(\n",
    "    leach_high_6min, \n",
    "    leach_med_12min, leach_med_30min, \n",
    "    leach_low_30min,\n",
    "    kSat = [kSat_crop],\n",
    "    soil_height=soil_height1,\n",
    "    soil = 'Alteck',\n",
    "    isAGED = False,\n",
    "    isFirstCycle=True \n",
    ")"
   ]
  },
  {
   "cell_type": "code",
   "execution_count": 7,
   "metadata": {
    "collapsed": false
   },
   "outputs": [
    {
     "name": "stdout",
     "output_type": "stream",
     "text": [
      "AGED\n",
      "--------------------------------------------\n",
      "ksat high:  13.440000000000001 cm/h\n",
      "ksat med12:  13.440000000000001 cm/h\n",
      "ksat med30:  13.440000000000001 cm/h\n",
      "ksat low:  13.440000000000001 cm/h\n",
      "--------------------------------------------\n",
      "R2:  0.942064837787\n",
      "--------------------------------------------\n",
      "Simulation error percent (%), by modality\n",
      "--------------------------------------------\n",
      "135 mm/h - 6min  -9.94976957607\n",
      "55 mm/h - 12min  -35.8910849727\n",
      "55 mm/h - 30min  -8.50907325802\n",
      "30 mm/h - 30min  -30.5302507367\n",
      "--------------------------------------------\n",
      "Mass balance:  True True True True\n"
     ]
    }
   ],
   "source": [
    "water_eval = leachsim2(\n",
    "    leach_high_6min, \n",
    "    leach_med_12min, leach_med_30min, \n",
    "    leach_low_30min,\n",
    "    kSat = [kSat_crop],\n",
    "    soil_height=soil_height1,\n",
    "    soil = 'Alteck',\n",
    "    isAGED = True,\n",
    "    isFirstCycle=True \n",
    ")"
   ]
  },
  {
   "cell_type": "code",
   "execution_count": 8,
   "metadata": {
    "collapsed": false
   },
   "outputs": [],
   "source": [
    "# Time\n",
    "cum_time_30min = water_data[:, 0]\n",
    "\n",
    "# Cummulative infiltration\n",
    "cum_inf_135mmh = water_data[:, 4]\n",
    "cum_inf_55mmh = water_data[:, 5] \n",
    "cum_inf_30mmh = water_data[:, 6] \n",
    "\n",
    "# Cummulative leaching\n",
    "cum_leach_135mmh = water_data[:, 7]\n",
    "cum_leach_55mmh = water_data[:, 8]\n",
    "cum_leach_30mmh = water_data[:, 9]\n",
    "\n",
    "# Ponding\n",
    "roff_135mmh = water_data[:, 10]\n",
    "roff_55mmh = water_data[:, 11]\n",
    "roff_30mmh = water_data[:, 12]\n",
    "\n",
    "# Cummulative ponding\n",
    "cum_roff_135mmh = water_data[:, 13]\n",
    "cum_roff_55mmh = water_data[:, 14]\n",
    "cum_roff_30mmh = water_data[:, 15]\n",
    "\n",
    "infil_135mmh = water_data[:, 16]\n",
    "infil_55mmh = water_data[:, 17]\n",
    "infil_30mmh = water_data[:, 18]\n",
    "\n",
    "percol_data1 = stackdata3(cum_time_30min,\n",
    "                          cum_leach_135mmh, cum_leach_55mmh, cum_leach_30mmh)\n",
    "\n",
    "runoff_data1 = stackdata3(cum_time_30min,\n",
    "                          cum_roff_135mmh, cum_roff_55mmh, cum_roff_30mmh)\n",
    "\n",
    "infil_data1 = stackdata3(cum_time_30min,\n",
    "                         infil_135mmh, infil_55mmh, infil_30mmh)\n",
    "\n",
    "time_size_135mmh = water_data[:, 19]\n",
    "time_size_55mmhA = water_data[:, 20]\n",
    "time_size_55mmhB = water_data[:, 20]\n",
    "time_size_30mmh = water_data[:, 21]\n",
    "\n",
    "time_sizes1 = [time_size_135mmh, time_size_135mmh,\n",
    "               time_size_55mmhA, time_size_55mmhA,\n",
    "               time_size_55mmhB, time_size_55mmhB,\n",
    "               time_size_30mmh, time_size_30mmh]\n"
   ]
  },
  {
   "cell_type": "code",
   "execution_count": 9,
   "metadata": {
    "collapsed": false
   },
   "outputs": [],
   "source": [
    "#hydroplot(percol_data1, \n",
    "#          \"Percolated at 135mm/h\", \"Percolated at 55mm/h\", \"Percolated at 30mm/h\",\n",
    "#          leach_high_6min, \n",
    "#          leach_med_12min, leach_med_30min, \n",
    "#          leach_low_30min,\n",
    "#          \"Leached Volume [mL] - Crop Soil 1st Pulse\")"
   ]
  },
  {
   "cell_type": "markdown",
   "metadata": {},
   "source": [
    "## Transport - 1st pulse"
   ]
  },
  {
   "cell_type": "markdown",
   "metadata": {},
   "source": [
    "** Initial and observed mass in leachate and ponding **"
   ]
  },
  {
   "cell_type": "code",
   "execution_count": 88,
   "metadata": {
    "collapsed": true
   },
   "outputs": [],
   "source": [
    "#  Dictionary contains:\n",
    "#  Scenario: (initial_mass, leached_mass_observed, ponded_mass_obs, \n",
    "               # initial_mass_error, error_lecah, error_pond)\n",
    "    \n",
    "smCr_dict_S_1st = {\n",
    "    'a_high_0d': (5176.88, 65.7, 'nan', 1657, 3.7, 'nan'),\n",
    "    'b_high_1d': (4213.1, 77.7, 'nan', 1400, 4.3, 'nan'),\n",
    "    'c_med12_0d': (5176.88, 79.5, 'nan', 1657, 4.4, 'nan' ),\n",
    "    'd_med12_1d': (4213.1, 16.9, 'nan', 1400, 0.9, 'nan'),\n",
    "    'e_med30_0d': (6833.88, 327.4, 'nan', 1657, 18.2, 'nan'), # 5176.88 +/- 1657 \n",
    "    'f_med30_1d': (4213.1, 153.4, 'nan', 1400, 8.5, 'nan'),\n",
    "    'g_low_0d': (5176.88, 70.9, 'nan', 1657, 3.9, 'nan'),\n",
    "    'h_low_1d': (4213.1, 110.7, 'nan', 1400, 6.2, 'nan')\n",
    "}\n",
    "\n",
    "smCr_dict_L_1st = {\n",
    "    'a_high_0d': (3460.85, 53.5, 'nan', 1135, 2.98, 'nan'),\n",
    "    'b_high_1d': (2832.66, 89.2, 'nan', 946, 4.97, 'nan'),\n",
    "    'c_med12_0d': (3460.85, 49.4, 'nan', 1135, 2.75, 'nan'),\n",
    "    'd_med12_1d': (2832.66, 70.5, 'nan', 946, 3.93, 'nan'),\n",
    "    'e_med30_0d': (4595.85, 281.7, 'nan', 1135, 15.7, 'nan'),  # 3460.85 +/- 1135\n",
    "    'f_med30_1d': (2832.66, 116.4, 'nan', 946, 6.49, 'nan'),\n",
    "    'g_low_0d': (3460.85, 142.7, 'nan', 1135, 7.9, 'nan'),\n",
    "    'h_low_1d': (2832.66, 127.2, 'nan', 946, 7.08, 'nan')\n",
    "}"
   ]
  },
  {
   "cell_type": "markdown",
   "metadata": {},
   "source": [
    "### Soil - Transport Charachteristics"
   ]
  },
  {
   "cell_type": "code",
   "execution_count": 89,
   "metadata": {
    "collapsed": true
   },
   "outputs": [],
   "source": [
    "# Soil characteristics\n",
    "\n",
    "# Initial bulk density options:\n",
    "# pb_crop_i = 0.1/10**3  # bulk density (g/cm^3) -> g/mm^3  (FAKE TEST)\n",
    "\n",
    "# pb_crop_i1 = 0.99/10**3  # bulk density (g/cm^3) -> g/mm^3  (M. Trautmann)\n",
    "pb_crop_i1 = 2.61/10**3 # inital 1st pulse, calc. from experiment cond.\n",
    "pb_crop_i2 = 3.59/10**3 # initial 2nd pulse, calc. from experiment cond.\n",
    "\n",
    "# Final bulk density options (1st and 2nd pulses)\n",
    "pb_crop_f1 = 3.59/10**3 # final1, calculated from experimental conditions.\n",
    "# pb_crop_f1 = 13.59/10**3 # final1, TEST\n",
    "pb_crop_f2 = 3.76/10**3 # final2, calculated from experimental conditions.\n",
    "# pb_crop_f2 = 13.76/10**3 # final2, TEST\n",
    "\n",
    "\n",
    "porosity_crop = 0.61  # Crop soil\n",
    "\n",
    "# Assumed (used to calculate Reynolds number)\n",
    "runoff_vel = 20.0  # mm/min\n",
    "\n",
    "# Fraction organic matter and carbon (Scenario 1)\n",
    "fom_crop_sterile = 3.87/100.0\n",
    "fom_crop_untreat = 5.51/100.0\n",
    "foc_crop_sterile = 0.58*fom_crop_sterile\n",
    "foc_crop_untreat = 0.58*fom_crop_untreat\n",
    "\n",
    "# Soil characteristics (OC Black & Walkley - Scenario 2)\n",
    "# foc_crop_untreat2 = 2.04/100\n",
    "# foc_crop_sterile2 = 0.70*foc_crop_untreat2"
   ]
  },
  {
   "cell_type": "markdown",
   "metadata": {},
   "source": [
    "### S-metolachlor Properties"
   ]
  },
  {
   "cell_type": "code",
   "execution_count": 90,
   "metadata": {
    "collapsed": true
   },
   "outputs": [],
   "source": [
    "# Koc Ranges (EU COmmision SANCO/1426/2001 - rev. 3. 4 October 2004)\n",
    "# Koc_smeto = [369, 200, 110, 70, 65, 21]  # [ml/g]\n",
    "Koc_smeto = [250, 225, 200, 150, 125, 100, 75, 50, 30]  # [ml/g]\n",
    "Koc_smeto = np.array(Koc_smeto)*10**3\n",
    "\n",
    "# Kd (S-metolachlor)\n",
    "Kd_smeto_crop_sterile1 = Koc_smeto[0]*foc_crop_sterile  # ml/g\n",
    "Kd_smeto_crop_untreat1 = Koc_smeto[0]*foc_crop_untreat\n",
    "Kd_smeto_crop_sterile2 = Koc_smeto[1]*foc_crop_sterile  # ml/g\n",
    "Kd_smeto_crop_untreat2 = Koc_smeto[1]*foc_crop_untreat \n",
    "Kd_smeto_crop_sterile3 = Koc_smeto[2]*foc_crop_sterile  # ml/g\n",
    "Kd_smeto_crop_untreat3 = Koc_smeto[2]*foc_crop_untreat \n",
    "Kd_smeto_crop_sterile4 = Koc_smeto[3]*foc_crop_sterile  # ml/g\n",
    "Kd_smeto_crop_untreat4 = Koc_smeto[3]*foc_crop_untreat\n",
    "Kd_smeto_crop_sterile5 = Koc_smeto[4]*foc_crop_sterile  # ml/g\n",
    "Kd_smeto_crop_untreat5 = Koc_smeto[4]*foc_crop_untreat \n",
    "Kd_smeto_crop_sterile6 = Koc_smeto[5]*foc_crop_sterile  # ml/g\n",
    "Kd_smeto_crop_untreat6 = Koc_smeto[5]*foc_crop_untreat\n",
    "Kd_smeto_crop_sterile7 = Koc_smeto[6]*foc_crop_sterile  # ml/g\n",
    "Kd_smeto_crop_untreat7 = Koc_smeto[6]*foc_crop_untreat\n",
    "Kd_smeto_crop_sterile8 = Koc_smeto[7]*foc_crop_sterile  # ml/g\n",
    "Kd_smeto_crop_untreat8 = Koc_smeto[7]*foc_crop_untreat\n",
    "Kd_smeto_crop_sterile9 = Koc_smeto[8]*foc_crop_sterile  # ml/g\n",
    "Kd_smeto_crop_untreat9 = Koc_smeto[8]*foc_crop_untreat\n",
    "\n",
    "Kd_smeto_sterile = [Kd_smeto_crop_sterile1,\n",
    "                    Kd_smeto_crop_sterile2,\n",
    "                    Kd_smeto_crop_sterile3,\n",
    "                    Kd_smeto_crop_sterile4,\n",
    "                   Kd_smeto_crop_sterile5, \n",
    "                   Kd_smeto_crop_sterile6,\n",
    "                   Kd_smeto_crop_sterile7,\n",
    "                   Kd_smeto_crop_sterile8,\n",
    "                   Kd_smeto_crop_sterile9]\n",
    "                    \n",
    "Kd_smeto_living = [Kd_smeto_crop_untreat1, \n",
    "                   Kd_smeto_crop_untreat2, \n",
    "                   Kd_smeto_crop_untreat3, \n",
    "                   Kd_smeto_crop_untreat4,\n",
    "                  Kd_smeto_crop_untreat5,\n",
    "                  Kd_smeto_crop_untreat6,\n",
    "                  Kd_smeto_crop_untreat7,\n",
    "                  Kd_smeto_crop_untreat8,\n",
    "                  Kd_smeto_crop_untreat9]"
   ]
  },
  {
   "cell_type": "code",
   "execution_count": 91,
   "metadata": {
    "collapsed": false
   },
   "outputs": [],
   "source": [
    "# kdmx_array = np.asarray(Kd_smeto_sterile)\n",
    "# np.log10(kdmx_array)"
   ]
  },
  {
   "cell_type": "markdown",
   "metadata": {},
   "source": [
    "### Computation transport - 1st pulse"
   ]
  },
  {
   "cell_type": "code",
   "execution_count": 92,
   "metadata": {
    "collapsed": false
   },
   "outputs": [
    {
     "name": "stdout",
     "output_type": "stream",
     "text": [
      "1st Pulse\n",
      "Sterile\n",
      "--------------------------------------------\n",
      "Koc tested:  [ 250.  225.  200.  150.  125.  100.   75.   50.   30.]\n",
      "Best log Kd:  0.5272302176375299 cm3/g ( Num:  4 ) \n",
      " R2:  0.838679573686\n",
      "Scenario - modality - Predicted error prcnt (%) | Predicted | Observed |\n",
      "--------------------------------------------\n",
      "(A) 135 mm/h - Fresh  -46.352355395 | 35.2465025055 | 65.7\n",
      "(A) 135 mm/h - Aged  -63.0828063974 | 28.6846594292 | 77.7\n",
      "(B) 55 mm/h - Fresh  -69.0267109283 | 24.623764812 | 79.5\n",
      "(B) 55 mm/h - Aged  18.5772622837 | 20.039557326 | 16.9\n",
      "(C) 55 mm/h - Fresh  -9.76152289545 | 295.44077404 | 327.4\n",
      "(C) 55 mm/h - Aged  18.7352010067 | 182.139798344 | 153.4\n",
      "(D) 30 mm/h - Fresh  55.8572454841 | 239.084038899 | 70.9\n",
      "(D) 30 mm/h - Aged  -18.7619893057 | 194.573751813 | 110.7\n"
     ]
    }
   ],
   "source": [
    "# Any length unit input must be: \"mm\"\n",
    "pest_sterile_1st = pest_linear(\n",
    "    Kd_smeto_sterile,\n",
    "    smCr_dict_S_1st,          \n",
    "    pb_crop_i1, pb_crop_f1,\n",
    "    percol_data1, runoff_data1,\n",
    "    time_sizes1,\n",
    "    area, soil_height1, \n",
    "    d, runoff_vel,\n",
    "    soil = \"Alteck\",\n",
    "    KFILM = True,\n",
    "    isFirstCycle = True,\n",
    "    isLiving = False)"
   ]
  },
  {
   "cell_type": "markdown",
   "metadata": {},
   "source": [
    "#### Test factor X (Sterile)"
   ]
  },
  {
   "cell_type": "code",
   "execution_count": 93,
   "metadata": {
    "collapsed": true
   },
   "outputs": [],
   "source": [
    "x = 2"
   ]
  },
  {
   "cell_type": "code",
   "execution_count": 94,
   "metadata": {
    "collapsed": false
   },
   "outputs": [
    {
     "name": "stdout",
     "output_type": "stream",
     "text": [
      "1st Pulse\n",
      "Sterile\n",
      "--------------------------------------------\n",
      "Koc tested:  [ 250.  225.  200.  150.  125.  100.   75.   50.   30.]\n",
      "Best log Kd (Fresh):  0.7490789672538862 cm3/g ( Num:  1 ) \n",
      " x factor:  2 R2:  0.840756811002\n",
      "Best log Kd (Aged):  0.5272302176375299 cm3/g ( Num:  4 ) \n",
      " x factor: No factor considered. R2:  0.103922239893\n",
      "Scenario - modality - Predicted error prcnt (%) | Predicted | Observed |\n",
      "--------------------------------------------\n",
      "(A) 135 mm/h - Fresh  -2.64762940477 | 63.9605074811 | 65.7\n",
      "(A) 135 mm/h - Aged  -63.0828063974 | 28.6846594292 | 77.7\n",
      "(B) 55 mm/h - Fresh  -56.4063832813 | 34.6569252913 | 79.5\n",
      "(B) 55 mm/h - Aged  18.5772622837 | 20.039557326 | 16.9\n",
      "(C) 55 mm/h - Fresh  10.9181292091 | 363.14595503 | 327.4\n",
      "(C) 55 mm/h - Aged  18.7352010067 | 182.139798344 | 153.4\n",
      "(D) 30 mm/h - Fresh  110.367335251 | 283.906051269 | 70.9\n",
      "(D) 30 mm/h - Aged  -18.7619893057 | 194.573751813 | 110.7\n"
     ]
    }
   ],
   "source": [
    "pest_sterile_1st = pest_linear_x(\n",
    "    Kd_smeto_sterile,\n",
    "    x,\n",
    "    smCr_dict_S_1st,          \n",
    "    pb_crop_i1, pb_crop_f1,\n",
    "    percol_data1, runoff_data1,\n",
    "    time_sizes1,\n",
    "    area, soil_height1, \n",
    "    d, runoff_vel,\n",
    "    soil = \"Alteck\",\n",
    "    KFILM = True,\n",
    "    isFirstCycle = True,\n",
    "    isLiving = False)"
   ]
  },
  {
   "cell_type": "code",
   "execution_count": 95,
   "metadata": {
    "collapsed": false
   },
   "outputs": [
    {
     "data": {
      "text/plain": [
       "'\\npest_sterile_1st = pest_langmuir(\\n    Kd_smeto_sterile,\\n    [10, 50, 90, 100, 101, 200],\\n    smCr_dict_S_1st,          \\n    pb_crop_i1, pb_crop_f1,\\n    percol_data1, runoff_data1,\\n    time_sizes1,\\n    area, soil_height1, \\n    d, runoff_vel,\\n    soil = \"Alteck\",\\n    KFILM = True,\\n    isFirstCycle = True,\\n    isLiving = False)\\n'"
      ]
     },
     "execution_count": 95,
     "metadata": {},
     "output_type": "execute_result"
    }
   ],
   "source": [
    "\"\"\"\n",
    "pest_sterile_1st = pest_langmuir(\n",
    "    Kd_smeto_sterile,\n",
    "    [10, 50, 90, 100, 101, 200],\n",
    "    smCr_dict_S_1st,          \n",
    "    pb_crop_i1, pb_crop_f1,\n",
    "    percol_data1, runoff_data1,\n",
    "    time_sizes1,\n",
    "    area, soil_height1, \n",
    "    d, runoff_vel,\n",
    "    soil = \"Alteck\",\n",
    "    KFILM = True,\n",
    "    isFirstCycle = True,\n",
    "    isLiving = False)\n",
    "\"\"\""
   ]
  },
  {
   "cell_type": "code",
   "execution_count": 96,
   "metadata": {
    "collapsed": false
   },
   "outputs": [
    {
     "name": "stdout",
     "output_type": "stream",
     "text": [
      "1st Pulse\n",
      "Living\n",
      "--------------------------------------------\n",
      "Koc tested:  [ 250.  225.  200.  150.  125.  100.   75.   50.   30.]\n",
      "Best log Kd:  0.37964085580642226 cm3/g ( Num:  7 ) \n",
      " R2:  0.748639882895\n",
      "Scenario - modality - Predicted error prcnt (%) | Predicted | Observed |\n",
      "--------------------------------------------\n",
      "(A) 135 mm/h - Fresh  -17.7442957775 | 44.0068017591 | 53.5\n",
      "(A) 135 mm/h - Aged  -59.6199710552 | 36.0189858187 | 89.2\n",
      "(B) 55 mm/h - Fresh  -37.197232187 | 31.0245672996 | 49.4\n",
      "(B) 55 mm/h - Aged  -63.9812788143 | 25.3931984359 | 70.5\n",
      "(C) 55 mm/h - Fresh  2.77365004282 | 289.513372171 | 281.7\n",
      "(C) 55 mm/h - Aged  53.3007402078 | 178.442061602 | 116.4\n",
      "(D) 30 mm/h - Fresh  -10.1894190203 | 223.059847805 | 142.7\n",
      "(D) 30 mm/h - Aged  -17.533788975 | 182.571538346 | 127.2\n"
     ]
    }
   ],
   "source": [
    "# Any length unit input must be: \"mm\"\n",
    "pest_living_1st = pest_linear(\n",
    "    Kd_smeto_living,\n",
    "    smCr_dict_L_1st,          \n",
    "    pb_crop_i1, pb_crop_f1,\n",
    "    percol_data1, runoff_data1,\n",
    "    time_sizes1,\n",
    "    area, soil_height1, \n",
    "    d, runoff_vel,\n",
    "    soil = \"Alteck\",\n",
    "    KFILM = True,\n",
    "    isFirstCycle = True,\n",
    "    isLiving = True)"
   ]
  },
  {
   "cell_type": "markdown",
   "metadata": {},
   "source": [
    "#### Test factor X (Living)"
   ]
  },
  {
   "cell_type": "code",
   "execution_count": 97,
   "metadata": {
    "collapsed": true
   },
   "outputs": [],
   "source": [
    "x = 2"
   ]
  },
  {
   "cell_type": "code",
   "execution_count": 98,
   "metadata": {
    "collapsed": false
   },
   "outputs": [
    {
     "name": "stdout",
     "output_type": "stream",
     "text": [
      "1st Pulse\n",
      "Living\n",
      "--------------------------------------------\n",
      "Koc tested:  [ 250.  225.  200.  150.  125.  100.   75.   50.   30.]\n",
      "Best log Kd (Fresh):  0.6806708514704034 cm3/g ( Num:  4 ) \n",
      " x factor:  2 R2:  0.979031904651\n",
      "Best log Kd (Aged):  0.37964085580642226 cm3/g ( Num:  7 ) \n",
      " x factor: No factor considered. R2:  -0.527625338018\n",
      "Scenario - modality - Predicted error prcnt (%) | Predicted | Observed |\n",
      "--------------------------------------------\n",
      "(A) 135 mm/h - Fresh  -17.7442957775 | 44.0068017591 | 53.5\n",
      "(A) 135 mm/h - Aged  -59.6199710552 | 36.0189858187 | 89.2\n",
      "(B) 55 mm/h - Fresh  -37.197232187 | 31.0245672996 | 49.4\n",
      "(B) 55 mm/h - Aged  -63.9812788143 | 25.3931984359 | 70.5\n",
      "(C) 55 mm/h - Fresh  2.77365004282 | 289.513372171 | 281.7\n",
      "(C) 55 mm/h - Aged  53.3007402078 | 178.442061602 | 116.4\n",
      "(D) 30 mm/h - Fresh  -10.1894190203 | 223.059847805 | 142.7\n",
      "(D) 30 mm/h - Aged  -17.533788975 | 182.571538346 | 127.2\n"
     ]
    }
   ],
   "source": [
    "pest_living_1st = pest_linear_x(\n",
    "    Kd_smeto_living,\n",
    "    x,\n",
    "    smCr_dict_L_1st,          \n",
    "    pb_crop_i1, pb_crop_f1,\n",
    "    percol_data1, runoff_data1,\n",
    "    time_sizes1,\n",
    "    area, soil_height1, \n",
    "    d, runoff_vel,\n",
    "    soil = \"Alteck\",\n",
    "    KFILM = True,\n",
    "    isFirstCycle = True,\n",
    "    isLiving = True)"
   ]
  },
  {
   "cell_type": "markdown",
   "metadata": {},
   "source": [
    "#### Sterile time series"
   ]
  },
  {
   "cell_type": "code",
   "execution_count": 99,
   "metadata": {
    "collapsed": false
   },
   "outputs": [],
   "source": [
    "# Cumulative leachate sterilized\n",
    "high_0d_cum_mass_out_dt = pest_sterile_1st[:, 1]\n",
    "high_1d_cum_mass_out_dt = pest_sterile_1st[:, 2]\n",
    "\n",
    "med12_0d_cum_mass_out_dt = pest_sterile_1st[:, 3]\n",
    "med12_1d_cum_mass_out_dt = pest_sterile_1st[:, 4]\n",
    "\n",
    "med30_0d_cum_mass_out_dt = pest_sterile_1st[:, 5]\n",
    "med30_1d_cum_mass_out_dt = pest_sterile_1st[:, 6]\n",
    "\n",
    "low_0d_cum_mass_out_dt = pest_sterile_1st[:, 7]\n",
    "low_1d_cum_mass_out_dt = pest_sterile_1st[:, 8]\n",
    "\n",
    "# Ponded mass\n",
    "high_0d_overmass_dt = pest_sterile_1st[:, 9]\n",
    "high_1d_overmass_dt = pest_sterile_1st[:, 10]\n",
    "med12_0d_overmass_dt = pest_sterile_1st[:, 11]\n",
    "med12_1d_overmass_dt = pest_sterile_1st[:, 12]\n",
    "\n",
    "med30_0d_overmass_dt = pest_sterile_1st[:, 13]\n",
    "med30_1d_overmass_dt = pest_sterile_1st[:, 14]\n",
    "low_0d_overmass_dt = pest_sterile_1st[:, 15]\n",
    "low_1d_overmass_dt = pest_sterile_1st[:, 16]\n",
    "\n",
    "\n",
    "mass_percol_sterile1 = stackdata8(cum_time_30min,\n",
    "                          high_0d_cum_mass_out_dt, high_1d_cum_mass_out_dt, \n",
    "                          med12_0d_cum_mass_out_dt, med12_1d_cum_mass_out_dt, \n",
    "                          med30_0d_cum_mass_out_dt, med30_1d_cum_mass_out_dt,\n",
    "                          low_0d_cum_mass_out_dt, low_1d_cum_mass_out_dt)\n",
    "\n",
    "mass_pond_sterile1 = stackdata8(cum_time_30min,\n",
    "                          high_0d_overmass_dt, high_1d_overmass_dt,\n",
    "                          med12_0d_overmass_dt, med12_1d_overmass_dt,\n",
    "                          med30_0d_overmass_dt, med30_1d_overmass_dt,\n",
    "                          low_0d_overmass_dt, low_1d_overmass_dt)"
   ]
  },
  {
   "cell_type": "markdown",
   "metadata": {},
   "source": [
    "#### Living time series"
   ]
  },
  {
   "cell_type": "code",
   "execution_count": 100,
   "metadata": {
    "collapsed": true
   },
   "outputs": [],
   "source": [
    "# Cumulative leachate\n",
    "high_0d_cum_mass_out_dt = pest_living_1st[:, 1]\n",
    "high_1d_cum_mass_out_dt = pest_living_1st[:, 2]\n",
    "\n",
    "med12_0d_cum_mass_out_dt = pest_living_1st[:, 3]\n",
    "med12_1d_cum_mass_out_dt = pest_living_1st[:, 4]\n",
    "\n",
    "med30_0d_cum_mass_out_dt = pest_living_1st[:, 5]\n",
    "med30_1d_cum_mass_out_dt = pest_living_1st[:, 6]\n",
    "\n",
    "low_0d_cum_mass_out_dt = pest_living_1st[:, 7]\n",
    "low_1d_cum_mass_out_dt = pest_living_1st[:, 8]\n",
    "\n",
    "# Ponded mass\n",
    "high_0d_overmass_dt = pest_living_1st[:, 9]\n",
    "high_1d_overmass_dt = pest_living_1st[:, 10]\n",
    "med12_0d_overmass_dt = pest_living_1st[:, 11]\n",
    "med12_1d_overmass_dt = pest_living_1st[:, 12]\n",
    "\n",
    "med30_0d_overmass_dt = pest_living_1st[:, 13]\n",
    "med30_1d_overmass_dt = pest_living_1st[:, 14]\n",
    "low_0d_overmass_dt = pest_living_1st[:, 15]\n",
    "low_1d_overmass_dt = pest_living_1st[:, 16]\n",
    "\n",
    "\n",
    "mass_percol_living1 = stackdata8(cum_time_30min,\n",
    "                          high_0d_cum_mass_out_dt, high_1d_cum_mass_out_dt, \n",
    "                          med12_0d_cum_mass_out_dt, med12_1d_cum_mass_out_dt, \n",
    "                          med30_0d_cum_mass_out_dt, med30_1d_cum_mass_out_dt,\n",
    "                          low_0d_cum_mass_out_dt, low_1d_cum_mass_out_dt)\n",
    "\n",
    "mass_pond_living1 = stackdata8(cum_time_30min,\n",
    "                          high_0d_overmass_dt, high_1d_overmass_dt,\n",
    "                          med12_0d_overmass_dt, med12_1d_overmass_dt,\n",
    "                          med30_0d_overmass_dt, med30_1d_overmass_dt,\n",
    "                          low_0d_overmass_dt, low_1d_overmass_dt)"
   ]
  },
  {
   "cell_type": "markdown",
   "metadata": {},
   "source": [
    "## Plotting transport - S-metolachlor"
   ]
  },
  {
   "cell_type": "markdown",
   "metadata": {},
   "source": [
    "### Sterile (1st Pulse, Crop Soil)"
   ]
  },
  {
   "cell_type": "code",
   "execution_count": 101,
   "metadata": {
    "collapsed": false
   },
   "outputs": [
    {
     "data": {
      "image/png": "[encoded data removed]",
      "text/plain": [
       "<matplotlib.figure.Figure at 0xcbd69e8>"
      ]
     },
     "metadata": {},
     "output_type": "display_data"
    }
   ],
   "source": [
    "pestiplot_condition(\n",
    "    mass_percol_sterile1,\n",
    "    smCr_dict_S_1st,\n",
    "    'S-metolachlor',\n",
    "    soil_type='Crop Soil',\n",
    "    cycle = '1st pulse',\n",
    "    LEACH = True,\n",
    "    STERILE = True\n",
    ")"
   ]
  },
  {
   "cell_type": "markdown",
   "metadata": {},
   "source": [
    "### Living (1st Pulse, Crop Soil)"
   ]
  },
  {
   "cell_type": "code",
   "execution_count": 102,
   "metadata": {
    "collapsed": false,
    "scrolled": true
   },
   "outputs": [
    {
     "data": {
      "image/png": "[encoded data removed]",
      "text/plain": [
       "<matplotlib.figure.Figure at 0xb9b8048>"
      ]
     },
     "metadata": {},
     "output_type": "display_data"
    }
   ],
   "source": [
    "pestiplot_condition(\n",
    "    mass_percol_living1,\n",
    "    smCr_dict_L_1st,\n",
    "    'S-metolachlor',\n",
    "    soil_type='Crop Soil',\n",
    "    cycle = '1st pulse',\n",
    "    LEACH = True,\n",
    "    STERILE = False\n",
    ")"
   ]
  },
  {
   "cell_type": "markdown",
   "metadata": {},
   "source": [
    "# Hydrology - 2nd pulse"
   ]
  },
  {
   "cell_type": "code",
   "execution_count": null,
   "metadata": {
    "collapsed": true
   },
   "outputs": [],
   "source": [
    "''' Hydrological controlling parameters'''\n",
    "ov_2 = ovSat_crop - 0.038  # Initial water content m3. m-3\n",
    "psi_crop = 1100  # soil suction Alteck mm\n",
    "psi_cropB = 617  # soil suction Alteck mm\n",
    "#  (Lefrancq, 2014: 61.7 cm , p.160; 110 cm, p.189)\n",
    "soil_height2 = 20  # mm"
   ]
  },
  {
   "cell_type": "markdown",
   "metadata": {},
   "source": [
    "**Observed Percolation - 2nd pulse**"
   ]
  },
  {
   "cell_type": "code",
   "execution_count": null,
   "metadata": {
    "collapsed": true
   },
   "outputs": [],
   "source": [
    "# Order if array is:\n",
    "#  [sterile, untreat, sterile_aged, untreat_aged]\n",
    "\n",
    "# At 6 min, high inetnesity\n",
    "leach_high_6min = np.array([14.192, 8.245, 2.410, 5.469]) \n",
    "\n",
    "# At 12 min, med intensity\n",
    "leach_med_12min = np.array([18.672, 19.0, 0.830, 11.407]) \n",
    "\n",
    "# At 30min, med intensity\n",
    "leach_med_30min = np.array([12.697, 2.473, 3.52, 20.291])  \n",
    "\n",
    "# At 30min, low intensity\n",
    "leach_low_30min = np.array([29.656, 9.375, 0.409, 3.385]) "
   ]
  },
  {
   "cell_type": "markdown",
   "metadata": {},
   "source": [
    "**Observed Ponding - 2nd pulse**"
   ]
  },
  {
   "cell_type": "code",
   "execution_count": null,
   "metadata": {
    "collapsed": true
   },
   "outputs": [],
   "source": [
    "# [sterile, untreat, sterile_aged, untreat_aged]\n",
    "# all at 6 min, high inetnesity\n",
    "roff_high_6min = np.array([10.824, 20.935, 24.75, 19.041])  \n",
    "\n",
    "# all at 12 min, med intensity\n",
    "roff_med_12min = np.array([0, 3.907, 19.436, 7.313]) \n",
    "\n",
    "# all at 30min, med intensity\n",
    "roff_med_30min = np.array([43.764, 28.911, 51.964, 33.478])  \n",
    "\n",
    "# all at 30min, low intensity\n",
    "roff_low_30min = np.array([0, 22.618, 28.598, 27.314])  "
   ]
  },
  {
   "cell_type": "markdown",
   "metadata": {},
   "source": [
    "### Inverse Ksat determination \n",
    "\n",
    "Based on hisotric rainfall pattern, fresh and aged."
   ]
  },
  {
   "cell_type": "code",
   "execution_count": null,
   "metadata": {
    "collapsed": false
   },
   "outputs": [],
   "source": [
    "water2_ktest = leachsim3(\n",
    "    leach_high_6min, \n",
    "    leach_med_12min, leach_med_30min, \n",
    "    leach_low_30min,\n",
    "    kSat = [kSat_crop/25, kSat_crop/50, kSat_crop/75, kSat_crop/100, \n",
    "            kSat_crop/125, kSat_crop/150, kSat_crop/175, \n",
    "            kSat_crop/200, kSat_crop/250, kSat_crop/700, kSat_crop/1000],\n",
    "    soil_height=soil_height2,\n",
    "    soil = 'Alteck',\n",
    "    isFirstCycle = False\n",
    ")"
   ]
  },
  {
   "cell_type": "markdown",
   "metadata": {},
   "source": [
    "#### Time series"
   ]
  },
  {
   "cell_type": "code",
   "execution_count": null,
   "metadata": {
    "collapsed": true
   },
   "outputs": [],
   "source": [
    "# Time axis\n",
    "cum_time_30min = water2_ktest[:, 0]\n",
    "\n",
    "# Cumulative leachate\n",
    "cum_leach_135mmh_SF = water2_ktest[:, 2]\n",
    "cum_leach_135mmh_SA = water2_ktest[:, 4]\n",
    "cum_leach_135mmh_LF = water2_ktest[:, 6]\n",
    "cum_leach_135mmh_LA = water2_ktest[:, 8]\n",
    "\n",
    "cum_leach_55mmhA_SF = water2_ktest[:, 10]\n",
    "cum_leach_55mmhA_SA = water2_ktest[:, 12]\n",
    "cum_leach_55mmhA_LF = water2_ktest[:, 14]\n",
    "cum_leach_55mmhA_LA = water2_ktest[:, 16]\n",
    "\n",
    "cum_leach_55mmhB_SF = water2_ktest[:, 18]\n",
    "cum_leach_55mmhB_SA = water2_ktest[:, 20]\n",
    "cum_leach_55mmhB_LF = water2_ktest[:, 22]\n",
    "cum_leach_55mmhB_LA = water2_ktest[:, 24]\n",
    "\n",
    "cum_leach_30mmh_SF = water2_ktest[:, 26]\n",
    "cum_leach_30mmh_SA = water2_ktest[:, 28]\n",
    "cum_leach_30mmh_LF = water2_ktest[:, 30]\n",
    "cum_leach_30mmh_LA = water2_ktest[:, 32]\n",
    "\n",
    "# Group each compartment for graphing\n",
    "percol_data2 = stackdata16(\n",
    "    cum_time_30min,\n",
    "    cum_leach_135mmh_SF, cum_leach_55mmhA_SF, cum_leach_55mmhB_SF, cum_leach_30mmh_SF,\n",
    "    cum_leach_135mmh_SA, cum_leach_55mmhA_SA, cum_leach_55mmhB_SA, cum_leach_30mmh_SA,\n",
    "    cum_leach_135mmh_LF, cum_leach_55mmhA_LF, cum_leach_55mmhB_LF, cum_leach_30mmh_LF,\n",
    "    cum_leach_135mmh_LA, cum_leach_55mmhA_LA, cum_leach_55mmhB_LA, cum_leach_30mmh_LA)\n",
    "\n",
    "# Ponding cumulative\n",
    "cum_roff_135mmh_SF = water2_ktest[:, 1]\n",
    "cum_roff_135mmh_SA = water2_ktest[:, 3]\n",
    "cum_roff_135mmh_LF = water2_ktest[:, 5]\n",
    "cum_roff_135mmh_LA = water2_ktest[:, 7]\n",
    "\n",
    "cum_roff_55mmhA_SF = water2_ktest[:, 9]\n",
    "cum_roff_55mmhA_SA = water2_ktest[:, 11]\n",
    "cum_roff_55mmhA_LF = water2_ktest[:, 13]\n",
    "cum_roff_55mmhA_LA = water2_ktest[:, 15]\n",
    "\n",
    "cum_roff_55mmhB_SF = water2_ktest[:, 17]\n",
    "cum_roff_55mmhB_SA = water2_ktest[:, 19]\n",
    "cum_roff_55mmhB_LF = water2_ktest[:, 21]\n",
    "cum_roff_55mmhB_LA = water2_ktest[:, 23]\n",
    "\n",
    "cum_roff_30mmh_SF = water2_ktest[:, 25]\n",
    "cum_roff_30mmh_SA = water2_ktest[:, 27]\n",
    "cum_roff_30mmh_LF = water2_ktest[:, 29]\n",
    "cum_roff_30mmh_LA = water2_ktest[:, 31]\n",
    "\n",
    "runoff_data2 = stackdata16(\n",
    "    cum_time_30min,\n",
    "    cum_roff_135mmh_SF, cum_roff_55mmhA_SF, cum_roff_55mmhB_SF, cum_roff_30mmh_SF,\n",
    "    cum_roff_135mmh_SA, cum_roff_55mmhA_SA, cum_roff_55mmhB_SA, cum_roff_30mmh_SA,\n",
    "    cum_roff_135mmh_LF, cum_roff_55mmhA_LF, cum_roff_55mmhB_LF, cum_roff_30mmh_LF,\n",
    "    cum_roff_135mmh_LA, cum_roff_55mmhA_LA, cum_roff_55mmhB_LA, cum_roff_30mmh_LA)\n",
    "\n",
    "\n",
    "time_size_135mmh = water2_ktest[:, 33]\n",
    "time_size_55mmhA = water2_ktest[:, 34]\n",
    "time_size_55mmhB = water2_ktest[:, 35]\n",
    "time_size_30mmh = water2_ktest[:, 36]\n",
    "\n",
    "time_sizes2 = [time_size_135mmh, time_size_135mmh,\n",
    "               time_size_55mmhA, time_size_55mmhA,\n",
    "               time_size_55mmhB, time_size_55mmhB,\n",
    "               time_size_30mmh, time_size_30mmh]"
   ]
  },
  {
   "cell_type": "markdown",
   "metadata": {},
   "source": [
    "## Transport - 2nd pulse"
   ]
  },
  {
   "cell_type": "markdown",
   "metadata": {},
   "source": [
    "** Initial and observed mass in leachate and ponding **"
   ]
  },
  {
   "cell_type": "code",
   "execution_count": null,
   "metadata": {
    "collapsed": true
   },
   "outputs": [],
   "source": [
    "# S-metolachlor Crop, 2nd pulse.\n",
    "smCr_dict_S_2nd = {\n",
    "    'a_high_0d': (3698.64, 2.4, 1.9, 1660, 0.1, 0.1),\n",
    "    'b_high_1d': (2992.53, 16.8, 1.1, 1404, 1.0, 0.1),\n",
    "    'c_med12_0d': (3688.61, 82.5, 'nan', 1661, 4.6, 'nan'),\n",
    "    'd_med12_1d': (3036.55, 'nan', 3.4, 1401, 'nan', 0.2),\n",
    "    'e_med30_0d': (3509.28, 37.9, 2.4, 1675, 2.1, 0.1),\n",
    "    'f_med30_1d': (2937.71, 24.3, 8.6, 1408, 1.4, 0.5),\n",
    "    'g_low_0d': (3694.88, 102.7, 'nan', 1661, 5.7, 'nan'),\n",
    "    'h_low_1d': (2968.65, 'nan', 5.0, 1406, 'nan', 0.3)\n",
    "}\n",
    "\n",
    "smCr_dict_L_2nd = {\n",
    "    'a_high_0d': (2466.7, 43.7, 1.4, 1138, 2.44, 0.08),\n",
    "    'b_high_1d': (1985.26, 19.9, 0.4, 951, 1.1, 0.02),\n",
    "    'c_med12_0d': (2468.61, 66.8, 'nan', 1137, 3.72, 'nan'),\n",
    "    'd_med12_1d': (1998.26, 37.9, 'nan', 950, 2.1, 'nan'),\n",
    "    'e_med30_0d': (2300.56, 16.8, 5.6, 1150, 1., 0.31),\n",
    "    'f_med30_1d': (1965.55, 46.4, 1.4, 952, 2.59, 0.08),\n",
    "    'g_low_0d': (2401.14, 22.7, 3.4, 1143, 1.26, 0.19),\n",
    "    'h_low_1d': (1957.78, 16.7, 4.2, 953, 0.93, 0.24)\n",
    "}"
   ]
  },
  {
   "cell_type": "markdown",
   "metadata": {},
   "source": [
    "#### Change in organic matter characterisitics"
   ]
  },
  {
   "cell_type": "code",
   "execution_count": null,
   "metadata": {
    "collapsed": true
   },
   "outputs": [],
   "source": [
    "# ignored..."
   ]
  },
  {
   "cell_type": "markdown",
   "metadata": {},
   "source": [
    "### Computation transport - 2nd Pulse"
   ]
  },
  {
   "cell_type": "markdown",
   "metadata": {},
   "source": [
    "#### Kd optimal (sterile)"
   ]
  },
  {
   "cell_type": "code",
   "execution_count": null,
   "metadata": {
    "collapsed": false
   },
   "outputs": [],
   "source": [
    "\n",
    "pest_sterile_2nd = pest_linear(\n",
    "    Kd_smeto_sterile,\n",
    "    smCr_dict_S_2nd,\n",
    "    pb_crop_i2, pb_crop_f2,\n",
    "    percol_data2, runoff_data2,\n",
    "    time_sizes2,\n",
    "    area, soil_height2,\n",
    "    d, runoff_vel,\n",
    "    soil = \"Alteck\",\n",
    "    isFirstCycle = False,\n",
    "    isLiving = False)\n"
   ]
  },
  {
   "cell_type": "markdown",
   "metadata": {},
   "source": [
    "#### Kd optimal (living)"
   ]
  },
  {
   "cell_type": "code",
   "execution_count": null,
   "metadata": {
    "collapsed": false
   },
   "outputs": [],
   "source": [
    "\n",
    "pest_living_2nd = pest_linear(\n",
    "    Kd_smeto_living,\n",
    "    smCr_dict_L_2nd,\n",
    "    pb_crop_i2, pb_crop_f2,\n",
    "    percol_data2, runoff_data2,\n",
    "    time_sizes2,\n",
    "    area, soil_height2,\n",
    "    d, runoff_vel,\n",
    "    soil = \"Alteck\",\n",
    "    isFirstCycle = False,\n",
    "    isLiving = True)\n"
   ]
  },
  {
   "cell_type": "markdown",
   "metadata": {},
   "source": [
    "#### Sterile time series"
   ]
  },
  {
   "cell_type": "code",
   "execution_count": null,
   "metadata": {
    "collapsed": false
   },
   "outputs": [],
   "source": [
    "# Time axis\n",
    "cum_time_30min = pest_sterile_2nd[:, 0]\n",
    "\n",
    "# Cumulative leachate sterilized\n",
    "high_0d_cum_mass_out_dt = pest_sterile_2nd[:, 1]\n",
    "high_1d_cum_mass_out_dt = pest_sterile_2nd[:, 2]\n",
    "\n",
    "med12_0d_cum_mass_out_dt = pest_sterile_2nd[:, 3]\n",
    "med12_1d_cum_mass_out_dt = pest_sterile_2nd[:, 4]\n",
    "\n",
    "med30_0d_cum_mass_out_dt = pest_sterile_2nd[:, 5]\n",
    "med30_1d_cum_mass_out_dt = pest_sterile_2nd[:, 6]\n",
    "\n",
    "low_0d_cum_mass_out_dt = pest_sterile_2nd[:, 7]\n",
    "low_1d_cum_mass_out_dt = pest_sterile_2nd[:, 8]\n",
    "\n",
    "# Ponded mass\n",
    "high_0d_overmass_dt = pest_sterile_2nd[:, 9]\n",
    "high_1d_overmass_dt = pest_sterile_2nd[:, 10]\n",
    "med12_0d_overmass_dt = pest_sterile_2nd[:, 11]\n",
    "med12_1d_overmass_dt = pest_sterile_2nd[:, 12]\n",
    "\n",
    "med30_0d_overmass_dt = pest_sterile_2nd[:, 13]\n",
    "med30_1d_overmass_dt = pest_sterile_2nd[:, 14]\n",
    "low_0d_overmass_dt = pest_sterile_2nd[:, 15]\n",
    "low_1d_overmass_dt = pest_sterile_2nd[:, 16]\n",
    "\n",
    "mass_percol_sterile2 = stackdata8(\n",
    "    cum_time_30min,\n",
    "    high_0d_cum_mass_out_dt, high_1d_cum_mass_out_dt, \n",
    "    med12_0d_cum_mass_out_dt, med12_1d_cum_mass_out_dt, \n",
    "    med30_0d_cum_mass_out_dt, med30_1d_cum_mass_out_dt,\n",
    "    low_0d_cum_mass_out_dt, low_1d_cum_mass_out_dt)\n",
    "\n",
    "mass_pond_sterile2 = stackdata8(\n",
    "    cum_time_30min,\n",
    "    high_0d_overmass_dt, high_1d_overmass_dt,\n",
    "    med12_0d_overmass_dt, med12_1d_overmass_dt,\n",
    "    med30_0d_overmass_dt, med30_1d_overmass_dt,\n",
    "    low_0d_overmass_dt, low_1d_overmass_dt)\n"
   ]
  },
  {
   "cell_type": "markdown",
   "metadata": {},
   "source": [
    "#### Living time series"
   ]
  },
  {
   "cell_type": "code",
   "execution_count": null,
   "metadata": {
    "collapsed": true
   },
   "outputs": [],
   "source": [
    "# Time axis\n",
    "cum_time_30min = pest_living_2nd[:, 0]\n",
    "\n",
    "# Cumulative leachate sterilized\n",
    "high_0d_cum_mass_out_dt = pest_living_2nd[:, 1]\n",
    "high_1d_cum_mass_out_dt = pest_living_2nd[:, 2]\n",
    "\n",
    "med12_0d_cum_mass_out_dt = pest_living_2nd[:, 3]\n",
    "med12_1d_cum_mass_out_dt = pest_living_2nd[:, 4]\n",
    "\n",
    "med30_0d_cum_mass_out_dt = pest_living_2nd[:, 5]\n",
    "med30_1d_cum_mass_out_dt = pest_living_2nd[:, 6]\n",
    "\n",
    "low_0d_cum_mass_out_dt = pest_living_2nd[:, 7]\n",
    "low_1d_cum_mass_out_dt = pest_living_2nd[:, 8]\n",
    "\n",
    "# Ponded mass\n",
    "high_0d_overmass_dt = pest_living_2nd[:, 9]\n",
    "high_1d_overmass_dt = pest_living_2nd[:, 10]\n",
    "med12_0d_overmass_dt = pest_living_2nd[:, 11]\n",
    "med12_1d_overmass_dt = pest_living_2nd[:, 12]\n",
    "\n",
    "med30_0d_overmass_dt = pest_living_2nd[:, 13]\n",
    "med30_1d_overmass_dt = pest_living_2nd[:, 14]\n",
    "low_0d_overmass_dt = pest_living_2nd[:, 15]\n",
    "low_1d_overmass_dt = pest_living_2nd[:, 16]\n",
    "\n",
    "mass_percol_living2 = stackdata8(\n",
    "    cum_time_30min,\n",
    "    high_0d_cum_mass_out_dt, high_1d_cum_mass_out_dt,\n",
    "    med12_0d_cum_mass_out_dt, med12_1d_cum_mass_out_dt,\n",
    "    med30_0d_cum_mass_out_dt, med30_1d_cum_mass_out_dt,\n",
    "    low_0d_cum_mass_out_dt, low_1d_cum_mass_out_dt)\n",
    "\n",
    "mass_pond_living2 = stackdata8(\n",
    "    cum_time_30min,\n",
    "    high_0d_overmass_dt, high_1d_overmass_dt,\n",
    "    med12_0d_overmass_dt, med12_1d_overmass_dt,\n",
    "    med30_0d_overmass_dt, med30_1d_overmass_dt,\n",
    "    low_0d_overmass_dt, low_1d_overmass_dt)\n",
    "\n"
   ]
  },
  {
   "cell_type": "markdown",
   "metadata": {},
   "source": [
    "## Plotting transport - S-metolachlor"
   ]
  },
  {
   "cell_type": "markdown",
   "metadata": {},
   "source": [
    "### Sterile (2nd Pulse, Crop Soil)"
   ]
  },
  {
   "cell_type": "code",
   "execution_count": null,
   "metadata": {
    "collapsed": false
   },
   "outputs": [],
   "source": [
    "pestiplot_condition(\n",
    "    mass_percol_sterile2,\n",
    "    smCr_dict_S_2nd,\n",
    "    'S-metolachlor',\n",
    "    soil_type='Crop Soil',\n",
    "    cycle = '2nd pulse',\n",
    "    LEACH = True,\n",
    "    STERILE = True\n",
    ")"
   ]
  },
  {
   "cell_type": "code",
   "execution_count": null,
   "metadata": {
    "collapsed": false
   },
   "outputs": [],
   "source": [
    "pestiplot_condition(\n",
    "    mass_pond_sterile2,\n",
    "    smCr_dict_S_2nd,\n",
    "    'S-metolachlor',\n",
    "    soil_type='Crop Soil',\n",
    "    cycle = '2nd pulse',\n",
    "    LEACH = False,\n",
    "    STERILE = True\n",
    ")"
   ]
  },
  {
   "cell_type": "markdown",
   "metadata": {},
   "source": [
    "### Living (2nd Pulse, Crop Soil)"
   ]
  },
  {
   "cell_type": "code",
   "execution_count": null,
   "metadata": {
    "collapsed": false
   },
   "outputs": [],
   "source": [
    "pestiplot_condition(\n",
    "    mass_percol_living2,\n",
    "    smCr_dict_L_2nd,\n",
    "    'S-metolachlor',\n",
    "    soil_type='Crop Soil',\n",
    "    cycle = '2nd pulse',\n",
    "    LEACH = True,\n",
    "    STERILE = False\n",
    ")"
   ]
  },
  {
   "cell_type": "code",
   "execution_count": null,
   "metadata": {
    "collapsed": false,
    "scrolled": false
   },
   "outputs": [],
   "source": [
    "pestiplot_condition(\n",
    "    mass_pond_living2,\n",
    "    smCr_dict_L_2nd,\n",
    "    'S-metolachlor',\n",
    "    soil_type='Crop Soil',\n",
    "    cycle = '2nd pulse',\n",
    "    LEACH = False,\n",
    "    STERILE = False\n",
    ")"
   ]
  },
  {
   "cell_type": "markdown",
   "metadata": {},
   "source": [
    "END NOTEBOOK"
   ]
  }
 ],
 "metadata": {
  "anaconda-cloud": {},
  "kernelspec": {
   "display_name": "Python [Root]",
   "language": "python",
   "name": "Python [Root]"
  },
  "language_info": {
   "codemirror_mode": {
    "name": "ipython",
    "version": 3
   },
   "file_extension": ".py",
   "mimetype": "text/x-python",
   "name": "python",
   "nbconvert_exporter": "python",
   "pygments_lexer": "ipython3",
   "version": "3.5.2"
  }
 },
 "nbformat": 4,
 "nbformat_minor": 0
}
